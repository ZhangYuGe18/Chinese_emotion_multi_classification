{
 "cells": [
  {
   "cell_type": "code",
   "execution_count": 3,
   "metadata": {},
   "outputs": [],
   "source": [
    "import os\n",
    "import joblib\n",
    "import jieba\n",
    "import pandas as pd\n",
    "import re\n",
    "import numpy as np\n",
    "from tqdm import tqdm"
   ]
  },
  {
   "cell_type": "markdown",
   "metadata": {},
   "source": [
    "# 数据预处理"
   ]
  },
  {
   "cell_type": "markdown",
   "metadata": {},
   "source": [
    "## 数据读入"
   ]
  },
  {
   "cell_type": "code",
   "execution_count": 162,
   "metadata": {},
   "outputs": [
    {
     "name": "stdout",
     "output_type": "stream",
     "text": [
      "一共有：768条文本\n"
     ]
    }
   ],
   "source": [
    "# 设置要读取的文件夹路径和要转换为列表的行号（从0开始计数）\n",
    "folder_path = './message'\n",
    "row_index = '详细内容'\n",
    "\n",
    "# 初始化一个空列表，用于存储所有CSV文件的指定行\n",
    "data_raw = []\n",
    "# 遍历文件夹中的所有CSV文件\n",
    "for filename in os.listdir(folder_path):\n",
    "    if filename.endswith('.csv'):\n",
    "        file_path = os.path.join(folder_path, filename)\n",
    "        # 使用pandas读取CSV文件，并将指定行转换为列表\n",
    "        df = pd.read_csv(file_path)\n",
    "        row_list = df[row_index].tolist()\n",
    "        # 将该文件的指定行列表添加到结果列表中\n",
    "        data_raw.extend(row_list)\n",
    "\n",
    "print(\"一共有：\" + str(len(data_raw)) + \"条文本\")"
   ]
  },
  {
   "cell_type": "markdown",
   "metadata": {},
   "source": [
    "## 删去停用词以及对文本进行分词"
   ]
  },
  {
   "cell_type": "code",
   "execution_count": 163,
   "metadata": {},
   "outputs": [
    {
     "name": "stderr",
     "output_type": "stream",
     "text": [
      "100%|██████████████████████████████████████████████████████████████████████████████| 768/768 [00:00<00:00, 5086.21it/s]\n"
     ]
    },
    {
     "name": "stdout",
     "output_type": "stream",
     "text": [
      "Frist process compeleted\n"
     ]
    },
    {
     "name": "stderr",
     "output_type": "stream",
     "text": [
      "100%|██████████████████████████████████████████████████████████████████████████████| 768/768 [00:00<00:00, 1517.70it/s]\n"
     ]
    },
    {
     "name": "stdout",
     "output_type": "stream",
     "text": [
      "cut sentence compeleted\n"
     ]
    },
    {
     "name": "stderr",
     "output_type": "stream",
     "text": [
      "100%|██████████████████████████████████████████████████████████████████████████████| 768/768 [00:00<00:00, 1000.00it/s]"
     ]
    },
    {
     "name": "stdout",
     "output_type": "stream",
     "text": [
      "pretreatment compeleted\n"
     ]
    },
    {
     "name": "stderr",
     "output_type": "stream",
     "text": [
      "\n"
     ]
    }
   ],
   "source": [
    "data_words = []\n",
    "#只保留汉字\n",
    "for i in tqdm(data_raw):\n",
    "    if not i or str(i)=='nan':\n",
    "        continue\n",
    "    out_str = ''\n",
    "    for word in i:\n",
    "        if re.compile(r\"[\\u4e00-\\u9fa5]\").findall(word):\n",
    "            out_str += word\n",
    "    data_words.append(out_str)\n",
    "print('Frist process compeleted')\n",
    "#记载自定义词典\n",
    "#jieba.load_userdict(r\"./dict/owner_dict.txt\")\n",
    "#分词\n",
    "cut_data = []\n",
    "for doc in tqdm(data_words):\n",
    "    document3_cut = jieba.cut(doc,use_paddle=True)\n",
    "    cut_data.append(' '.join(document3_cut))\n",
    "print('cut sentence compeleted')\n",
    "#去停用词\n",
    "data = []\n",
    "index_data = []\n",
    "with open('./config/hit_stopwords.txt',encoding = \"utf-8\") as f:\n",
    "    stopwords = f.read()\n",
    "    stopwords = stopwords.strip().split('\\n')\n",
    "for i in tqdm(cut_data):\n",
    "    words = i.split(' ')\n",
    "    for word in words[::-1]:\n",
    "        if word in stopwords or len(word)<2:\n",
    "            words.remove(word)\n",
    "    if len(words) > 1:\n",
    "        data.append(' '.join(words))\n",
    "print('pretreatment compeleted')"
   ]
  },
  {
   "cell_type": "markdown",
   "metadata": {},
   "source": [
    "# Bert_LDA"
   ]
  },
  {
   "cell_type": "markdown",
   "metadata": {},
   "source": [
    "## 预训练模型加载"
   ]
  },
  {
   "cell_type": "code",
   "execution_count": 2,
   "metadata": {},
   "outputs": [
    {
     "data": {
      "text/plain": [
       "<gensim.models.keyedvectors.KeyedVectors at 0x1bd66baefd0>"
      ]
     },
     "execution_count": 2,
     "metadata": {},
     "output_type": "execute_result"
    }
   ],
   "source": [
    "from gensim.models import KeyedVectors\n",
    "txt_file_path = r\"D:\\gitee\\emotive_classification\\ipynb\\config\\tencent-embedding-s.txt\"\n",
    "chinese_models = KeyedVectors.load_word2vec_format(txt_file_path, unicode_errors='ignore', binary=False)\n",
    "chinese_models"
   ]
  },
  {
   "cell_type": "markdown",
   "metadata": {},
   "source": [
    "## 模型搭建"
   ]
  },
  {
   "cell_type": "code",
   "execution_count": 1,
   "metadata": {},
   "outputs": [],
   "source": [
    "from bertopic import BERTopic"
   ]
  },
  {
   "cell_type": "code",
   "execution_count": 167,
   "metadata": {},
   "outputs": [],
   "source": [
    "del topic_model\n",
    "topic_model = BERTopic(language=\"chinese (simplified)\", \n",
    "                       embedding_model=chinese_models,\n",
    "                       calculate_probabilities=True,\n",
    "                       verbose=True)"
   ]
  },
  {
   "cell_type": "code",
   "execution_count": 168,
   "metadata": {},
   "outputs": [
    {
     "name": "stderr",
     "output_type": "stream",
     "text": [
      "100%|██████████████████████████████████████████████████████████████████████████████| 768/768 [00:00<00:00, 3657.13it/s]\n",
      "2023-04-26 16:35:23,368 - BERTopic - Transformed documents to Embeddings\n",
      "2023-04-26 16:35:26,238 - BERTopic - Reduced dimensionality\n",
      "2023-04-26 16:35:26,311 - BERTopic - Clustered reduced embeddings\n"
     ]
    }
   ],
   "source": [
    "topics, probs = topic_model.fit_transform(data)"
   ]
  },
  {
   "cell_type": "markdown",
   "metadata": {},
   "source": [
    "## 结果可视化"
   ]
  },
  {
   "cell_type": "code",
   "execution_count": 169,
   "metadata": {},
   "outputs": [
    {
     "data": {
      "application/vnd.plotly.v1+json": {
       "config": {
        "plotlyServerURL": "https://plot.ly"
       },
       "data": [
        {
         "customdata": [
          [
           0,
           "道路 | 望京 | 建议 | 交通 | 地区",
           260
          ],
          [
           1,
           "小区 | 改造 | 居民 | 业主 | 领导",
           105
          ],
          [
           2,
           "退费 | 退款 | 公司 | 报名 | 北京",
           77
          ],
          [
           3,
           "影响 | 噪音 | 居民 | 扰民 | 严重",
           50
          ],
          [
           4,
           "孩子 | 小学 | 学校 | 家长 | 政策",
           49
          ],
          [
           5,
           "朝阳区 | 公司 | 注册 | 市场 | 落户",
           30
          ],
          [
           6,
           "车位 | 停车 | 固定 | 车辆 | 居委会",
           28
          ],
          [
           7,
           "充电 | 电动车 | 安装 | 新能源 | 社区",
           20
          ],
          [
           8,
           "检测 | 核酸 | 防疫 | 市民 | 采样",
           15
          ],
          [
           9,
           "公园 | 健身 | 活动 | 场所 | 开放",
           15
          ]
         ],
         "hovertemplate": "<b>Topic %{customdata[0]}</b><br>Words: %{customdata[1]}<br>Size: %{customdata[2]}",
         "legendgroup": "",
         "marker": {
          "color": "#B0BEC5",
          "line": {
           "color": "DarkSlateGrey",
           "width": 2
          },
          "size": [
           260,
           105,
           77,
           50,
           49,
           30,
           28,
           20,
           15,
           15
          ],
          "sizemode": "area",
          "sizeref": 0.1625,
          "symbol": "circle"
         },
         "mode": "markers",
         "name": "",
         "orientation": "v",
         "showlegend": false,
         "type": "scatter",
         "x": [
          15.921624,
          15.830028,
          19.761612,
          15.498024,
          20.611877,
          20.135822,
          0.95995903,
          1.445771,
          0.36245954,
          1.6914452
         ],
         "xaxis": "x",
         "y": [
          -6.3931665,
          -6.9714837,
          13.08919,
          -7.285659,
          13.468106,
          13.424727,
          12.8886595,
          13.534471,
          13.143193,
          14.081148
         ],
         "yaxis": "y"
        }
       ],
       "layout": {
        "annotations": [
         {
          "showarrow": false,
          "text": "D1",
          "x": 0.3080906093120575,
          "y": 3.907406353950501,
          "yshift": 10
         },
         {
          "showarrow": false,
          "text": "D2",
          "x": 12.005874833464622,
          "xshift": 10,
          "y": 16.19332036972046
         }
        ],
        "height": 650,
        "hoverlabel": {
         "bgcolor": "white",
         "font": {
          "family": "Rockwell",
          "size": 16
         }
        },
        "legend": {
         "itemsizing": "constant",
         "tracegroupgap": 0
        },
        "margin": {
         "t": 60
        },
        "shapes": [
         {
          "line": {
           "color": "#CFD8DC",
           "width": 2
          },
          "type": "line",
          "x0": 12.005874833464622,
          "x1": 12.005874833464622,
          "y0": -8.378507661819459,
          "y1": 16.19332036972046
         },
         {
          "line": {
           "color": "#9E9E9E",
           "width": 2
          },
          "type": "line",
          "x0": 0.3080906093120575,
          "x1": 23.703659057617188,
          "y0": 3.907406353950501,
          "y1": 3.907406353950501
         }
        ],
        "sliders": [
         {
          "active": 0,
          "pad": {
           "t": 50
          },
          "steps": [
           {
            "args": [
             {
              "marker.color": [
               [
                "red",
                "#B0BEC5",
                "#B0BEC5",
                "#B0BEC5",
                "#B0BEC5",
                "#B0BEC5",
                "#B0BEC5",
                "#B0BEC5",
                "#B0BEC5",
                "#B0BEC5"
               ]
              ]
             }
            ],
            "label": "Topic 0",
            "method": "update"
           },
           {
            "args": [
             {
              "marker.color": [
               [
                "#B0BEC5",
                "red",
                "#B0BEC5",
                "#B0BEC5",
                "#B0BEC5",
                "#B0BEC5",
                "#B0BEC5",
                "#B0BEC5",
                "#B0BEC5",
                "#B0BEC5"
               ]
              ]
             }
            ],
            "label": "Topic 1",
            "method": "update"
           },
           {
            "args": [
             {
              "marker.color": [
               [
                "#B0BEC5",
                "#B0BEC5",
                "red",
                "#B0BEC5",
                "#B0BEC5",
                "#B0BEC5",
                "#B0BEC5",
                "#B0BEC5",
                "#B0BEC5",
                "#B0BEC5"
               ]
              ]
             }
            ],
            "label": "Topic 2",
            "method": "update"
           },
           {
            "args": [
             {
              "marker.color": [
               [
                "#B0BEC5",
                "#B0BEC5",
                "#B0BEC5",
                "red",
                "#B0BEC5",
                "#B0BEC5",
                "#B0BEC5",
                "#B0BEC5",
                "#B0BEC5",
                "#B0BEC5"
               ]
              ]
             }
            ],
            "label": "Topic 3",
            "method": "update"
           },
           {
            "args": [
             {
              "marker.color": [
               [
                "#B0BEC5",
                "#B0BEC5",
                "#B0BEC5",
                "#B0BEC5",
                "red",
                "#B0BEC5",
                "#B0BEC5",
                "#B0BEC5",
                "#B0BEC5",
                "#B0BEC5"
               ]
              ]
             }
            ],
            "label": "Topic 4",
            "method": "update"
           },
           {
            "args": [
             {
              "marker.color": [
               [
                "#B0BEC5",
                "#B0BEC5",
                "#B0BEC5",
                "#B0BEC5",
                "#B0BEC5",
                "red",
                "#B0BEC5",
                "#B0BEC5",
                "#B0BEC5",
                "#B0BEC5"
               ]
              ]
             }
            ],
            "label": "Topic 5",
            "method": "update"
           },
           {
            "args": [
             {
              "marker.color": [
               [
                "#B0BEC5",
                "#B0BEC5",
                "#B0BEC5",
                "#B0BEC5",
                "#B0BEC5",
                "#B0BEC5",
                "red",
                "#B0BEC5",
                "#B0BEC5",
                "#B0BEC5"
               ]
              ]
             }
            ],
            "label": "Topic 6",
            "method": "update"
           },
           {
            "args": [
             {
              "marker.color": [
               [
                "#B0BEC5",
                "#B0BEC5",
                "#B0BEC5",
                "#B0BEC5",
                "#B0BEC5",
                "#B0BEC5",
                "#B0BEC5",
                "red",
                "#B0BEC5",
                "#B0BEC5"
               ]
              ]
             }
            ],
            "label": "Topic 7",
            "method": "update"
           },
           {
            "args": [
             {
              "marker.color": [
               [
                "#B0BEC5",
                "#B0BEC5",
                "#B0BEC5",
                "#B0BEC5",
                "#B0BEC5",
                "#B0BEC5",
                "#B0BEC5",
                "#B0BEC5",
                "red",
                "#B0BEC5"
               ]
              ]
             }
            ],
            "label": "Topic 8",
            "method": "update"
           },
           {
            "args": [
             {
              "marker.color": [
               [
                "#B0BEC5",
                "#B0BEC5",
                "#B0BEC5",
                "#B0BEC5",
                "#B0BEC5",
                "#B0BEC5",
                "#B0BEC5",
                "#B0BEC5",
                "#B0BEC5",
                "red"
               ]
              ]
             }
            ],
            "label": "Topic 9",
            "method": "update"
           }
          ]
         }
        ],
        "template": {
         "data": {
          "bar": [
           {
            "error_x": {
             "color": "rgb(36,36,36)"
            },
            "error_y": {
             "color": "rgb(36,36,36)"
            },
            "marker": {
             "line": {
              "color": "white",
              "width": 0.5
             },
             "pattern": {
              "fillmode": "overlay",
              "size": 10,
              "solidity": 0.2
             }
            },
            "type": "bar"
           }
          ],
          "barpolar": [
           {
            "marker": {
             "line": {
              "color": "white",
              "width": 0.5
             },
             "pattern": {
              "fillmode": "overlay",
              "size": 10,
              "solidity": 0.2
             }
            },
            "type": "barpolar"
           }
          ],
          "carpet": [
           {
            "aaxis": {
             "endlinecolor": "rgb(36,36,36)",
             "gridcolor": "white",
             "linecolor": "white",
             "minorgridcolor": "white",
             "startlinecolor": "rgb(36,36,36)"
            },
            "baxis": {
             "endlinecolor": "rgb(36,36,36)",
             "gridcolor": "white",
             "linecolor": "white",
             "minorgridcolor": "white",
             "startlinecolor": "rgb(36,36,36)"
            },
            "type": "carpet"
           }
          ],
          "choropleth": [
           {
            "colorbar": {
             "outlinewidth": 1,
             "tickcolor": "rgb(36,36,36)",
             "ticks": "outside"
            },
            "type": "choropleth"
           }
          ],
          "contour": [
           {
            "colorbar": {
             "outlinewidth": 1,
             "tickcolor": "rgb(36,36,36)",
             "ticks": "outside"
            },
            "colorscale": [
             [
              0,
              "#440154"
             ],
             [
              0.1111111111111111,
              "#482878"
             ],
             [
              0.2222222222222222,
              "#3e4989"
             ],
             [
              0.3333333333333333,
              "#31688e"
             ],
             [
              0.4444444444444444,
              "#26828e"
             ],
             [
              0.5555555555555556,
              "#1f9e89"
             ],
             [
              0.6666666666666666,
              "#35b779"
             ],
             [
              0.7777777777777778,
              "#6ece58"
             ],
             [
              0.8888888888888888,
              "#b5de2b"
             ],
             [
              1,
              "#fde725"
             ]
            ],
            "type": "contour"
           }
          ],
          "contourcarpet": [
           {
            "colorbar": {
             "outlinewidth": 1,
             "tickcolor": "rgb(36,36,36)",
             "ticks": "outside"
            },
            "type": "contourcarpet"
           }
          ],
          "heatmap": [
           {
            "colorbar": {
             "outlinewidth": 1,
             "tickcolor": "rgb(36,36,36)",
             "ticks": "outside"
            },
            "colorscale": [
             [
              0,
              "#440154"
             ],
             [
              0.1111111111111111,
              "#482878"
             ],
             [
              0.2222222222222222,
              "#3e4989"
             ],
             [
              0.3333333333333333,
              "#31688e"
             ],
             [
              0.4444444444444444,
              "#26828e"
             ],
             [
              0.5555555555555556,
              "#1f9e89"
             ],
             [
              0.6666666666666666,
              "#35b779"
             ],
             [
              0.7777777777777778,
              "#6ece58"
             ],
             [
              0.8888888888888888,
              "#b5de2b"
             ],
             [
              1,
              "#fde725"
             ]
            ],
            "type": "heatmap"
           }
          ],
          "heatmapgl": [
           {
            "colorbar": {
             "outlinewidth": 1,
             "tickcolor": "rgb(36,36,36)",
             "ticks": "outside"
            },
            "colorscale": [
             [
              0,
              "#440154"
             ],
             [
              0.1111111111111111,
              "#482878"
             ],
             [
              0.2222222222222222,
              "#3e4989"
             ],
             [
              0.3333333333333333,
              "#31688e"
             ],
             [
              0.4444444444444444,
              "#26828e"
             ],
             [
              0.5555555555555556,
              "#1f9e89"
             ],
             [
              0.6666666666666666,
              "#35b779"
             ],
             [
              0.7777777777777778,
              "#6ece58"
             ],
             [
              0.8888888888888888,
              "#b5de2b"
             ],
             [
              1,
              "#fde725"
             ]
            ],
            "type": "heatmapgl"
           }
          ],
          "histogram": [
           {
            "marker": {
             "line": {
              "color": "white",
              "width": 0.6
             }
            },
            "type": "histogram"
           }
          ],
          "histogram2d": [
           {
            "colorbar": {
             "outlinewidth": 1,
             "tickcolor": "rgb(36,36,36)",
             "ticks": "outside"
            },
            "colorscale": [
             [
              0,
              "#440154"
             ],
             [
              0.1111111111111111,
              "#482878"
             ],
             [
              0.2222222222222222,
              "#3e4989"
             ],
             [
              0.3333333333333333,
              "#31688e"
             ],
             [
              0.4444444444444444,
              "#26828e"
             ],
             [
              0.5555555555555556,
              "#1f9e89"
             ],
             [
              0.6666666666666666,
              "#35b779"
             ],
             [
              0.7777777777777778,
              "#6ece58"
             ],
             [
              0.8888888888888888,
              "#b5de2b"
             ],
             [
              1,
              "#fde725"
             ]
            ],
            "type": "histogram2d"
           }
          ],
          "histogram2dcontour": [
           {
            "colorbar": {
             "outlinewidth": 1,
             "tickcolor": "rgb(36,36,36)",
             "ticks": "outside"
            },
            "colorscale": [
             [
              0,
              "#440154"
             ],
             [
              0.1111111111111111,
              "#482878"
             ],
             [
              0.2222222222222222,
              "#3e4989"
             ],
             [
              0.3333333333333333,
              "#31688e"
             ],
             [
              0.4444444444444444,
              "#26828e"
             ],
             [
              0.5555555555555556,
              "#1f9e89"
             ],
             [
              0.6666666666666666,
              "#35b779"
             ],
             [
              0.7777777777777778,
              "#6ece58"
             ],
             [
              0.8888888888888888,
              "#b5de2b"
             ],
             [
              1,
              "#fde725"
             ]
            ],
            "type": "histogram2dcontour"
           }
          ],
          "mesh3d": [
           {
            "colorbar": {
             "outlinewidth": 1,
             "tickcolor": "rgb(36,36,36)",
             "ticks": "outside"
            },
            "type": "mesh3d"
           }
          ],
          "parcoords": [
           {
            "line": {
             "colorbar": {
              "outlinewidth": 1,
              "tickcolor": "rgb(36,36,36)",
              "ticks": "outside"
             }
            },
            "type": "parcoords"
           }
          ],
          "pie": [
           {
            "automargin": true,
            "type": "pie"
           }
          ],
          "scatter": [
           {
            "fillpattern": {
             "fillmode": "overlay",
             "size": 10,
             "solidity": 0.2
            },
            "type": "scatter"
           }
          ],
          "scatter3d": [
           {
            "line": {
             "colorbar": {
              "outlinewidth": 1,
              "tickcolor": "rgb(36,36,36)",
              "ticks": "outside"
             }
            },
            "marker": {
             "colorbar": {
              "outlinewidth": 1,
              "tickcolor": "rgb(36,36,36)",
              "ticks": "outside"
             }
            },
            "type": "scatter3d"
           }
          ],
          "scattercarpet": [
           {
            "marker": {
             "colorbar": {
              "outlinewidth": 1,
              "tickcolor": "rgb(36,36,36)",
              "ticks": "outside"
             }
            },
            "type": "scattercarpet"
           }
          ],
          "scattergeo": [
           {
            "marker": {
             "colorbar": {
              "outlinewidth": 1,
              "tickcolor": "rgb(36,36,36)",
              "ticks": "outside"
             }
            },
            "type": "scattergeo"
           }
          ],
          "scattergl": [
           {
            "marker": {
             "colorbar": {
              "outlinewidth": 1,
              "tickcolor": "rgb(36,36,36)",
              "ticks": "outside"
             }
            },
            "type": "scattergl"
           }
          ],
          "scattermapbox": [
           {
            "marker": {
             "colorbar": {
              "outlinewidth": 1,
              "tickcolor": "rgb(36,36,36)",
              "ticks": "outside"
             }
            },
            "type": "scattermapbox"
           }
          ],
          "scatterpolar": [
           {
            "marker": {
             "colorbar": {
              "outlinewidth": 1,
              "tickcolor": "rgb(36,36,36)",
              "ticks": "outside"
             }
            },
            "type": "scatterpolar"
           }
          ],
          "scatterpolargl": [
           {
            "marker": {
             "colorbar": {
              "outlinewidth": 1,
              "tickcolor": "rgb(36,36,36)",
              "ticks": "outside"
             }
            },
            "type": "scatterpolargl"
           }
          ],
          "scatterternary": [
           {
            "marker": {
             "colorbar": {
              "outlinewidth": 1,
              "tickcolor": "rgb(36,36,36)",
              "ticks": "outside"
             }
            },
            "type": "scatterternary"
           }
          ],
          "surface": [
           {
            "colorbar": {
             "outlinewidth": 1,
             "tickcolor": "rgb(36,36,36)",
             "ticks": "outside"
            },
            "colorscale": [
             [
              0,
              "#440154"
             ],
             [
              0.1111111111111111,
              "#482878"
             ],
             [
              0.2222222222222222,
              "#3e4989"
             ],
             [
              0.3333333333333333,
              "#31688e"
             ],
             [
              0.4444444444444444,
              "#26828e"
             ],
             [
              0.5555555555555556,
              "#1f9e89"
             ],
             [
              0.6666666666666666,
              "#35b779"
             ],
             [
              0.7777777777777778,
              "#6ece58"
             ],
             [
              0.8888888888888888,
              "#b5de2b"
             ],
             [
              1,
              "#fde725"
             ]
            ],
            "type": "surface"
           }
          ],
          "table": [
           {
            "cells": {
             "fill": {
              "color": "rgb(237,237,237)"
             },
             "line": {
              "color": "white"
             }
            },
            "header": {
             "fill": {
              "color": "rgb(217,217,217)"
             },
             "line": {
              "color": "white"
             }
            },
            "type": "table"
           }
          ]
         },
         "layout": {
          "annotationdefaults": {
           "arrowhead": 0,
           "arrowwidth": 1
          },
          "autotypenumbers": "strict",
          "coloraxis": {
           "colorbar": {
            "outlinewidth": 1,
            "tickcolor": "rgb(36,36,36)",
            "ticks": "outside"
           }
          },
          "colorscale": {
           "diverging": [
            [
             0,
             "rgb(103,0,31)"
            ],
            [
             0.1,
             "rgb(178,24,43)"
            ],
            [
             0.2,
             "rgb(214,96,77)"
            ],
            [
             0.3,
             "rgb(244,165,130)"
            ],
            [
             0.4,
             "rgb(253,219,199)"
            ],
            [
             0.5,
             "rgb(247,247,247)"
            ],
            [
             0.6,
             "rgb(209,229,240)"
            ],
            [
             0.7,
             "rgb(146,197,222)"
            ],
            [
             0.8,
             "rgb(67,147,195)"
            ],
            [
             0.9,
             "rgb(33,102,172)"
            ],
            [
             1,
             "rgb(5,48,97)"
            ]
           ],
           "sequential": [
            [
             0,
             "#440154"
            ],
            [
             0.1111111111111111,
             "#482878"
            ],
            [
             0.2222222222222222,
             "#3e4989"
            ],
            [
             0.3333333333333333,
             "#31688e"
            ],
            [
             0.4444444444444444,
             "#26828e"
            ],
            [
             0.5555555555555556,
             "#1f9e89"
            ],
            [
             0.6666666666666666,
             "#35b779"
            ],
            [
             0.7777777777777778,
             "#6ece58"
            ],
            [
             0.8888888888888888,
             "#b5de2b"
            ],
            [
             1,
             "#fde725"
            ]
           ],
           "sequentialminus": [
            [
             0,
             "#440154"
            ],
            [
             0.1111111111111111,
             "#482878"
            ],
            [
             0.2222222222222222,
             "#3e4989"
            ],
            [
             0.3333333333333333,
             "#31688e"
            ],
            [
             0.4444444444444444,
             "#26828e"
            ],
            [
             0.5555555555555556,
             "#1f9e89"
            ],
            [
             0.6666666666666666,
             "#35b779"
            ],
            [
             0.7777777777777778,
             "#6ece58"
            ],
            [
             0.8888888888888888,
             "#b5de2b"
            ],
            [
             1,
             "#fde725"
            ]
           ]
          },
          "colorway": [
           "#1F77B4",
           "#FF7F0E",
           "#2CA02C",
           "#D62728",
           "#9467BD",
           "#8C564B",
           "#E377C2",
           "#7F7F7F",
           "#BCBD22",
           "#17BECF"
          ],
          "font": {
           "color": "rgb(36,36,36)"
          },
          "geo": {
           "bgcolor": "white",
           "lakecolor": "white",
           "landcolor": "white",
           "showlakes": true,
           "showland": true,
           "subunitcolor": "white"
          },
          "hoverlabel": {
           "align": "left"
          },
          "hovermode": "closest",
          "mapbox": {
           "style": "light"
          },
          "paper_bgcolor": "white",
          "plot_bgcolor": "white",
          "polar": {
           "angularaxis": {
            "gridcolor": "rgb(232,232,232)",
            "linecolor": "rgb(36,36,36)",
            "showgrid": false,
            "showline": true,
            "ticks": "outside"
           },
           "bgcolor": "white",
           "radialaxis": {
            "gridcolor": "rgb(232,232,232)",
            "linecolor": "rgb(36,36,36)",
            "showgrid": false,
            "showline": true,
            "ticks": "outside"
           }
          },
          "scene": {
           "xaxis": {
            "backgroundcolor": "white",
            "gridcolor": "rgb(232,232,232)",
            "gridwidth": 2,
            "linecolor": "rgb(36,36,36)",
            "showbackground": true,
            "showgrid": false,
            "showline": true,
            "ticks": "outside",
            "zeroline": false,
            "zerolinecolor": "rgb(36,36,36)"
           },
           "yaxis": {
            "backgroundcolor": "white",
            "gridcolor": "rgb(232,232,232)",
            "gridwidth": 2,
            "linecolor": "rgb(36,36,36)",
            "showbackground": true,
            "showgrid": false,
            "showline": true,
            "ticks": "outside",
            "zeroline": false,
            "zerolinecolor": "rgb(36,36,36)"
           },
           "zaxis": {
            "backgroundcolor": "white",
            "gridcolor": "rgb(232,232,232)",
            "gridwidth": 2,
            "linecolor": "rgb(36,36,36)",
            "showbackground": true,
            "showgrid": false,
            "showline": true,
            "ticks": "outside",
            "zeroline": false,
            "zerolinecolor": "rgb(36,36,36)"
           }
          },
          "shapedefaults": {
           "fillcolor": "black",
           "line": {
            "width": 0
           },
           "opacity": 0.3
          },
          "ternary": {
           "aaxis": {
            "gridcolor": "rgb(232,232,232)",
            "linecolor": "rgb(36,36,36)",
            "showgrid": false,
            "showline": true,
            "ticks": "outside"
           },
           "baxis": {
            "gridcolor": "rgb(232,232,232)",
            "linecolor": "rgb(36,36,36)",
            "showgrid": false,
            "showline": true,
            "ticks": "outside"
           },
           "bgcolor": "white",
           "caxis": {
            "gridcolor": "rgb(232,232,232)",
            "linecolor": "rgb(36,36,36)",
            "showgrid": false,
            "showline": true,
            "ticks": "outside"
           }
          },
          "title": {
           "x": 0.05
          },
          "xaxis": {
           "automargin": true,
           "gridcolor": "rgb(232,232,232)",
           "linecolor": "rgb(36,36,36)",
           "showgrid": false,
           "showline": true,
           "ticks": "outside",
           "title": {
            "standoff": 15
           },
           "zeroline": false,
           "zerolinecolor": "rgb(36,36,36)"
          },
          "yaxis": {
           "automargin": true,
           "gridcolor": "rgb(232,232,232)",
           "linecolor": "rgb(36,36,36)",
           "showgrid": false,
           "showline": true,
           "ticks": "outside",
           "title": {
            "standoff": 15
           },
           "zeroline": false,
           "zerolinecolor": "rgb(36,36,36)"
          }
         }
        },
        "title": {
         "font": {
          "color": "Black",
          "size": 22
         },
         "text": "<b>Intertopic Distance Map",
         "x": 0.5,
         "xanchor": "center",
         "y": 0.95,
         "yanchor": "top"
        },
        "width": 650,
        "xaxis": {
         "anchor": "y",
         "domain": [
          0,
          1
         ],
         "range": [
          0.3080906093120575,
          23.703659057617188
         ],
         "title": {
          "text": ""
         },
         "visible": false
        },
        "yaxis": {
         "anchor": "x",
         "domain": [
          0,
          1
         ],
         "range": [
          -8.378507661819459,
          16.19332036972046
         ],
         "title": {
          "text": ""
         },
         "visible": false
        }
       }
      },
      "text/html": [
       "<div>                            <div id=\"f870c0f0-f515-4a82-9086-4848a6ed4391\" class=\"plotly-graph-div\" style=\"height:650px; width:650px;\"></div>            <script type=\"text/javascript\">                require([\"plotly\"], function(Plotly) {                    window.PLOTLYENV=window.PLOTLYENV || {};                                    if (document.getElementById(\"f870c0f0-f515-4a82-9086-4848a6ed4391\")) {                    Plotly.newPlot(                        \"f870c0f0-f515-4a82-9086-4848a6ed4391\",                        [{\"customdata\":[[0,\"道路 | 望京 | 建议 | 交通 | 地区\",260],[1,\"小区 | 改造 | 居民 | 业主 | 领导\",105],[2,\"退费 | 退款 | 公司 | 报名 | 北京\",77],[3,\"影响 | 噪音 | 居民 | 扰民 | 严重\",50],[4,\"孩子 | 小学 | 学校 | 家长 | 政策\",49],[5,\"朝阳区 | 公司 | 注册 | 市场 | 落户\",30],[6,\"车位 | 停车 | 固定 | 车辆 | 居委会\",28],[7,\"充电 | 电动车 | 安装 | 新能源 | 社区\",20],[8,\"检测 | 核酸 | 防疫 | 市民 | 采样\",15],[9,\"公园 | 健身 | 活动 | 场所 | 开放\",15]],\"hovertemplate\":\"<b>Topic %{customdata[0]}</b><br>Words: %{customdata[1]}<br>Size: %{customdata[2]}\",\"legendgroup\":\"\",\"marker\":{\"color\":\"#B0BEC5\",\"size\":[260,105,77,50,49,30,28,20,15,15],\"sizemode\":\"area\",\"sizeref\":0.1625,\"symbol\":\"circle\",\"line\":{\"color\":\"DarkSlateGrey\",\"width\":2}},\"mode\":\"markers\",\"name\":\"\",\"orientation\":\"v\",\"showlegend\":false,\"x\":[15.921624,15.830028,19.761612,15.498024,20.611877,20.135822,0.95995903,1.445771,0.36245954,1.6914452],\"xaxis\":\"x\",\"y\":[-6.3931665,-6.9714837,13.08919,-7.285659,13.468106,13.424727,12.8886595,13.534471,13.143193,14.081148],\"yaxis\":\"y\",\"type\":\"scatter\"}],                        {\"template\":{\"data\":{\"barpolar\":[{\"marker\":{\"line\":{\"color\":\"white\",\"width\":0.5},\"pattern\":{\"fillmode\":\"overlay\",\"size\":10,\"solidity\":0.2}},\"type\":\"barpolar\"}],\"bar\":[{\"error_x\":{\"color\":\"rgb(36,36,36)\"},\"error_y\":{\"color\":\"rgb(36,36,36)\"},\"marker\":{\"line\":{\"color\":\"white\",\"width\":0.5},\"pattern\":{\"fillmode\":\"overlay\",\"size\":10,\"solidity\":0.2}},\"type\":\"bar\"}],\"carpet\":[{\"aaxis\":{\"endlinecolor\":\"rgb(36,36,36)\",\"gridcolor\":\"white\",\"linecolor\":\"white\",\"minorgridcolor\":\"white\",\"startlinecolor\":\"rgb(36,36,36)\"},\"baxis\":{\"endlinecolor\":\"rgb(36,36,36)\",\"gridcolor\":\"white\",\"linecolor\":\"white\",\"minorgridcolor\":\"white\",\"startlinecolor\":\"rgb(36,36,36)\"},\"type\":\"carpet\"}],\"choropleth\":[{\"colorbar\":{\"outlinewidth\":1,\"tickcolor\":\"rgb(36,36,36)\",\"ticks\":\"outside\"},\"type\":\"choropleth\"}],\"contourcarpet\":[{\"colorbar\":{\"outlinewidth\":1,\"tickcolor\":\"rgb(36,36,36)\",\"ticks\":\"outside\"},\"type\":\"contourcarpet\"}],\"contour\":[{\"colorbar\":{\"outlinewidth\":1,\"tickcolor\":\"rgb(36,36,36)\",\"ticks\":\"outside\"},\"colorscale\":[[0.0,\"#440154\"],[0.1111111111111111,\"#482878\"],[0.2222222222222222,\"#3e4989\"],[0.3333333333333333,\"#31688e\"],[0.4444444444444444,\"#26828e\"],[0.5555555555555556,\"#1f9e89\"],[0.6666666666666666,\"#35b779\"],[0.7777777777777778,\"#6ece58\"],[0.8888888888888888,\"#b5de2b\"],[1.0,\"#fde725\"]],\"type\":\"contour\"}],\"heatmapgl\":[{\"colorbar\":{\"outlinewidth\":1,\"tickcolor\":\"rgb(36,36,36)\",\"ticks\":\"outside\"},\"colorscale\":[[0.0,\"#440154\"],[0.1111111111111111,\"#482878\"],[0.2222222222222222,\"#3e4989\"],[0.3333333333333333,\"#31688e\"],[0.4444444444444444,\"#26828e\"],[0.5555555555555556,\"#1f9e89\"],[0.6666666666666666,\"#35b779\"],[0.7777777777777778,\"#6ece58\"],[0.8888888888888888,\"#b5de2b\"],[1.0,\"#fde725\"]],\"type\":\"heatmapgl\"}],\"heatmap\":[{\"colorbar\":{\"outlinewidth\":1,\"tickcolor\":\"rgb(36,36,36)\",\"ticks\":\"outside\"},\"colorscale\":[[0.0,\"#440154\"],[0.1111111111111111,\"#482878\"],[0.2222222222222222,\"#3e4989\"],[0.3333333333333333,\"#31688e\"],[0.4444444444444444,\"#26828e\"],[0.5555555555555556,\"#1f9e89\"],[0.6666666666666666,\"#35b779\"],[0.7777777777777778,\"#6ece58\"],[0.8888888888888888,\"#b5de2b\"],[1.0,\"#fde725\"]],\"type\":\"heatmap\"}],\"histogram2dcontour\":[{\"colorbar\":{\"outlinewidth\":1,\"tickcolor\":\"rgb(36,36,36)\",\"ticks\":\"outside\"},\"colorscale\":[[0.0,\"#440154\"],[0.1111111111111111,\"#482878\"],[0.2222222222222222,\"#3e4989\"],[0.3333333333333333,\"#31688e\"],[0.4444444444444444,\"#26828e\"],[0.5555555555555556,\"#1f9e89\"],[0.6666666666666666,\"#35b779\"],[0.7777777777777778,\"#6ece58\"],[0.8888888888888888,\"#b5de2b\"],[1.0,\"#fde725\"]],\"type\":\"histogram2dcontour\"}],\"histogram2d\":[{\"colorbar\":{\"outlinewidth\":1,\"tickcolor\":\"rgb(36,36,36)\",\"ticks\":\"outside\"},\"colorscale\":[[0.0,\"#440154\"],[0.1111111111111111,\"#482878\"],[0.2222222222222222,\"#3e4989\"],[0.3333333333333333,\"#31688e\"],[0.4444444444444444,\"#26828e\"],[0.5555555555555556,\"#1f9e89\"],[0.6666666666666666,\"#35b779\"],[0.7777777777777778,\"#6ece58\"],[0.8888888888888888,\"#b5de2b\"],[1.0,\"#fde725\"]],\"type\":\"histogram2d\"}],\"histogram\":[{\"marker\":{\"line\":{\"color\":\"white\",\"width\":0.6}},\"type\":\"histogram\"}],\"mesh3d\":[{\"colorbar\":{\"outlinewidth\":1,\"tickcolor\":\"rgb(36,36,36)\",\"ticks\":\"outside\"},\"type\":\"mesh3d\"}],\"parcoords\":[{\"line\":{\"colorbar\":{\"outlinewidth\":1,\"tickcolor\":\"rgb(36,36,36)\",\"ticks\":\"outside\"}},\"type\":\"parcoords\"}],\"pie\":[{\"automargin\":true,\"type\":\"pie\"}],\"scatter3d\":[{\"line\":{\"colorbar\":{\"outlinewidth\":1,\"tickcolor\":\"rgb(36,36,36)\",\"ticks\":\"outside\"}},\"marker\":{\"colorbar\":{\"outlinewidth\":1,\"tickcolor\":\"rgb(36,36,36)\",\"ticks\":\"outside\"}},\"type\":\"scatter3d\"}],\"scattercarpet\":[{\"marker\":{\"colorbar\":{\"outlinewidth\":1,\"tickcolor\":\"rgb(36,36,36)\",\"ticks\":\"outside\"}},\"type\":\"scattercarpet\"}],\"scattergeo\":[{\"marker\":{\"colorbar\":{\"outlinewidth\":1,\"tickcolor\":\"rgb(36,36,36)\",\"ticks\":\"outside\"}},\"type\":\"scattergeo\"}],\"scattergl\":[{\"marker\":{\"colorbar\":{\"outlinewidth\":1,\"tickcolor\":\"rgb(36,36,36)\",\"ticks\":\"outside\"}},\"type\":\"scattergl\"}],\"scattermapbox\":[{\"marker\":{\"colorbar\":{\"outlinewidth\":1,\"tickcolor\":\"rgb(36,36,36)\",\"ticks\":\"outside\"}},\"type\":\"scattermapbox\"}],\"scatterpolargl\":[{\"marker\":{\"colorbar\":{\"outlinewidth\":1,\"tickcolor\":\"rgb(36,36,36)\",\"ticks\":\"outside\"}},\"type\":\"scatterpolargl\"}],\"scatterpolar\":[{\"marker\":{\"colorbar\":{\"outlinewidth\":1,\"tickcolor\":\"rgb(36,36,36)\",\"ticks\":\"outside\"}},\"type\":\"scatterpolar\"}],\"scatter\":[{\"fillpattern\":{\"fillmode\":\"overlay\",\"size\":10,\"solidity\":0.2},\"type\":\"scatter\"}],\"scatterternary\":[{\"marker\":{\"colorbar\":{\"outlinewidth\":1,\"tickcolor\":\"rgb(36,36,36)\",\"ticks\":\"outside\"}},\"type\":\"scatterternary\"}],\"surface\":[{\"colorbar\":{\"outlinewidth\":1,\"tickcolor\":\"rgb(36,36,36)\",\"ticks\":\"outside\"},\"colorscale\":[[0.0,\"#440154\"],[0.1111111111111111,\"#482878\"],[0.2222222222222222,\"#3e4989\"],[0.3333333333333333,\"#31688e\"],[0.4444444444444444,\"#26828e\"],[0.5555555555555556,\"#1f9e89\"],[0.6666666666666666,\"#35b779\"],[0.7777777777777778,\"#6ece58\"],[0.8888888888888888,\"#b5de2b\"],[1.0,\"#fde725\"]],\"type\":\"surface\"}],\"table\":[{\"cells\":{\"fill\":{\"color\":\"rgb(237,237,237)\"},\"line\":{\"color\":\"white\"}},\"header\":{\"fill\":{\"color\":\"rgb(217,217,217)\"},\"line\":{\"color\":\"white\"}},\"type\":\"table\"}]},\"layout\":{\"annotationdefaults\":{\"arrowhead\":0,\"arrowwidth\":1},\"autotypenumbers\":\"strict\",\"coloraxis\":{\"colorbar\":{\"outlinewidth\":1,\"tickcolor\":\"rgb(36,36,36)\",\"ticks\":\"outside\"}},\"colorscale\":{\"diverging\":[[0.0,\"rgb(103,0,31)\"],[0.1,\"rgb(178,24,43)\"],[0.2,\"rgb(214,96,77)\"],[0.3,\"rgb(244,165,130)\"],[0.4,\"rgb(253,219,199)\"],[0.5,\"rgb(247,247,247)\"],[0.6,\"rgb(209,229,240)\"],[0.7,\"rgb(146,197,222)\"],[0.8,\"rgb(67,147,195)\"],[0.9,\"rgb(33,102,172)\"],[1.0,\"rgb(5,48,97)\"]],\"sequential\":[[0.0,\"#440154\"],[0.1111111111111111,\"#482878\"],[0.2222222222222222,\"#3e4989\"],[0.3333333333333333,\"#31688e\"],[0.4444444444444444,\"#26828e\"],[0.5555555555555556,\"#1f9e89\"],[0.6666666666666666,\"#35b779\"],[0.7777777777777778,\"#6ece58\"],[0.8888888888888888,\"#b5de2b\"],[1.0,\"#fde725\"]],\"sequentialminus\":[[0.0,\"#440154\"],[0.1111111111111111,\"#482878\"],[0.2222222222222222,\"#3e4989\"],[0.3333333333333333,\"#31688e\"],[0.4444444444444444,\"#26828e\"],[0.5555555555555556,\"#1f9e89\"],[0.6666666666666666,\"#35b779\"],[0.7777777777777778,\"#6ece58\"],[0.8888888888888888,\"#b5de2b\"],[1.0,\"#fde725\"]]},\"colorway\":[\"#1F77B4\",\"#FF7F0E\",\"#2CA02C\",\"#D62728\",\"#9467BD\",\"#8C564B\",\"#E377C2\",\"#7F7F7F\",\"#BCBD22\",\"#17BECF\"],\"font\":{\"color\":\"rgb(36,36,36)\"},\"geo\":{\"bgcolor\":\"white\",\"lakecolor\":\"white\",\"landcolor\":\"white\",\"showlakes\":true,\"showland\":true,\"subunitcolor\":\"white\"},\"hoverlabel\":{\"align\":\"left\"},\"hovermode\":\"closest\",\"mapbox\":{\"style\":\"light\"},\"paper_bgcolor\":\"white\",\"plot_bgcolor\":\"white\",\"polar\":{\"angularaxis\":{\"gridcolor\":\"rgb(232,232,232)\",\"linecolor\":\"rgb(36,36,36)\",\"showgrid\":false,\"showline\":true,\"ticks\":\"outside\"},\"bgcolor\":\"white\",\"radialaxis\":{\"gridcolor\":\"rgb(232,232,232)\",\"linecolor\":\"rgb(36,36,36)\",\"showgrid\":false,\"showline\":true,\"ticks\":\"outside\"}},\"scene\":{\"xaxis\":{\"backgroundcolor\":\"white\",\"gridcolor\":\"rgb(232,232,232)\",\"gridwidth\":2,\"linecolor\":\"rgb(36,36,36)\",\"showbackground\":true,\"showgrid\":false,\"showline\":true,\"ticks\":\"outside\",\"zeroline\":false,\"zerolinecolor\":\"rgb(36,36,36)\"},\"yaxis\":{\"backgroundcolor\":\"white\",\"gridcolor\":\"rgb(232,232,232)\",\"gridwidth\":2,\"linecolor\":\"rgb(36,36,36)\",\"showbackground\":true,\"showgrid\":false,\"showline\":true,\"ticks\":\"outside\",\"zeroline\":false,\"zerolinecolor\":\"rgb(36,36,36)\"},\"zaxis\":{\"backgroundcolor\":\"white\",\"gridcolor\":\"rgb(232,232,232)\",\"gridwidth\":2,\"linecolor\":\"rgb(36,36,36)\",\"showbackground\":true,\"showgrid\":false,\"showline\":true,\"ticks\":\"outside\",\"zeroline\":false,\"zerolinecolor\":\"rgb(36,36,36)\"}},\"shapedefaults\":{\"fillcolor\":\"black\",\"line\":{\"width\":0},\"opacity\":0.3},\"ternary\":{\"aaxis\":{\"gridcolor\":\"rgb(232,232,232)\",\"linecolor\":\"rgb(36,36,36)\",\"showgrid\":false,\"showline\":true,\"ticks\":\"outside\"},\"baxis\":{\"gridcolor\":\"rgb(232,232,232)\",\"linecolor\":\"rgb(36,36,36)\",\"showgrid\":false,\"showline\":true,\"ticks\":\"outside\"},\"bgcolor\":\"white\",\"caxis\":{\"gridcolor\":\"rgb(232,232,232)\",\"linecolor\":\"rgb(36,36,36)\",\"showgrid\":false,\"showline\":true,\"ticks\":\"outside\"}},\"title\":{\"x\":0.05},\"xaxis\":{\"automargin\":true,\"gridcolor\":\"rgb(232,232,232)\",\"linecolor\":\"rgb(36,36,36)\",\"showgrid\":false,\"showline\":true,\"ticks\":\"outside\",\"title\":{\"standoff\":15},\"zeroline\":false,\"zerolinecolor\":\"rgb(36,36,36)\"},\"yaxis\":{\"automargin\":true,\"gridcolor\":\"rgb(232,232,232)\",\"linecolor\":\"rgb(36,36,36)\",\"showgrid\":false,\"showline\":true,\"ticks\":\"outside\",\"title\":{\"standoff\":15},\"zeroline\":false,\"zerolinecolor\":\"rgb(36,36,36)\"}}},\"xaxis\":{\"anchor\":\"y\",\"domain\":[0.0,1.0],\"title\":{\"text\":\"\"},\"visible\":false,\"range\":[0.3080906093120575,23.703659057617188]},\"yaxis\":{\"anchor\":\"x\",\"domain\":[0.0,1.0],\"title\":{\"text\":\"\"},\"visible\":false,\"range\":[-8.378507661819459,16.19332036972046]},\"legend\":{\"tracegroupgap\":0,\"itemsizing\":\"constant\"},\"margin\":{\"t\":60},\"title\":{\"font\":{\"size\":22,\"color\":\"Black\"},\"text\":\"<b>Intertopic Distance Map\",\"y\":0.95,\"x\":0.5,\"xanchor\":\"center\",\"yanchor\":\"top\"},\"hoverlabel\":{\"font\":{\"size\":16,\"family\":\"Rockwell\"},\"bgcolor\":\"white\"},\"width\":650,\"height\":650,\"sliders\":[{\"active\":0,\"pad\":{\"t\":50},\"steps\":[{\"args\":[{\"marker.color\":[[\"red\",\"#B0BEC5\",\"#B0BEC5\",\"#B0BEC5\",\"#B0BEC5\",\"#B0BEC5\",\"#B0BEC5\",\"#B0BEC5\",\"#B0BEC5\",\"#B0BEC5\"]]}],\"label\":\"Topic 0\",\"method\":\"update\"},{\"args\":[{\"marker.color\":[[\"#B0BEC5\",\"red\",\"#B0BEC5\",\"#B0BEC5\",\"#B0BEC5\",\"#B0BEC5\",\"#B0BEC5\",\"#B0BEC5\",\"#B0BEC5\",\"#B0BEC5\"]]}],\"label\":\"Topic 1\",\"method\":\"update\"},{\"args\":[{\"marker.color\":[[\"#B0BEC5\",\"#B0BEC5\",\"red\",\"#B0BEC5\",\"#B0BEC5\",\"#B0BEC5\",\"#B0BEC5\",\"#B0BEC5\",\"#B0BEC5\",\"#B0BEC5\"]]}],\"label\":\"Topic 2\",\"method\":\"update\"},{\"args\":[{\"marker.color\":[[\"#B0BEC5\",\"#B0BEC5\",\"#B0BEC5\",\"red\",\"#B0BEC5\",\"#B0BEC5\",\"#B0BEC5\",\"#B0BEC5\",\"#B0BEC5\",\"#B0BEC5\"]]}],\"label\":\"Topic 3\",\"method\":\"update\"},{\"args\":[{\"marker.color\":[[\"#B0BEC5\",\"#B0BEC5\",\"#B0BEC5\",\"#B0BEC5\",\"red\",\"#B0BEC5\",\"#B0BEC5\",\"#B0BEC5\",\"#B0BEC5\",\"#B0BEC5\"]]}],\"label\":\"Topic 4\",\"method\":\"update\"},{\"args\":[{\"marker.color\":[[\"#B0BEC5\",\"#B0BEC5\",\"#B0BEC5\",\"#B0BEC5\",\"#B0BEC5\",\"red\",\"#B0BEC5\",\"#B0BEC5\",\"#B0BEC5\",\"#B0BEC5\"]]}],\"label\":\"Topic 5\",\"method\":\"update\"},{\"args\":[{\"marker.color\":[[\"#B0BEC5\",\"#B0BEC5\",\"#B0BEC5\",\"#B0BEC5\",\"#B0BEC5\",\"#B0BEC5\",\"red\",\"#B0BEC5\",\"#B0BEC5\",\"#B0BEC5\"]]}],\"label\":\"Topic 6\",\"method\":\"update\"},{\"args\":[{\"marker.color\":[[\"#B0BEC5\",\"#B0BEC5\",\"#B0BEC5\",\"#B0BEC5\",\"#B0BEC5\",\"#B0BEC5\",\"#B0BEC5\",\"red\",\"#B0BEC5\",\"#B0BEC5\"]]}],\"label\":\"Topic 7\",\"method\":\"update\"},{\"args\":[{\"marker.color\":[[\"#B0BEC5\",\"#B0BEC5\",\"#B0BEC5\",\"#B0BEC5\",\"#B0BEC5\",\"#B0BEC5\",\"#B0BEC5\",\"#B0BEC5\",\"red\",\"#B0BEC5\"]]}],\"label\":\"Topic 8\",\"method\":\"update\"},{\"args\":[{\"marker.color\":[[\"#B0BEC5\",\"#B0BEC5\",\"#B0BEC5\",\"#B0BEC5\",\"#B0BEC5\",\"#B0BEC5\",\"#B0BEC5\",\"#B0BEC5\",\"#B0BEC5\",\"red\"]]}],\"label\":\"Topic 9\",\"method\":\"update\"}]}],\"shapes\":[{\"line\":{\"color\":\"#CFD8DC\",\"width\":2},\"type\":\"line\",\"x0\":12.005874833464622,\"x1\":12.005874833464622,\"y0\":-8.378507661819459,\"y1\":16.19332036972046},{\"line\":{\"color\":\"#9E9E9E\",\"width\":2},\"type\":\"line\",\"x0\":0.3080906093120575,\"x1\":23.703659057617188,\"y0\":3.907406353950501,\"y1\":3.907406353950501}],\"annotations\":[{\"showarrow\":false,\"text\":\"D1\",\"x\":0.3080906093120575,\"y\":3.907406353950501,\"yshift\":10},{\"showarrow\":false,\"text\":\"D2\",\"x\":12.005874833464622,\"xshift\":10,\"y\":16.19332036972046}]},                        {\"responsive\": true}                    ).then(function(){\n",
       "                            \n",
       "var gd = document.getElementById('f870c0f0-f515-4a82-9086-4848a6ed4391');\n",
       "var x = new MutationObserver(function (mutations, observer) {{\n",
       "        var display = window.getComputedStyle(gd).display;\n",
       "        if (!display || display === 'none') {{\n",
       "            console.log([gd, 'removed!']);\n",
       "            Plotly.purge(gd);\n",
       "            observer.disconnect();\n",
       "        }}\n",
       "}});\n",
       "\n",
       "// Listen for the removal of the full notebook cells\n",
       "var notebookContainer = gd.closest('#notebook-container');\n",
       "if (notebookContainer) {{\n",
       "    x.observe(notebookContainer, {childList: true});\n",
       "}}\n",
       "\n",
       "// Listen for the clearing of the current output cell\n",
       "var outputEl = gd.closest('.output');\n",
       "if (outputEl) {{\n",
       "    x.observe(outputEl, {childList: true});\n",
       "}}\n",
       "\n",
       "                        })                };                });            </script>        </div>"
      ]
     },
     "metadata": {},
     "output_type": "display_data"
    }
   ],
   "source": [
    "topic_model.visualize_topics() "
   ]
  },
  {
   "cell_type": "code",
   "execution_count": 170,
   "metadata": {},
   "outputs": [
    {
     "data": {
      "text/html": [
       "<div>\n",
       "<style scoped>\n",
       "    .dataframe tbody tr th:only-of-type {\n",
       "        vertical-align: middle;\n",
       "    }\n",
       "\n",
       "    .dataframe tbody tr th {\n",
       "        vertical-align: top;\n",
       "    }\n",
       "\n",
       "    .dataframe thead th {\n",
       "        text-align: right;\n",
       "    }\n",
       "</style>\n",
       "<table border=\"1\" class=\"dataframe\">\n",
       "  <thead>\n",
       "    <tr style=\"text-align: right;\">\n",
       "      <th></th>\n",
       "      <th>Topic</th>\n",
       "      <th>Count</th>\n",
       "      <th>Name</th>\n",
       "    </tr>\n",
       "  </thead>\n",
       "  <tbody>\n",
       "    <tr>\n",
       "      <th>0</th>\n",
       "      <td>-1</td>\n",
       "      <td>119</td>\n",
       "      <td>小区_没有_建议_物业_领导_目前_严重_居民_问题_希望</td>\n",
       "    </tr>\n",
       "    <tr>\n",
       "      <th>1</th>\n",
       "      <td>0</td>\n",
       "      <td>260</td>\n",
       "      <td>道路_望京_建议_交通_地区_居民_车辆_规划_出行_行人</td>\n",
       "    </tr>\n",
       "    <tr>\n",
       "      <th>2</th>\n",
       "      <td>1</td>\n",
       "      <td>105</td>\n",
       "      <td>小区_改造_居民_业主_领导_希望_老旧_进行_拆迁_没有</td>\n",
       "    </tr>\n",
       "    <tr>\n",
       "      <th>3</th>\n",
       "      <td>2</td>\n",
       "      <td>77</td>\n",
       "      <td>退费_退款_公司_报名_北京_机构_教育_课程_有限公司_合同</td>\n",
       "    </tr>\n",
       "    <tr>\n",
       "      <th>4</th>\n",
       "      <td>3</td>\n",
       "      <td>50</td>\n",
       "      <td>影响_噪音_居民_扰民_严重_住户_施工_领导_垃圾桶_小区</td>\n",
       "    </tr>\n",
       "    <tr>\n",
       "      <th>5</th>\n",
       "      <td>4</td>\n",
       "      <td>49</td>\n",
       "      <td>孩子_小学_学校_家长_政策_学区_上学_学生_入学_校区</td>\n",
       "    </tr>\n",
       "    <tr>\n",
       "      <th>6</th>\n",
       "      <td>5</td>\n",
       "      <td>30</td>\n",
       "      <td>朝阳区_公司_注册_市场_落户_住宅_优士阁_监管局_产权_政策</td>\n",
       "    </tr>\n",
       "    <tr>\n",
       "      <th>7</th>\n",
       "      <td>6</td>\n",
       "      <td>28</td>\n",
       "      <td>车位_停车_固定_车辆_居委会_收费_小区_停车场_业主_没有</td>\n",
       "    </tr>\n",
       "    <tr>\n",
       "      <th>8</th>\n",
       "      <td>7</td>\n",
       "      <td>20</td>\n",
       "      <td>充电_电动车_安装_新能源_社区_小区_宽带_物业_车位_公共</td>\n",
       "    </tr>\n",
       "    <tr>\n",
       "      <th>9</th>\n",
       "      <td>8</td>\n",
       "      <td>15</td>\n",
       "      <td>检测_核酸_防疫_市民_采样_健康_信息_拭子_需要_屋子</td>\n",
       "    </tr>\n",
       "    <tr>\n",
       "      <th>10</th>\n",
       "      <td>9</td>\n",
       "      <td>15</td>\n",
       "      <td>公园_健身_活动_场所_开放_运动_篮球场_地下_孩子_健身房</td>\n",
       "    </tr>\n",
       "  </tbody>\n",
       "</table>\n",
       "</div>"
      ],
      "text/plain": [
       "    Topic  Count                              Name\n",
       "0      -1    119     小区_没有_建议_物业_领导_目前_严重_居民_问题_希望\n",
       "1       0    260     道路_望京_建议_交通_地区_居民_车辆_规划_出行_行人\n",
       "2       1    105     小区_改造_居民_业主_领导_希望_老旧_进行_拆迁_没有\n",
       "3       2     77   退费_退款_公司_报名_北京_机构_教育_课程_有限公司_合同\n",
       "4       3     50    影响_噪音_居民_扰民_严重_住户_施工_领导_垃圾桶_小区\n",
       "5       4     49     孩子_小学_学校_家长_政策_学区_上学_学生_入学_校区\n",
       "6       5     30  朝阳区_公司_注册_市场_落户_住宅_优士阁_监管局_产权_政策\n",
       "7       6     28   车位_停车_固定_车辆_居委会_收费_小区_停车场_业主_没有\n",
       "8       7     20   充电_电动车_安装_新能源_社区_小区_宽带_物业_车位_公共\n",
       "9       8     15     检测_核酸_防疫_市民_采样_健康_信息_拭子_需要_屋子\n",
       "10      9     15   公园_健身_活动_场所_开放_运动_篮球场_地下_孩子_健身房"
      ]
     },
     "execution_count": 170,
     "metadata": {},
     "output_type": "execute_result"
    }
   ],
   "source": [
    "#结果保存\n",
    "topic_result = topic_model.get_topic_info()\n",
    "for index,content in topic_result.iterrows():\n",
    "    keywords_str = ''\n",
    "    for j in topic_model.get_topic(int(content[0])):\n",
    "        if j[0] != '':\n",
    "            keywords_str = keywords_str + j[0] + '_'\n",
    "    topic_result.loc[index,'Name'] = keywords_str[:-1]\n",
    "#topic_result.to_csv('./output/keywords.csv')\n",
    "topic_result"
   ]
  },
  {
   "cell_type": "code",
   "execution_count": 171,
   "metadata": {},
   "outputs": [
    {
     "data": {
      "application/vnd.plotly.v1+json": {
       "config": {
        "plotlyServerURL": "https://plot.ly"
       },
       "data": [
        {
         "coloraxis": "coloraxis",
         "hovertemplate": "x: %{x}<br>y: %{y}<br>Similarity Score: %{z}<extra></extra>",
         "name": "0",
         "type": "heatmap",
         "x": [
          "0_道路_望京_建议",
          "1_小区_改造_居民",
          "3_影响_噪音_居民",
          "2_退费_退款_公司",
          "5_朝阳区_公司_注册",
          "4_孩子_小学_学校",
          "6_车位_停车_固定",
          "7_充电_电动车_安装",
          "8_检测_核酸_防疫",
          "9_公园_健身_活动"
         ],
         "xaxis": "x",
         "y": [
          "0_道路_望京_建议",
          "1_小区_改造_居民",
          "3_影响_噪音_居民",
          "2_退费_退款_公司",
          "5_朝阳区_公司_注册",
          "4_孩子_小学_学校",
          "6_车位_停车_固定",
          "7_充电_电动车_安装",
          "8_检测_核酸_防疫",
          "9_公园_健身_活动"
         ],
         "yaxis": "y",
         "z": [
          [
           0.9999999999999994,
           0.8392775458906633,
           0.7991581670485819,
           0.6845810660033138,
           0.773595040940688,
           0.689731957297512,
           0.8089932650697927,
           0.6636723482483637,
           0.5810051730674262,
           0.7371724946450031
          ],
          [
           0.8392775458906633,
           0.9999999999999999,
           0.8893331911559682,
           0.6948589260792791,
           0.8225236311591442,
           0.7026017331754307,
           0.8328854613728444,
           0.7041155227173689,
           0.6146499688040032,
           0.7076573521541543
          ],
          [
           0.7991581670485819,
           0.8893331911559682,
           0.9999999999999999,
           0.6403930911707014,
           0.7346365742669068,
           0.6519284426029194,
           0.8087195995256583,
           0.7287367368434151,
           0.6447679685070785,
           0.6893328770084005
          ],
          [
           0.6845810660033138,
           0.6948589260792791,
           0.6403930911707014,
           1,
           0.8432883996448904,
           0.7489028804375468,
           0.6891586747449877,
           0.6276548578007397,
           0.556606188793018,
           0.6126619002095147
          ],
          [
           0.773595040940688,
           0.8225236311591442,
           0.7346365742669068,
           0.8432883996448904,
           0.9999999999999998,
           0.722402889301066,
           0.7775793052075846,
           0.6769370880708849,
           0.5918198628727872,
           0.6512374370615895
          ],
          [
           0.689731957297512,
           0.7026017331754307,
           0.6519284426029194,
           0.7489028804375468,
           0.722402889301066,
           0.9999999999999999,
           0.6284892507012689,
           0.619762092118166,
           0.5207876657603775,
           0.668196237180519
          ],
          [
           0.8089932650697927,
           0.8328854613728444,
           0.8087195995256583,
           0.6891586747449877,
           0.7775793052075846,
           0.6284892507012689,
           0.9999999999999999,
           0.7903986632694571,
           0.5669243161735463,
           0.6793670188401871
          ],
          [
           0.6636723482483637,
           0.7041155227173689,
           0.7287367368434151,
           0.6276548578007397,
           0.6769370880708849,
           0.619762092118166,
           0.7903986632694571,
           0.9999999999999998,
           0.5897398600947538,
           0.5794254967090271
          ],
          [
           0.5810051730674262,
           0.6146499688040032,
           0.6447679685070785,
           0.556606188793018,
           0.5918198628727872,
           0.5207876657603775,
           0.5669243161735463,
           0.5897398600947538,
           1,
           0.5619492899244865
          ],
          [
           0.7371724946450031,
           0.7076573521541543,
           0.6893328770084005,
           0.6126619002095147,
           0.6512374370615895,
           0.668196237180519,
           0.6793670188401871,
           0.5794254967090271,
           0.5619492899244865,
           0.9999999999999997
          ]
         ]
        }
       ],
       "layout": {
        "coloraxis": {
         "colorbar": {
          "title": {
           "text": "Similarity Score"
          }
         },
         "colorscale": [
          [
           0,
           "rgb(247,252,240)"
          ],
          [
           0.125,
           "rgb(224,243,219)"
          ],
          [
           0.25,
           "rgb(204,235,197)"
          ],
          [
           0.375,
           "rgb(168,221,181)"
          ],
          [
           0.5,
           "rgb(123,204,196)"
          ],
          [
           0.625,
           "rgb(78,179,211)"
          ],
          [
           0.75,
           "rgb(43,140,190)"
          ],
          [
           0.875,
           "rgb(8,104,172)"
          ],
          [
           1,
           "rgb(8,64,129)"
          ]
         ]
        },
        "height": 800,
        "hoverlabel": {
         "bgcolor": "white",
         "font": {
          "family": "Rockwell",
          "size": 16
         }
        },
        "legend": {
         "title": {
          "text": "Trend"
         }
        },
        "margin": {
         "t": 60
        },
        "showlegend": true,
        "template": {
         "data": {
          "bar": [
           {
            "error_x": {
             "color": "#2a3f5f"
            },
            "error_y": {
             "color": "#2a3f5f"
            },
            "marker": {
             "line": {
              "color": "#E5ECF6",
              "width": 0.5
             },
             "pattern": {
              "fillmode": "overlay",
              "size": 10,
              "solidity": 0.2
             }
            },
            "type": "bar"
           }
          ],
          "barpolar": [
           {
            "marker": {
             "line": {
              "color": "#E5ECF6",
              "width": 0.5
             },
             "pattern": {
              "fillmode": "overlay",
              "size": 10,
              "solidity": 0.2
             }
            },
            "type": "barpolar"
           }
          ],
          "carpet": [
           {
            "aaxis": {
             "endlinecolor": "#2a3f5f",
             "gridcolor": "white",
             "linecolor": "white",
             "minorgridcolor": "white",
             "startlinecolor": "#2a3f5f"
            },
            "baxis": {
             "endlinecolor": "#2a3f5f",
             "gridcolor": "white",
             "linecolor": "white",
             "minorgridcolor": "white",
             "startlinecolor": "#2a3f5f"
            },
            "type": "carpet"
           }
          ],
          "choropleth": [
           {
            "colorbar": {
             "outlinewidth": 0,
             "ticks": ""
            },
            "type": "choropleth"
           }
          ],
          "contour": [
           {
            "colorbar": {
             "outlinewidth": 0,
             "ticks": ""
            },
            "colorscale": [
             [
              0,
              "#0d0887"
             ],
             [
              0.1111111111111111,
              "#46039f"
             ],
             [
              0.2222222222222222,
              "#7201a8"
             ],
             [
              0.3333333333333333,
              "#9c179e"
             ],
             [
              0.4444444444444444,
              "#bd3786"
             ],
             [
              0.5555555555555556,
              "#d8576b"
             ],
             [
              0.6666666666666666,
              "#ed7953"
             ],
             [
              0.7777777777777778,
              "#fb9f3a"
             ],
             [
              0.8888888888888888,
              "#fdca26"
             ],
             [
              1,
              "#f0f921"
             ]
            ],
            "type": "contour"
           }
          ],
          "contourcarpet": [
           {
            "colorbar": {
             "outlinewidth": 0,
             "ticks": ""
            },
            "type": "contourcarpet"
           }
          ],
          "heatmap": [
           {
            "colorbar": {
             "outlinewidth": 0,
             "ticks": ""
            },
            "colorscale": [
             [
              0,
              "#0d0887"
             ],
             [
              0.1111111111111111,
              "#46039f"
             ],
             [
              0.2222222222222222,
              "#7201a8"
             ],
             [
              0.3333333333333333,
              "#9c179e"
             ],
             [
              0.4444444444444444,
              "#bd3786"
             ],
             [
              0.5555555555555556,
              "#d8576b"
             ],
             [
              0.6666666666666666,
              "#ed7953"
             ],
             [
              0.7777777777777778,
              "#fb9f3a"
             ],
             [
              0.8888888888888888,
              "#fdca26"
             ],
             [
              1,
              "#f0f921"
             ]
            ],
            "type": "heatmap"
           }
          ],
          "heatmapgl": [
           {
            "colorbar": {
             "outlinewidth": 0,
             "ticks": ""
            },
            "colorscale": [
             [
              0,
              "#0d0887"
             ],
             [
              0.1111111111111111,
              "#46039f"
             ],
             [
              0.2222222222222222,
              "#7201a8"
             ],
             [
              0.3333333333333333,
              "#9c179e"
             ],
             [
              0.4444444444444444,
              "#bd3786"
             ],
             [
              0.5555555555555556,
              "#d8576b"
             ],
             [
              0.6666666666666666,
              "#ed7953"
             ],
             [
              0.7777777777777778,
              "#fb9f3a"
             ],
             [
              0.8888888888888888,
              "#fdca26"
             ],
             [
              1,
              "#f0f921"
             ]
            ],
            "type": "heatmapgl"
           }
          ],
          "histogram": [
           {
            "marker": {
             "pattern": {
              "fillmode": "overlay",
              "size": 10,
              "solidity": 0.2
             }
            },
            "type": "histogram"
           }
          ],
          "histogram2d": [
           {
            "colorbar": {
             "outlinewidth": 0,
             "ticks": ""
            },
            "colorscale": [
             [
              0,
              "#0d0887"
             ],
             [
              0.1111111111111111,
              "#46039f"
             ],
             [
              0.2222222222222222,
              "#7201a8"
             ],
             [
              0.3333333333333333,
              "#9c179e"
             ],
             [
              0.4444444444444444,
              "#bd3786"
             ],
             [
              0.5555555555555556,
              "#d8576b"
             ],
             [
              0.6666666666666666,
              "#ed7953"
             ],
             [
              0.7777777777777778,
              "#fb9f3a"
             ],
             [
              0.8888888888888888,
              "#fdca26"
             ],
             [
              1,
              "#f0f921"
             ]
            ],
            "type": "histogram2d"
           }
          ],
          "histogram2dcontour": [
           {
            "colorbar": {
             "outlinewidth": 0,
             "ticks": ""
            },
            "colorscale": [
             [
              0,
              "#0d0887"
             ],
             [
              0.1111111111111111,
              "#46039f"
             ],
             [
              0.2222222222222222,
              "#7201a8"
             ],
             [
              0.3333333333333333,
              "#9c179e"
             ],
             [
              0.4444444444444444,
              "#bd3786"
             ],
             [
              0.5555555555555556,
              "#d8576b"
             ],
             [
              0.6666666666666666,
              "#ed7953"
             ],
             [
              0.7777777777777778,
              "#fb9f3a"
             ],
             [
              0.8888888888888888,
              "#fdca26"
             ],
             [
              1,
              "#f0f921"
             ]
            ],
            "type": "histogram2dcontour"
           }
          ],
          "mesh3d": [
           {
            "colorbar": {
             "outlinewidth": 0,
             "ticks": ""
            },
            "type": "mesh3d"
           }
          ],
          "parcoords": [
           {
            "line": {
             "colorbar": {
              "outlinewidth": 0,
              "ticks": ""
             }
            },
            "type": "parcoords"
           }
          ],
          "pie": [
           {
            "automargin": true,
            "type": "pie"
           }
          ],
          "scatter": [
           {
            "fillpattern": {
             "fillmode": "overlay",
             "size": 10,
             "solidity": 0.2
            },
            "type": "scatter"
           }
          ],
          "scatter3d": [
           {
            "line": {
             "colorbar": {
              "outlinewidth": 0,
              "ticks": ""
             }
            },
            "marker": {
             "colorbar": {
              "outlinewidth": 0,
              "ticks": ""
             }
            },
            "type": "scatter3d"
           }
          ],
          "scattercarpet": [
           {
            "marker": {
             "colorbar": {
              "outlinewidth": 0,
              "ticks": ""
             }
            },
            "type": "scattercarpet"
           }
          ],
          "scattergeo": [
           {
            "marker": {
             "colorbar": {
              "outlinewidth": 0,
              "ticks": ""
             }
            },
            "type": "scattergeo"
           }
          ],
          "scattergl": [
           {
            "marker": {
             "colorbar": {
              "outlinewidth": 0,
              "ticks": ""
             }
            },
            "type": "scattergl"
           }
          ],
          "scattermapbox": [
           {
            "marker": {
             "colorbar": {
              "outlinewidth": 0,
              "ticks": ""
             }
            },
            "type": "scattermapbox"
           }
          ],
          "scatterpolar": [
           {
            "marker": {
             "colorbar": {
              "outlinewidth": 0,
              "ticks": ""
             }
            },
            "type": "scatterpolar"
           }
          ],
          "scatterpolargl": [
           {
            "marker": {
             "colorbar": {
              "outlinewidth": 0,
              "ticks": ""
             }
            },
            "type": "scatterpolargl"
           }
          ],
          "scatterternary": [
           {
            "marker": {
             "colorbar": {
              "outlinewidth": 0,
              "ticks": ""
             }
            },
            "type": "scatterternary"
           }
          ],
          "surface": [
           {
            "colorbar": {
             "outlinewidth": 0,
             "ticks": ""
            },
            "colorscale": [
             [
              0,
              "#0d0887"
             ],
             [
              0.1111111111111111,
              "#46039f"
             ],
             [
              0.2222222222222222,
              "#7201a8"
             ],
             [
              0.3333333333333333,
              "#9c179e"
             ],
             [
              0.4444444444444444,
              "#bd3786"
             ],
             [
              0.5555555555555556,
              "#d8576b"
             ],
             [
              0.6666666666666666,
              "#ed7953"
             ],
             [
              0.7777777777777778,
              "#fb9f3a"
             ],
             [
              0.8888888888888888,
              "#fdca26"
             ],
             [
              1,
              "#f0f921"
             ]
            ],
            "type": "surface"
           }
          ],
          "table": [
           {
            "cells": {
             "fill": {
              "color": "#EBF0F8"
             },
             "line": {
              "color": "white"
             }
            },
            "header": {
             "fill": {
              "color": "#C8D4E3"
             },
             "line": {
              "color": "white"
             }
            },
            "type": "table"
           }
          ]
         },
         "layout": {
          "annotationdefaults": {
           "arrowcolor": "#2a3f5f",
           "arrowhead": 0,
           "arrowwidth": 1
          },
          "autotypenumbers": "strict",
          "coloraxis": {
           "colorbar": {
            "outlinewidth": 0,
            "ticks": ""
           }
          },
          "colorscale": {
           "diverging": [
            [
             0,
             "#8e0152"
            ],
            [
             0.1,
             "#c51b7d"
            ],
            [
             0.2,
             "#de77ae"
            ],
            [
             0.3,
             "#f1b6da"
            ],
            [
             0.4,
             "#fde0ef"
            ],
            [
             0.5,
             "#f7f7f7"
            ],
            [
             0.6,
             "#e6f5d0"
            ],
            [
             0.7,
             "#b8e186"
            ],
            [
             0.8,
             "#7fbc41"
            ],
            [
             0.9,
             "#4d9221"
            ],
            [
             1,
             "#276419"
            ]
           ],
           "sequential": [
            [
             0,
             "#0d0887"
            ],
            [
             0.1111111111111111,
             "#46039f"
            ],
            [
             0.2222222222222222,
             "#7201a8"
            ],
            [
             0.3333333333333333,
             "#9c179e"
            ],
            [
             0.4444444444444444,
             "#bd3786"
            ],
            [
             0.5555555555555556,
             "#d8576b"
            ],
            [
             0.6666666666666666,
             "#ed7953"
            ],
            [
             0.7777777777777778,
             "#fb9f3a"
            ],
            [
             0.8888888888888888,
             "#fdca26"
            ],
            [
             1,
             "#f0f921"
            ]
           ],
           "sequentialminus": [
            [
             0,
             "#0d0887"
            ],
            [
             0.1111111111111111,
             "#46039f"
            ],
            [
             0.2222222222222222,
             "#7201a8"
            ],
            [
             0.3333333333333333,
             "#9c179e"
            ],
            [
             0.4444444444444444,
             "#bd3786"
            ],
            [
             0.5555555555555556,
             "#d8576b"
            ],
            [
             0.6666666666666666,
             "#ed7953"
            ],
            [
             0.7777777777777778,
             "#fb9f3a"
            ],
            [
             0.8888888888888888,
             "#fdca26"
            ],
            [
             1,
             "#f0f921"
            ]
           ]
          },
          "colorway": [
           "#636efa",
           "#EF553B",
           "#00cc96",
           "#ab63fa",
           "#FFA15A",
           "#19d3f3",
           "#FF6692",
           "#B6E880",
           "#FF97FF",
           "#FECB52"
          ],
          "font": {
           "color": "#2a3f5f"
          },
          "geo": {
           "bgcolor": "white",
           "lakecolor": "white",
           "landcolor": "#E5ECF6",
           "showlakes": true,
           "showland": true,
           "subunitcolor": "white"
          },
          "hoverlabel": {
           "align": "left"
          },
          "hovermode": "closest",
          "mapbox": {
           "style": "light"
          },
          "paper_bgcolor": "white",
          "plot_bgcolor": "#E5ECF6",
          "polar": {
           "angularaxis": {
            "gridcolor": "white",
            "linecolor": "white",
            "ticks": ""
           },
           "bgcolor": "#E5ECF6",
           "radialaxis": {
            "gridcolor": "white",
            "linecolor": "white",
            "ticks": ""
           }
          },
          "scene": {
           "xaxis": {
            "backgroundcolor": "#E5ECF6",
            "gridcolor": "white",
            "gridwidth": 2,
            "linecolor": "white",
            "showbackground": true,
            "ticks": "",
            "zerolinecolor": "white"
           },
           "yaxis": {
            "backgroundcolor": "#E5ECF6",
            "gridcolor": "white",
            "gridwidth": 2,
            "linecolor": "white",
            "showbackground": true,
            "ticks": "",
            "zerolinecolor": "white"
           },
           "zaxis": {
            "backgroundcolor": "#E5ECF6",
            "gridcolor": "white",
            "gridwidth": 2,
            "linecolor": "white",
            "showbackground": true,
            "ticks": "",
            "zerolinecolor": "white"
           }
          },
          "shapedefaults": {
           "line": {
            "color": "#2a3f5f"
           }
          },
          "ternary": {
           "aaxis": {
            "gridcolor": "white",
            "linecolor": "white",
            "ticks": ""
           },
           "baxis": {
            "gridcolor": "white",
            "linecolor": "white",
            "ticks": ""
           },
           "bgcolor": "#E5ECF6",
           "caxis": {
            "gridcolor": "white",
            "linecolor": "white",
            "ticks": ""
           }
          },
          "title": {
           "x": 0.05
          },
          "xaxis": {
           "automargin": true,
           "gridcolor": "white",
           "linecolor": "white",
           "ticks": "",
           "title": {
            "standoff": 15
           },
           "zerolinecolor": "white",
           "zerolinewidth": 2
          },
          "yaxis": {
           "automargin": true,
           "gridcolor": "white",
           "linecolor": "white",
           "ticks": "",
           "title": {
            "standoff": 15
           },
           "zerolinecolor": "white",
           "zerolinewidth": 2
          }
         }
        },
        "title": {
         "font": {
          "color": "Black",
          "size": 22
         },
         "text": "<b>Similarity Matrix",
         "x": 0.55,
         "xanchor": "center",
         "y": 0.95,
         "yanchor": "top"
        },
        "width": 800,
        "xaxis": {
         "anchor": "y",
         "constrain": "domain",
         "domain": [
          0,
          1
         ],
         "scaleanchor": "y"
        },
        "yaxis": {
         "anchor": "x",
         "autorange": "reversed",
         "constrain": "domain",
         "domain": [
          0,
          1
         ]
        }
       }
      },
      "text/html": [
       "<div>                            <div id=\"821632dc-9f94-4b1f-97b2-2855aee47035\" class=\"plotly-graph-div\" style=\"height:800px; width:800px;\"></div>            <script type=\"text/javascript\">                require([\"plotly\"], function(Plotly) {                    window.PLOTLYENV=window.PLOTLYENV || {};                                    if (document.getElementById(\"821632dc-9f94-4b1f-97b2-2855aee47035\")) {                    Plotly.newPlot(                        \"821632dc-9f94-4b1f-97b2-2855aee47035\",                        [{\"coloraxis\":\"coloraxis\",\"name\":\"0\",\"x\":[\"0_道路_望京_建议\",\"1_小区_改造_居民\",\"3_影响_噪音_居民\",\"2_退费_退款_公司\",\"5_朝阳区_公司_注册\",\"4_孩子_小学_学校\",\"6_车位_停车_固定\",\"7_充电_电动车_安装\",\"8_检测_核酸_防疫\",\"9_公园_健身_活动\"],\"y\":[\"0_道路_望京_建议\",\"1_小区_改造_居民\",\"3_影响_噪音_居民\",\"2_退费_退款_公司\",\"5_朝阳区_公司_注册\",\"4_孩子_小学_学校\",\"6_车位_停车_固定\",\"7_充电_电动车_安装\",\"8_检测_核酸_防疫\",\"9_公园_健身_活动\"],\"z\":[[0.9999999999999994,0.8392775458906633,0.7991581670485819,0.6845810660033138,0.773595040940688,0.689731957297512,0.8089932650697927,0.6636723482483637,0.5810051730674262,0.7371724946450031],[0.8392775458906633,0.9999999999999999,0.8893331911559682,0.6948589260792791,0.8225236311591442,0.7026017331754307,0.8328854613728444,0.7041155227173689,0.6146499688040032,0.7076573521541543],[0.7991581670485819,0.8893331911559682,0.9999999999999999,0.6403930911707014,0.7346365742669068,0.6519284426029194,0.8087195995256583,0.7287367368434151,0.6447679685070785,0.6893328770084005],[0.6845810660033138,0.6948589260792791,0.6403930911707014,1.0,0.8432883996448904,0.7489028804375468,0.6891586747449877,0.6276548578007397,0.556606188793018,0.6126619002095147],[0.773595040940688,0.8225236311591442,0.7346365742669068,0.8432883996448904,0.9999999999999998,0.722402889301066,0.7775793052075846,0.6769370880708849,0.5918198628727872,0.6512374370615895],[0.689731957297512,0.7026017331754307,0.6519284426029194,0.7489028804375468,0.722402889301066,0.9999999999999999,0.6284892507012689,0.619762092118166,0.5207876657603775,0.668196237180519],[0.8089932650697927,0.8328854613728444,0.8087195995256583,0.6891586747449877,0.7775793052075846,0.6284892507012689,0.9999999999999999,0.7903986632694571,0.5669243161735463,0.6793670188401871],[0.6636723482483637,0.7041155227173689,0.7287367368434151,0.6276548578007397,0.6769370880708849,0.619762092118166,0.7903986632694571,0.9999999999999998,0.5897398600947538,0.5794254967090271],[0.5810051730674262,0.6146499688040032,0.6447679685070785,0.556606188793018,0.5918198628727872,0.5207876657603775,0.5669243161735463,0.5897398600947538,1.0,0.5619492899244865],[0.7371724946450031,0.7076573521541543,0.6893328770084005,0.6126619002095147,0.6512374370615895,0.668196237180519,0.6793670188401871,0.5794254967090271,0.5619492899244865,0.9999999999999997]],\"type\":\"heatmap\",\"xaxis\":\"x\",\"yaxis\":\"y\",\"hovertemplate\":\"x: %{x}<br>y: %{y}<br>Similarity Score: %{z}<extra></extra>\"}],                        {\"template\":{\"data\":{\"histogram2dcontour\":[{\"type\":\"histogram2dcontour\",\"colorbar\":{\"outlinewidth\":0,\"ticks\":\"\"},\"colorscale\":[[0.0,\"#0d0887\"],[0.1111111111111111,\"#46039f\"],[0.2222222222222222,\"#7201a8\"],[0.3333333333333333,\"#9c179e\"],[0.4444444444444444,\"#bd3786\"],[0.5555555555555556,\"#d8576b\"],[0.6666666666666666,\"#ed7953\"],[0.7777777777777778,\"#fb9f3a\"],[0.8888888888888888,\"#fdca26\"],[1.0,\"#f0f921\"]]}],\"choropleth\":[{\"type\":\"choropleth\",\"colorbar\":{\"outlinewidth\":0,\"ticks\":\"\"}}],\"histogram2d\":[{\"type\":\"histogram2d\",\"colorbar\":{\"outlinewidth\":0,\"ticks\":\"\"},\"colorscale\":[[0.0,\"#0d0887\"],[0.1111111111111111,\"#46039f\"],[0.2222222222222222,\"#7201a8\"],[0.3333333333333333,\"#9c179e\"],[0.4444444444444444,\"#bd3786\"],[0.5555555555555556,\"#d8576b\"],[0.6666666666666666,\"#ed7953\"],[0.7777777777777778,\"#fb9f3a\"],[0.8888888888888888,\"#fdca26\"],[1.0,\"#f0f921\"]]}],\"heatmap\":[{\"type\":\"heatmap\",\"colorbar\":{\"outlinewidth\":0,\"ticks\":\"\"},\"colorscale\":[[0.0,\"#0d0887\"],[0.1111111111111111,\"#46039f\"],[0.2222222222222222,\"#7201a8\"],[0.3333333333333333,\"#9c179e\"],[0.4444444444444444,\"#bd3786\"],[0.5555555555555556,\"#d8576b\"],[0.6666666666666666,\"#ed7953\"],[0.7777777777777778,\"#fb9f3a\"],[0.8888888888888888,\"#fdca26\"],[1.0,\"#f0f921\"]]}],\"heatmapgl\":[{\"type\":\"heatmapgl\",\"colorbar\":{\"outlinewidth\":0,\"ticks\":\"\"},\"colorscale\":[[0.0,\"#0d0887\"],[0.1111111111111111,\"#46039f\"],[0.2222222222222222,\"#7201a8\"],[0.3333333333333333,\"#9c179e\"],[0.4444444444444444,\"#bd3786\"],[0.5555555555555556,\"#d8576b\"],[0.6666666666666666,\"#ed7953\"],[0.7777777777777778,\"#fb9f3a\"],[0.8888888888888888,\"#fdca26\"],[1.0,\"#f0f921\"]]}],\"contourcarpet\":[{\"type\":\"contourcarpet\",\"colorbar\":{\"outlinewidth\":0,\"ticks\":\"\"}}],\"contour\":[{\"type\":\"contour\",\"colorbar\":{\"outlinewidth\":0,\"ticks\":\"\"},\"colorscale\":[[0.0,\"#0d0887\"],[0.1111111111111111,\"#46039f\"],[0.2222222222222222,\"#7201a8\"],[0.3333333333333333,\"#9c179e\"],[0.4444444444444444,\"#bd3786\"],[0.5555555555555556,\"#d8576b\"],[0.6666666666666666,\"#ed7953\"],[0.7777777777777778,\"#fb9f3a\"],[0.8888888888888888,\"#fdca26\"],[1.0,\"#f0f921\"]]}],\"surface\":[{\"type\":\"surface\",\"colorbar\":{\"outlinewidth\":0,\"ticks\":\"\"},\"colorscale\":[[0.0,\"#0d0887\"],[0.1111111111111111,\"#46039f\"],[0.2222222222222222,\"#7201a8\"],[0.3333333333333333,\"#9c179e\"],[0.4444444444444444,\"#bd3786\"],[0.5555555555555556,\"#d8576b\"],[0.6666666666666666,\"#ed7953\"],[0.7777777777777778,\"#fb9f3a\"],[0.8888888888888888,\"#fdca26\"],[1.0,\"#f0f921\"]]}],\"mesh3d\":[{\"type\":\"mesh3d\",\"colorbar\":{\"outlinewidth\":0,\"ticks\":\"\"}}],\"scatter\":[{\"fillpattern\":{\"fillmode\":\"overlay\",\"size\":10,\"solidity\":0.2},\"type\":\"scatter\"}],\"parcoords\":[{\"type\":\"parcoords\",\"line\":{\"colorbar\":{\"outlinewidth\":0,\"ticks\":\"\"}}}],\"scatterpolargl\":[{\"type\":\"scatterpolargl\",\"marker\":{\"colorbar\":{\"outlinewidth\":0,\"ticks\":\"\"}}}],\"bar\":[{\"error_x\":{\"color\":\"#2a3f5f\"},\"error_y\":{\"color\":\"#2a3f5f\"},\"marker\":{\"line\":{\"color\":\"#E5ECF6\",\"width\":0.5},\"pattern\":{\"fillmode\":\"overlay\",\"size\":10,\"solidity\":0.2}},\"type\":\"bar\"}],\"scattergeo\":[{\"type\":\"scattergeo\",\"marker\":{\"colorbar\":{\"outlinewidth\":0,\"ticks\":\"\"}}}],\"scatterpolar\":[{\"type\":\"scatterpolar\",\"marker\":{\"colorbar\":{\"outlinewidth\":0,\"ticks\":\"\"}}}],\"histogram\":[{\"marker\":{\"pattern\":{\"fillmode\":\"overlay\",\"size\":10,\"solidity\":0.2}},\"type\":\"histogram\"}],\"scattergl\":[{\"type\":\"scattergl\",\"marker\":{\"colorbar\":{\"outlinewidth\":0,\"ticks\":\"\"}}}],\"scatter3d\":[{\"type\":\"scatter3d\",\"line\":{\"colorbar\":{\"outlinewidth\":0,\"ticks\":\"\"}},\"marker\":{\"colorbar\":{\"outlinewidth\":0,\"ticks\":\"\"}}}],\"scattermapbox\":[{\"type\":\"scattermapbox\",\"marker\":{\"colorbar\":{\"outlinewidth\":0,\"ticks\":\"\"}}}],\"scatterternary\":[{\"type\":\"scatterternary\",\"marker\":{\"colorbar\":{\"outlinewidth\":0,\"ticks\":\"\"}}}],\"scattercarpet\":[{\"type\":\"scattercarpet\",\"marker\":{\"colorbar\":{\"outlinewidth\":0,\"ticks\":\"\"}}}],\"carpet\":[{\"aaxis\":{\"endlinecolor\":\"#2a3f5f\",\"gridcolor\":\"white\",\"linecolor\":\"white\",\"minorgridcolor\":\"white\",\"startlinecolor\":\"#2a3f5f\"},\"baxis\":{\"endlinecolor\":\"#2a3f5f\",\"gridcolor\":\"white\",\"linecolor\":\"white\",\"minorgridcolor\":\"white\",\"startlinecolor\":\"#2a3f5f\"},\"type\":\"carpet\"}],\"table\":[{\"cells\":{\"fill\":{\"color\":\"#EBF0F8\"},\"line\":{\"color\":\"white\"}},\"header\":{\"fill\":{\"color\":\"#C8D4E3\"},\"line\":{\"color\":\"white\"}},\"type\":\"table\"}],\"barpolar\":[{\"marker\":{\"line\":{\"color\":\"#E5ECF6\",\"width\":0.5},\"pattern\":{\"fillmode\":\"overlay\",\"size\":10,\"solidity\":0.2}},\"type\":\"barpolar\"}],\"pie\":[{\"automargin\":true,\"type\":\"pie\"}]},\"layout\":{\"autotypenumbers\":\"strict\",\"colorway\":[\"#636efa\",\"#EF553B\",\"#00cc96\",\"#ab63fa\",\"#FFA15A\",\"#19d3f3\",\"#FF6692\",\"#B6E880\",\"#FF97FF\",\"#FECB52\"],\"font\":{\"color\":\"#2a3f5f\"},\"hovermode\":\"closest\",\"hoverlabel\":{\"align\":\"left\"},\"paper_bgcolor\":\"white\",\"plot_bgcolor\":\"#E5ECF6\",\"polar\":{\"bgcolor\":\"#E5ECF6\",\"angularaxis\":{\"gridcolor\":\"white\",\"linecolor\":\"white\",\"ticks\":\"\"},\"radialaxis\":{\"gridcolor\":\"white\",\"linecolor\":\"white\",\"ticks\":\"\"}},\"ternary\":{\"bgcolor\":\"#E5ECF6\",\"aaxis\":{\"gridcolor\":\"white\",\"linecolor\":\"white\",\"ticks\":\"\"},\"baxis\":{\"gridcolor\":\"white\",\"linecolor\":\"white\",\"ticks\":\"\"},\"caxis\":{\"gridcolor\":\"white\",\"linecolor\":\"white\",\"ticks\":\"\"}},\"coloraxis\":{\"colorbar\":{\"outlinewidth\":0,\"ticks\":\"\"}},\"colorscale\":{\"sequential\":[[0.0,\"#0d0887\"],[0.1111111111111111,\"#46039f\"],[0.2222222222222222,\"#7201a8\"],[0.3333333333333333,\"#9c179e\"],[0.4444444444444444,\"#bd3786\"],[0.5555555555555556,\"#d8576b\"],[0.6666666666666666,\"#ed7953\"],[0.7777777777777778,\"#fb9f3a\"],[0.8888888888888888,\"#fdca26\"],[1.0,\"#f0f921\"]],\"sequentialminus\":[[0.0,\"#0d0887\"],[0.1111111111111111,\"#46039f\"],[0.2222222222222222,\"#7201a8\"],[0.3333333333333333,\"#9c179e\"],[0.4444444444444444,\"#bd3786\"],[0.5555555555555556,\"#d8576b\"],[0.6666666666666666,\"#ed7953\"],[0.7777777777777778,\"#fb9f3a\"],[0.8888888888888888,\"#fdca26\"],[1.0,\"#f0f921\"]],\"diverging\":[[0,\"#8e0152\"],[0.1,\"#c51b7d\"],[0.2,\"#de77ae\"],[0.3,\"#f1b6da\"],[0.4,\"#fde0ef\"],[0.5,\"#f7f7f7\"],[0.6,\"#e6f5d0\"],[0.7,\"#b8e186\"],[0.8,\"#7fbc41\"],[0.9,\"#4d9221\"],[1,\"#276419\"]]},\"xaxis\":{\"gridcolor\":\"white\",\"linecolor\":\"white\",\"ticks\":\"\",\"title\":{\"standoff\":15},\"zerolinecolor\":\"white\",\"automargin\":true,\"zerolinewidth\":2},\"yaxis\":{\"gridcolor\":\"white\",\"linecolor\":\"white\",\"ticks\":\"\",\"title\":{\"standoff\":15},\"zerolinecolor\":\"white\",\"automargin\":true,\"zerolinewidth\":2},\"scene\":{\"xaxis\":{\"backgroundcolor\":\"#E5ECF6\",\"gridcolor\":\"white\",\"linecolor\":\"white\",\"showbackground\":true,\"ticks\":\"\",\"zerolinecolor\":\"white\",\"gridwidth\":2},\"yaxis\":{\"backgroundcolor\":\"#E5ECF6\",\"gridcolor\":\"white\",\"linecolor\":\"white\",\"showbackground\":true,\"ticks\":\"\",\"zerolinecolor\":\"white\",\"gridwidth\":2},\"zaxis\":{\"backgroundcolor\":\"#E5ECF6\",\"gridcolor\":\"white\",\"linecolor\":\"white\",\"showbackground\":true,\"ticks\":\"\",\"zerolinecolor\":\"white\",\"gridwidth\":2}},\"shapedefaults\":{\"line\":{\"color\":\"#2a3f5f\"}},\"annotationdefaults\":{\"arrowcolor\":\"#2a3f5f\",\"arrowhead\":0,\"arrowwidth\":1},\"geo\":{\"bgcolor\":\"white\",\"landcolor\":\"#E5ECF6\",\"subunitcolor\":\"white\",\"showland\":true,\"showlakes\":true,\"lakecolor\":\"white\"},\"title\":{\"x\":0.05},\"mapbox\":{\"style\":\"light\"}}},\"xaxis\":{\"anchor\":\"y\",\"domain\":[0.0,1.0],\"scaleanchor\":\"y\",\"constrain\":\"domain\"},\"yaxis\":{\"anchor\":\"x\",\"domain\":[0.0,1.0],\"autorange\":\"reversed\",\"constrain\":\"domain\"},\"coloraxis\":{\"colorbar\":{\"title\":{\"text\":\"Similarity Score\"}},\"colorscale\":[[0.0,\"rgb(247,252,240)\"],[0.125,\"rgb(224,243,219)\"],[0.25,\"rgb(204,235,197)\"],[0.375,\"rgb(168,221,181)\"],[0.5,\"rgb(123,204,196)\"],[0.625,\"rgb(78,179,211)\"],[0.75,\"rgb(43,140,190)\"],[0.875,\"rgb(8,104,172)\"],[1.0,\"rgb(8,64,129)\"]]},\"margin\":{\"t\":60},\"title\":{\"font\":{\"size\":22,\"color\":\"Black\"},\"text\":\"<b>Similarity Matrix\",\"y\":0.95,\"x\":0.55,\"xanchor\":\"center\",\"yanchor\":\"top\"},\"hoverlabel\":{\"font\":{\"size\":16,\"family\":\"Rockwell\"},\"bgcolor\":\"white\"},\"width\":800,\"height\":800,\"showlegend\":true,\"legend\":{\"title\":{\"text\":\"Trend\"}}},                        {\"responsive\": true}                    ).then(function(){\n",
       "                            \n",
       "var gd = document.getElementById('821632dc-9f94-4b1f-97b2-2855aee47035');\n",
       "var x = new MutationObserver(function (mutations, observer) {{\n",
       "        var display = window.getComputedStyle(gd).display;\n",
       "        if (!display || display === 'none') {{\n",
       "            console.log([gd, 'removed!']);\n",
       "            Plotly.purge(gd);\n",
       "            observer.disconnect();\n",
       "        }}\n",
       "}});\n",
       "\n",
       "// Listen for the removal of the full notebook cells\n",
       "var notebookContainer = gd.closest('#notebook-container');\n",
       "if (notebookContainer) {{\n",
       "    x.observe(notebookContainer, {childList: true});\n",
       "}}\n",
       "\n",
       "// Listen for the clearing of the current output cell\n",
       "var outputEl = gd.closest('.output');\n",
       "if (outputEl) {{\n",
       "    x.observe(outputEl, {childList: true});\n",
       "}}\n",
       "\n",
       "                        })                };                });            </script>        </div>"
      ]
     },
     "metadata": {},
     "output_type": "display_data"
    }
   ],
   "source": [
    "topic_model.visualize_heatmap(n_clusters=9) "
   ]
  },
  {
   "cell_type": "code",
   "execution_count": 172,
   "metadata": {},
   "outputs": [
    {
     "data": {
      "application/vnd.plotly.v1+json": {
       "config": {
        "plotlyServerURL": "https://plot.ly"
       },
       "data": [
        {
         "hoverinfo": "text",
         "marker": {
          "color": "rgb(0,116,217)"
         },
         "mode": "lines",
         "type": "scatter",
         "x": [
          0,
          1.0400559763491162,
          1.0400559763491162,
          0
         ],
         "xaxis": "x",
         "y": [
          -5,
          -5,
          -15,
          -15
         ],
         "yaxis": "y"
        },
        {
         "hoverinfo": "text",
         "marker": {
          "color": "rgb(61,153,112)"
         },
         "mode": "lines",
         "type": "scatter",
         "x": [
          0,
          0.8080597645115409,
          0.8080597645115409,
          0
         ],
         "xaxis": "x",
         "y": [
          -25,
          -25,
          -35,
          -35
         ],
         "yaxis": "y"
        },
        {
         "hoverinfo": "text",
         "marker": {
          "color": "rgb(61,153,112)"
         },
         "mode": "lines",
         "type": "scatter",
         "x": [
          0.8080597645115409,
          0.9074551535083439,
          0.9074551535083439,
          0
         ],
         "xaxis": "x",
         "y": [
          -30,
          -30,
          -45,
          -45
         ],
         "yaxis": "y"
        },
        {
         "hoverinfo": "text",
         "marker": {
          "color": "rgb(0,116,217)"
         },
         "mode": "lines",
         "type": "scatter",
         "x": [
          1.0400559763491162,
          1.2762543439816763,
          1.2762543439816763,
          0.9074551535083439
         ],
         "xaxis": "x",
         "y": [
          -10,
          -10,
          -37.5,
          -37.5
         ],
         "yaxis": "y"
        },
        {
         "hoverinfo": "text",
         "marker": {
          "color": "rgb(0,116,217)"
         },
         "mode": "lines",
         "type": "scatter",
         "x": [
          0,
          1.0528836943239461,
          1.0528836943239461,
          0
         ],
         "xaxis": "x",
         "y": [
          -65,
          -65,
          -75,
          -75
         ],
         "yaxis": "y"
        },
        {
         "hoverinfo": "text",
         "marker": {
          "color": "rgb(0,116,217)"
         },
         "mode": "lines",
         "type": "scatter",
         "x": [
          0,
          1.170941402832674,
          1.170941402832674,
          1.0528836943239461
         ],
         "xaxis": "x",
         "y": [
          -55,
          -55,
          -70,
          -70
         ],
         "yaxis": "y"
        },
        {
         "hoverinfo": "text",
         "marker": {
          "color": "rgb(0,116,217)"
         },
         "mode": "lines",
         "type": "scatter",
         "x": [
          1.170941402832674,
          1.3314802033449011,
          1.3314802033449011,
          0
         ],
         "xaxis": "x",
         "y": [
          -62.5,
          -62.5,
          -85,
          -85
         ],
         "yaxis": "y"
        },
        {
         "hoverinfo": "text",
         "marker": {
          "color": "rgb(0,116,217)"
         },
         "mode": "lines",
         "type": "scatter",
         "x": [
          1.2762543439816763,
          1.5254771614837725,
          1.5254771614837725,
          1.3314802033449011
         ],
         "xaxis": "x",
         "y": [
          -23.75,
          -23.75,
          -73.75,
          -73.75
         ],
         "yaxis": "y"
        }
       ],
       "layout": {
        "autosize": false,
        "height": 335,
        "hoverlabel": {
         "bgcolor": "white",
         "font": {
          "family": "Rockwell",
          "size": 16
         }
        },
        "hovermode": "closest",
        "plot_bgcolor": "#ECEFF1",
        "showlegend": false,
        "template": {
         "data": {
          "bar": [
           {
            "error_x": {
             "color": "#2a3f5f"
            },
            "error_y": {
             "color": "#2a3f5f"
            },
            "marker": {
             "line": {
              "color": "white",
              "width": 0.5
             },
             "pattern": {
              "fillmode": "overlay",
              "size": 10,
              "solidity": 0.2
             }
            },
            "type": "bar"
           }
          ],
          "barpolar": [
           {
            "marker": {
             "line": {
              "color": "white",
              "width": 0.5
             },
             "pattern": {
              "fillmode": "overlay",
              "size": 10,
              "solidity": 0.2
             }
            },
            "type": "barpolar"
           }
          ],
          "carpet": [
           {
            "aaxis": {
             "endlinecolor": "#2a3f5f",
             "gridcolor": "#C8D4E3",
             "linecolor": "#C8D4E3",
             "minorgridcolor": "#C8D4E3",
             "startlinecolor": "#2a3f5f"
            },
            "baxis": {
             "endlinecolor": "#2a3f5f",
             "gridcolor": "#C8D4E3",
             "linecolor": "#C8D4E3",
             "minorgridcolor": "#C8D4E3",
             "startlinecolor": "#2a3f5f"
            },
            "type": "carpet"
           }
          ],
          "choropleth": [
           {
            "colorbar": {
             "outlinewidth": 0,
             "ticks": ""
            },
            "type": "choropleth"
           }
          ],
          "contour": [
           {
            "colorbar": {
             "outlinewidth": 0,
             "ticks": ""
            },
            "colorscale": [
             [
              0,
              "#0d0887"
             ],
             [
              0.1111111111111111,
              "#46039f"
             ],
             [
              0.2222222222222222,
              "#7201a8"
             ],
             [
              0.3333333333333333,
              "#9c179e"
             ],
             [
              0.4444444444444444,
              "#bd3786"
             ],
             [
              0.5555555555555556,
              "#d8576b"
             ],
             [
              0.6666666666666666,
              "#ed7953"
             ],
             [
              0.7777777777777778,
              "#fb9f3a"
             ],
             [
              0.8888888888888888,
              "#fdca26"
             ],
             [
              1,
              "#f0f921"
             ]
            ],
            "type": "contour"
           }
          ],
          "contourcarpet": [
           {
            "colorbar": {
             "outlinewidth": 0,
             "ticks": ""
            },
            "type": "contourcarpet"
           }
          ],
          "heatmap": [
           {
            "colorbar": {
             "outlinewidth": 0,
             "ticks": ""
            },
            "colorscale": [
             [
              0,
              "#0d0887"
             ],
             [
              0.1111111111111111,
              "#46039f"
             ],
             [
              0.2222222222222222,
              "#7201a8"
             ],
             [
              0.3333333333333333,
              "#9c179e"
             ],
             [
              0.4444444444444444,
              "#bd3786"
             ],
             [
              0.5555555555555556,
              "#d8576b"
             ],
             [
              0.6666666666666666,
              "#ed7953"
             ],
             [
              0.7777777777777778,
              "#fb9f3a"
             ],
             [
              0.8888888888888888,
              "#fdca26"
             ],
             [
              1,
              "#f0f921"
             ]
            ],
            "type": "heatmap"
           }
          ],
          "heatmapgl": [
           {
            "colorbar": {
             "outlinewidth": 0,
             "ticks": ""
            },
            "colorscale": [
             [
              0,
              "#0d0887"
             ],
             [
              0.1111111111111111,
              "#46039f"
             ],
             [
              0.2222222222222222,
              "#7201a8"
             ],
             [
              0.3333333333333333,
              "#9c179e"
             ],
             [
              0.4444444444444444,
              "#bd3786"
             ],
             [
              0.5555555555555556,
              "#d8576b"
             ],
             [
              0.6666666666666666,
              "#ed7953"
             ],
             [
              0.7777777777777778,
              "#fb9f3a"
             ],
             [
              0.8888888888888888,
              "#fdca26"
             ],
             [
              1,
              "#f0f921"
             ]
            ],
            "type": "heatmapgl"
           }
          ],
          "histogram": [
           {
            "marker": {
             "pattern": {
              "fillmode": "overlay",
              "size": 10,
              "solidity": 0.2
             }
            },
            "type": "histogram"
           }
          ],
          "histogram2d": [
           {
            "colorbar": {
             "outlinewidth": 0,
             "ticks": ""
            },
            "colorscale": [
             [
              0,
              "#0d0887"
             ],
             [
              0.1111111111111111,
              "#46039f"
             ],
             [
              0.2222222222222222,
              "#7201a8"
             ],
             [
              0.3333333333333333,
              "#9c179e"
             ],
             [
              0.4444444444444444,
              "#bd3786"
             ],
             [
              0.5555555555555556,
              "#d8576b"
             ],
             [
              0.6666666666666666,
              "#ed7953"
             ],
             [
              0.7777777777777778,
              "#fb9f3a"
             ],
             [
              0.8888888888888888,
              "#fdca26"
             ],
             [
              1,
              "#f0f921"
             ]
            ],
            "type": "histogram2d"
           }
          ],
          "histogram2dcontour": [
           {
            "colorbar": {
             "outlinewidth": 0,
             "ticks": ""
            },
            "colorscale": [
             [
              0,
              "#0d0887"
             ],
             [
              0.1111111111111111,
              "#46039f"
             ],
             [
              0.2222222222222222,
              "#7201a8"
             ],
             [
              0.3333333333333333,
              "#9c179e"
             ],
             [
              0.4444444444444444,
              "#bd3786"
             ],
             [
              0.5555555555555556,
              "#d8576b"
             ],
             [
              0.6666666666666666,
              "#ed7953"
             ],
             [
              0.7777777777777778,
              "#fb9f3a"
             ],
             [
              0.8888888888888888,
              "#fdca26"
             ],
             [
              1,
              "#f0f921"
             ]
            ],
            "type": "histogram2dcontour"
           }
          ],
          "mesh3d": [
           {
            "colorbar": {
             "outlinewidth": 0,
             "ticks": ""
            },
            "type": "mesh3d"
           }
          ],
          "parcoords": [
           {
            "line": {
             "colorbar": {
              "outlinewidth": 0,
              "ticks": ""
             }
            },
            "type": "parcoords"
           }
          ],
          "pie": [
           {
            "automargin": true,
            "type": "pie"
           }
          ],
          "scatter": [
           {
            "fillpattern": {
             "fillmode": "overlay",
             "size": 10,
             "solidity": 0.2
            },
            "type": "scatter"
           }
          ],
          "scatter3d": [
           {
            "line": {
             "colorbar": {
              "outlinewidth": 0,
              "ticks": ""
             }
            },
            "marker": {
             "colorbar": {
              "outlinewidth": 0,
              "ticks": ""
             }
            },
            "type": "scatter3d"
           }
          ],
          "scattercarpet": [
           {
            "marker": {
             "colorbar": {
              "outlinewidth": 0,
              "ticks": ""
             }
            },
            "type": "scattercarpet"
           }
          ],
          "scattergeo": [
           {
            "marker": {
             "colorbar": {
              "outlinewidth": 0,
              "ticks": ""
             }
            },
            "type": "scattergeo"
           }
          ],
          "scattergl": [
           {
            "marker": {
             "colorbar": {
              "outlinewidth": 0,
              "ticks": ""
             }
            },
            "type": "scattergl"
           }
          ],
          "scattermapbox": [
           {
            "marker": {
             "colorbar": {
              "outlinewidth": 0,
              "ticks": ""
             }
            },
            "type": "scattermapbox"
           }
          ],
          "scatterpolar": [
           {
            "marker": {
             "colorbar": {
              "outlinewidth": 0,
              "ticks": ""
             }
            },
            "type": "scatterpolar"
           }
          ],
          "scatterpolargl": [
           {
            "marker": {
             "colorbar": {
              "outlinewidth": 0,
              "ticks": ""
             }
            },
            "type": "scatterpolargl"
           }
          ],
          "scatterternary": [
           {
            "marker": {
             "colorbar": {
              "outlinewidth": 0,
              "ticks": ""
             }
            },
            "type": "scatterternary"
           }
          ],
          "surface": [
           {
            "colorbar": {
             "outlinewidth": 0,
             "ticks": ""
            },
            "colorscale": [
             [
              0,
              "#0d0887"
             ],
             [
              0.1111111111111111,
              "#46039f"
             ],
             [
              0.2222222222222222,
              "#7201a8"
             ],
             [
              0.3333333333333333,
              "#9c179e"
             ],
             [
              0.4444444444444444,
              "#bd3786"
             ],
             [
              0.5555555555555556,
              "#d8576b"
             ],
             [
              0.6666666666666666,
              "#ed7953"
             ],
             [
              0.7777777777777778,
              "#fb9f3a"
             ],
             [
              0.8888888888888888,
              "#fdca26"
             ],
             [
              1,
              "#f0f921"
             ]
            ],
            "type": "surface"
           }
          ],
          "table": [
           {
            "cells": {
             "fill": {
              "color": "#EBF0F8"
             },
             "line": {
              "color": "white"
             }
            },
            "header": {
             "fill": {
              "color": "#C8D4E3"
             },
             "line": {
              "color": "white"
             }
            },
            "type": "table"
           }
          ]
         },
         "layout": {
          "annotationdefaults": {
           "arrowcolor": "#2a3f5f",
           "arrowhead": 0,
           "arrowwidth": 1
          },
          "autotypenumbers": "strict",
          "coloraxis": {
           "colorbar": {
            "outlinewidth": 0,
            "ticks": ""
           }
          },
          "colorscale": {
           "diverging": [
            [
             0,
             "#8e0152"
            ],
            [
             0.1,
             "#c51b7d"
            ],
            [
             0.2,
             "#de77ae"
            ],
            [
             0.3,
             "#f1b6da"
            ],
            [
             0.4,
             "#fde0ef"
            ],
            [
             0.5,
             "#f7f7f7"
            ],
            [
             0.6,
             "#e6f5d0"
            ],
            [
             0.7,
             "#b8e186"
            ],
            [
             0.8,
             "#7fbc41"
            ],
            [
             0.9,
             "#4d9221"
            ],
            [
             1,
             "#276419"
            ]
           ],
           "sequential": [
            [
             0,
             "#0d0887"
            ],
            [
             0.1111111111111111,
             "#46039f"
            ],
            [
             0.2222222222222222,
             "#7201a8"
            ],
            [
             0.3333333333333333,
             "#9c179e"
            ],
            [
             0.4444444444444444,
             "#bd3786"
            ],
            [
             0.5555555555555556,
             "#d8576b"
            ],
            [
             0.6666666666666666,
             "#ed7953"
            ],
            [
             0.7777777777777778,
             "#fb9f3a"
            ],
            [
             0.8888888888888888,
             "#fdca26"
            ],
            [
             1,
             "#f0f921"
            ]
           ],
           "sequentialminus": [
            [
             0,
             "#0d0887"
            ],
            [
             0.1111111111111111,
             "#46039f"
            ],
            [
             0.2222222222222222,
             "#7201a8"
            ],
            [
             0.3333333333333333,
             "#9c179e"
            ],
            [
             0.4444444444444444,
             "#bd3786"
            ],
            [
             0.5555555555555556,
             "#d8576b"
            ],
            [
             0.6666666666666666,
             "#ed7953"
            ],
            [
             0.7777777777777778,
             "#fb9f3a"
            ],
            [
             0.8888888888888888,
             "#fdca26"
            ],
            [
             1,
             "#f0f921"
            ]
           ]
          },
          "colorway": [
           "#636efa",
           "#EF553B",
           "#00cc96",
           "#ab63fa",
           "#FFA15A",
           "#19d3f3",
           "#FF6692",
           "#B6E880",
           "#FF97FF",
           "#FECB52"
          ],
          "font": {
           "color": "#2a3f5f"
          },
          "geo": {
           "bgcolor": "white",
           "lakecolor": "white",
           "landcolor": "white",
           "showlakes": true,
           "showland": true,
           "subunitcolor": "#C8D4E3"
          },
          "hoverlabel": {
           "align": "left"
          },
          "hovermode": "closest",
          "mapbox": {
           "style": "light"
          },
          "paper_bgcolor": "white",
          "plot_bgcolor": "white",
          "polar": {
           "angularaxis": {
            "gridcolor": "#EBF0F8",
            "linecolor": "#EBF0F8",
            "ticks": ""
           },
           "bgcolor": "white",
           "radialaxis": {
            "gridcolor": "#EBF0F8",
            "linecolor": "#EBF0F8",
            "ticks": ""
           }
          },
          "scene": {
           "xaxis": {
            "backgroundcolor": "white",
            "gridcolor": "#DFE8F3",
            "gridwidth": 2,
            "linecolor": "#EBF0F8",
            "showbackground": true,
            "ticks": "",
            "zerolinecolor": "#EBF0F8"
           },
           "yaxis": {
            "backgroundcolor": "white",
            "gridcolor": "#DFE8F3",
            "gridwidth": 2,
            "linecolor": "#EBF0F8",
            "showbackground": true,
            "ticks": "",
            "zerolinecolor": "#EBF0F8"
           },
           "zaxis": {
            "backgroundcolor": "white",
            "gridcolor": "#DFE8F3",
            "gridwidth": 2,
            "linecolor": "#EBF0F8",
            "showbackground": true,
            "ticks": "",
            "zerolinecolor": "#EBF0F8"
           }
          },
          "shapedefaults": {
           "line": {
            "color": "#2a3f5f"
           }
          },
          "ternary": {
           "aaxis": {
            "gridcolor": "#DFE8F3",
            "linecolor": "#A2B1C6",
            "ticks": ""
           },
           "baxis": {
            "gridcolor": "#DFE8F3",
            "linecolor": "#A2B1C6",
            "ticks": ""
           },
           "bgcolor": "white",
           "caxis": {
            "gridcolor": "#DFE8F3",
            "linecolor": "#A2B1C6",
            "ticks": ""
           }
          },
          "title": {
           "x": 0.05
          },
          "xaxis": {
           "automargin": true,
           "gridcolor": "#EBF0F8",
           "linecolor": "#EBF0F8",
           "ticks": "",
           "title": {
            "standoff": 15
           },
           "zerolinecolor": "#EBF0F8",
           "zerolinewidth": 2
          },
          "yaxis": {
           "automargin": true,
           "gridcolor": "#EBF0F8",
           "linecolor": "#EBF0F8",
           "ticks": "",
           "title": {
            "standoff": 15
           },
           "zerolinecolor": "#EBF0F8",
           "zerolinewidth": 2
          }
         }
        },
        "title": {
         "font": {
          "color": "Black",
          "size": 22
         },
         "text": "<b>Hierarchical Clustering",
         "x": 0.5,
         "xanchor": "center",
         "yanchor": "top"
        },
        "width": 1000,
        "xaxis": {
         "mirror": "allticks",
         "rangemode": "tozero",
         "showgrid": false,
         "showline": true,
         "showticklabels": true,
         "ticks": "outside",
         "type": "linear",
         "zeroline": false
        },
        "yaxis": {
         "mirror": "allticks",
         "range": [
          -90,
          0
         ],
         "rangemode": "tozero",
         "showgrid": false,
         "showline": true,
         "showticklabels": true,
         "tickmode": "array",
         "ticks": "outside",
         "ticktext": [
          "7_充电_电动车_安装",
          "6_车位_停车_固定",
          "0_道路_望京_建议",
          "1_小区_改造_居民",
          "3_影响_噪音_居民",
          "4_孩子_小学_学校",
          "2_退费_退款_公司",
          "5_朝阳区_公司_注册",
          "8_检测_核酸_防疫"
         ],
         "tickvals": [
          -5,
          -15,
          -25,
          -35,
          -45,
          -55,
          -65,
          -75,
          -85
         ],
         "type": "linear",
         "zeroline": false
        }
       }
      },
      "text/html": [
       "<div>                            <div id=\"6dcaeb22-d0d0-4ba6-b751-02d7fc9fca16\" class=\"plotly-graph-div\" style=\"height:335px; width:1000px;\"></div>            <script type=\"text/javascript\">                require([\"plotly\"], function(Plotly) {                    window.PLOTLYENV=window.PLOTLYENV || {};                                    if (document.getElementById(\"6dcaeb22-d0d0-4ba6-b751-02d7fc9fca16\")) {                    Plotly.newPlot(                        \"6dcaeb22-d0d0-4ba6-b751-02d7fc9fca16\",                        [{\"hoverinfo\":\"text\",\"marker\":{\"color\":\"rgb(0,116,217)\"},\"mode\":\"lines\",\"x\":[0.0,1.0400559763491162,1.0400559763491162,0.0],\"xaxis\":\"x\",\"y\":[-5.0,-5.0,-15.0,-15.0],\"yaxis\":\"y\",\"type\":\"scatter\"},{\"hoverinfo\":\"text\",\"marker\":{\"color\":\"rgb(61,153,112)\"},\"mode\":\"lines\",\"x\":[0.0,0.8080597645115409,0.8080597645115409,0.0],\"xaxis\":\"x\",\"y\":[-25.0,-25.0,-35.0,-35.0],\"yaxis\":\"y\",\"type\":\"scatter\"},{\"hoverinfo\":\"text\",\"marker\":{\"color\":\"rgb(61,153,112)\"},\"mode\":\"lines\",\"x\":[0.8080597645115409,0.9074551535083439,0.9074551535083439,0.0],\"xaxis\":\"x\",\"y\":[-30.0,-30.0,-45.0,-45.0],\"yaxis\":\"y\",\"type\":\"scatter\"},{\"hoverinfo\":\"text\",\"marker\":{\"color\":\"rgb(0,116,217)\"},\"mode\":\"lines\",\"x\":[1.0400559763491162,1.2762543439816763,1.2762543439816763,0.9074551535083439],\"xaxis\":\"x\",\"y\":[-10.0,-10.0,-37.5,-37.5],\"yaxis\":\"y\",\"type\":\"scatter\"},{\"hoverinfo\":\"text\",\"marker\":{\"color\":\"rgb(0,116,217)\"},\"mode\":\"lines\",\"x\":[0.0,1.0528836943239461,1.0528836943239461,0.0],\"xaxis\":\"x\",\"y\":[-65.0,-65.0,-75.0,-75.0],\"yaxis\":\"y\",\"type\":\"scatter\"},{\"hoverinfo\":\"text\",\"marker\":{\"color\":\"rgb(0,116,217)\"},\"mode\":\"lines\",\"x\":[0.0,1.170941402832674,1.170941402832674,1.0528836943239461],\"xaxis\":\"x\",\"y\":[-55.0,-55.0,-70.0,-70.0],\"yaxis\":\"y\",\"type\":\"scatter\"},{\"hoverinfo\":\"text\",\"marker\":{\"color\":\"rgb(0,116,217)\"},\"mode\":\"lines\",\"x\":[1.170941402832674,1.3314802033449011,1.3314802033449011,0.0],\"xaxis\":\"x\",\"y\":[-62.5,-62.5,-85.0,-85.0],\"yaxis\":\"y\",\"type\":\"scatter\"},{\"hoverinfo\":\"text\",\"marker\":{\"color\":\"rgb(0,116,217)\"},\"mode\":\"lines\",\"x\":[1.2762543439816763,1.5254771614837725,1.5254771614837725,1.3314802033449011],\"xaxis\":\"x\",\"y\":[-23.75,-23.75,-73.75,-73.75],\"yaxis\":\"y\",\"type\":\"scatter\"}],                        {\"autosize\":false,\"height\":335,\"hovermode\":\"closest\",\"showlegend\":false,\"width\":1000,\"xaxis\":{\"mirror\":\"allticks\",\"rangemode\":\"tozero\",\"showgrid\":false,\"showline\":true,\"showticklabels\":true,\"ticks\":\"outside\",\"type\":\"linear\",\"zeroline\":false},\"yaxis\":{\"mirror\":\"allticks\",\"rangemode\":\"tozero\",\"showgrid\":false,\"showline\":true,\"showticklabels\":true,\"tickmode\":\"array\",\"ticks\":\"outside\",\"ticktext\":[\"7_充电_电动车_安装\",\"6_车位_停车_固定\",\"0_道路_望京_建议\",\"1_小区_改造_居民\",\"3_影响_噪音_居民\",\"4_孩子_小学_学校\",\"2_退费_退款_公司\",\"5_朝阳区_公司_注册\",\"8_检测_核酸_防疫\"],\"tickvals\":[-5.0,-15.0,-25.0,-35.0,-45.0,-55.0,-65.0,-75.0,-85.0],\"type\":\"linear\",\"zeroline\":false,\"range\":[-90.0,0.0]},\"template\":{\"data\":{\"barpolar\":[{\"marker\":{\"line\":{\"color\":\"white\",\"width\":0.5},\"pattern\":{\"fillmode\":\"overlay\",\"size\":10,\"solidity\":0.2}},\"type\":\"barpolar\"}],\"bar\":[{\"error_x\":{\"color\":\"#2a3f5f\"},\"error_y\":{\"color\":\"#2a3f5f\"},\"marker\":{\"line\":{\"color\":\"white\",\"width\":0.5},\"pattern\":{\"fillmode\":\"overlay\",\"size\":10,\"solidity\":0.2}},\"type\":\"bar\"}],\"carpet\":[{\"aaxis\":{\"endlinecolor\":\"#2a3f5f\",\"gridcolor\":\"#C8D4E3\",\"linecolor\":\"#C8D4E3\",\"minorgridcolor\":\"#C8D4E3\",\"startlinecolor\":\"#2a3f5f\"},\"baxis\":{\"endlinecolor\":\"#2a3f5f\",\"gridcolor\":\"#C8D4E3\",\"linecolor\":\"#C8D4E3\",\"minorgridcolor\":\"#C8D4E3\",\"startlinecolor\":\"#2a3f5f\"},\"type\":\"carpet\"}],\"choropleth\":[{\"colorbar\":{\"outlinewidth\":0,\"ticks\":\"\"},\"type\":\"choropleth\"}],\"contourcarpet\":[{\"colorbar\":{\"outlinewidth\":0,\"ticks\":\"\"},\"type\":\"contourcarpet\"}],\"contour\":[{\"colorbar\":{\"outlinewidth\":0,\"ticks\":\"\"},\"colorscale\":[[0.0,\"#0d0887\"],[0.1111111111111111,\"#46039f\"],[0.2222222222222222,\"#7201a8\"],[0.3333333333333333,\"#9c179e\"],[0.4444444444444444,\"#bd3786\"],[0.5555555555555556,\"#d8576b\"],[0.6666666666666666,\"#ed7953\"],[0.7777777777777778,\"#fb9f3a\"],[0.8888888888888888,\"#fdca26\"],[1.0,\"#f0f921\"]],\"type\":\"contour\"}],\"heatmapgl\":[{\"colorbar\":{\"outlinewidth\":0,\"ticks\":\"\"},\"colorscale\":[[0.0,\"#0d0887\"],[0.1111111111111111,\"#46039f\"],[0.2222222222222222,\"#7201a8\"],[0.3333333333333333,\"#9c179e\"],[0.4444444444444444,\"#bd3786\"],[0.5555555555555556,\"#d8576b\"],[0.6666666666666666,\"#ed7953\"],[0.7777777777777778,\"#fb9f3a\"],[0.8888888888888888,\"#fdca26\"],[1.0,\"#f0f921\"]],\"type\":\"heatmapgl\"}],\"heatmap\":[{\"colorbar\":{\"outlinewidth\":0,\"ticks\":\"\"},\"colorscale\":[[0.0,\"#0d0887\"],[0.1111111111111111,\"#46039f\"],[0.2222222222222222,\"#7201a8\"],[0.3333333333333333,\"#9c179e\"],[0.4444444444444444,\"#bd3786\"],[0.5555555555555556,\"#d8576b\"],[0.6666666666666666,\"#ed7953\"],[0.7777777777777778,\"#fb9f3a\"],[0.8888888888888888,\"#fdca26\"],[1.0,\"#f0f921\"]],\"type\":\"heatmap\"}],\"histogram2dcontour\":[{\"colorbar\":{\"outlinewidth\":0,\"ticks\":\"\"},\"colorscale\":[[0.0,\"#0d0887\"],[0.1111111111111111,\"#46039f\"],[0.2222222222222222,\"#7201a8\"],[0.3333333333333333,\"#9c179e\"],[0.4444444444444444,\"#bd3786\"],[0.5555555555555556,\"#d8576b\"],[0.6666666666666666,\"#ed7953\"],[0.7777777777777778,\"#fb9f3a\"],[0.8888888888888888,\"#fdca26\"],[1.0,\"#f0f921\"]],\"type\":\"histogram2dcontour\"}],\"histogram2d\":[{\"colorbar\":{\"outlinewidth\":0,\"ticks\":\"\"},\"colorscale\":[[0.0,\"#0d0887\"],[0.1111111111111111,\"#46039f\"],[0.2222222222222222,\"#7201a8\"],[0.3333333333333333,\"#9c179e\"],[0.4444444444444444,\"#bd3786\"],[0.5555555555555556,\"#d8576b\"],[0.6666666666666666,\"#ed7953\"],[0.7777777777777778,\"#fb9f3a\"],[0.8888888888888888,\"#fdca26\"],[1.0,\"#f0f921\"]],\"type\":\"histogram2d\"}],\"histogram\":[{\"marker\":{\"pattern\":{\"fillmode\":\"overlay\",\"size\":10,\"solidity\":0.2}},\"type\":\"histogram\"}],\"mesh3d\":[{\"colorbar\":{\"outlinewidth\":0,\"ticks\":\"\"},\"type\":\"mesh3d\"}],\"parcoords\":[{\"line\":{\"colorbar\":{\"outlinewidth\":0,\"ticks\":\"\"}},\"type\":\"parcoords\"}],\"pie\":[{\"automargin\":true,\"type\":\"pie\"}],\"scatter3d\":[{\"line\":{\"colorbar\":{\"outlinewidth\":0,\"ticks\":\"\"}},\"marker\":{\"colorbar\":{\"outlinewidth\":0,\"ticks\":\"\"}},\"type\":\"scatter3d\"}],\"scattercarpet\":[{\"marker\":{\"colorbar\":{\"outlinewidth\":0,\"ticks\":\"\"}},\"type\":\"scattercarpet\"}],\"scattergeo\":[{\"marker\":{\"colorbar\":{\"outlinewidth\":0,\"ticks\":\"\"}},\"type\":\"scattergeo\"}],\"scattergl\":[{\"marker\":{\"colorbar\":{\"outlinewidth\":0,\"ticks\":\"\"}},\"type\":\"scattergl\"}],\"scattermapbox\":[{\"marker\":{\"colorbar\":{\"outlinewidth\":0,\"ticks\":\"\"}},\"type\":\"scattermapbox\"}],\"scatterpolargl\":[{\"marker\":{\"colorbar\":{\"outlinewidth\":0,\"ticks\":\"\"}},\"type\":\"scatterpolargl\"}],\"scatterpolar\":[{\"marker\":{\"colorbar\":{\"outlinewidth\":0,\"ticks\":\"\"}},\"type\":\"scatterpolar\"}],\"scatter\":[{\"fillpattern\":{\"fillmode\":\"overlay\",\"size\":10,\"solidity\":0.2},\"type\":\"scatter\"}],\"scatterternary\":[{\"marker\":{\"colorbar\":{\"outlinewidth\":0,\"ticks\":\"\"}},\"type\":\"scatterternary\"}],\"surface\":[{\"colorbar\":{\"outlinewidth\":0,\"ticks\":\"\"},\"colorscale\":[[0.0,\"#0d0887\"],[0.1111111111111111,\"#46039f\"],[0.2222222222222222,\"#7201a8\"],[0.3333333333333333,\"#9c179e\"],[0.4444444444444444,\"#bd3786\"],[0.5555555555555556,\"#d8576b\"],[0.6666666666666666,\"#ed7953\"],[0.7777777777777778,\"#fb9f3a\"],[0.8888888888888888,\"#fdca26\"],[1.0,\"#f0f921\"]],\"type\":\"surface\"}],\"table\":[{\"cells\":{\"fill\":{\"color\":\"#EBF0F8\"},\"line\":{\"color\":\"white\"}},\"header\":{\"fill\":{\"color\":\"#C8D4E3\"},\"line\":{\"color\":\"white\"}},\"type\":\"table\"}]},\"layout\":{\"annotationdefaults\":{\"arrowcolor\":\"#2a3f5f\",\"arrowhead\":0,\"arrowwidth\":1},\"autotypenumbers\":\"strict\",\"coloraxis\":{\"colorbar\":{\"outlinewidth\":0,\"ticks\":\"\"}},\"colorscale\":{\"diverging\":[[0,\"#8e0152\"],[0.1,\"#c51b7d\"],[0.2,\"#de77ae\"],[0.3,\"#f1b6da\"],[0.4,\"#fde0ef\"],[0.5,\"#f7f7f7\"],[0.6,\"#e6f5d0\"],[0.7,\"#b8e186\"],[0.8,\"#7fbc41\"],[0.9,\"#4d9221\"],[1,\"#276419\"]],\"sequential\":[[0.0,\"#0d0887\"],[0.1111111111111111,\"#46039f\"],[0.2222222222222222,\"#7201a8\"],[0.3333333333333333,\"#9c179e\"],[0.4444444444444444,\"#bd3786\"],[0.5555555555555556,\"#d8576b\"],[0.6666666666666666,\"#ed7953\"],[0.7777777777777778,\"#fb9f3a\"],[0.8888888888888888,\"#fdca26\"],[1.0,\"#f0f921\"]],\"sequentialminus\":[[0.0,\"#0d0887\"],[0.1111111111111111,\"#46039f\"],[0.2222222222222222,\"#7201a8\"],[0.3333333333333333,\"#9c179e\"],[0.4444444444444444,\"#bd3786\"],[0.5555555555555556,\"#d8576b\"],[0.6666666666666666,\"#ed7953\"],[0.7777777777777778,\"#fb9f3a\"],[0.8888888888888888,\"#fdca26\"],[1.0,\"#f0f921\"]]},\"colorway\":[\"#636efa\",\"#EF553B\",\"#00cc96\",\"#ab63fa\",\"#FFA15A\",\"#19d3f3\",\"#FF6692\",\"#B6E880\",\"#FF97FF\",\"#FECB52\"],\"font\":{\"color\":\"#2a3f5f\"},\"geo\":{\"bgcolor\":\"white\",\"lakecolor\":\"white\",\"landcolor\":\"white\",\"showlakes\":true,\"showland\":true,\"subunitcolor\":\"#C8D4E3\"},\"hoverlabel\":{\"align\":\"left\"},\"hovermode\":\"closest\",\"mapbox\":{\"style\":\"light\"},\"paper_bgcolor\":\"white\",\"plot_bgcolor\":\"white\",\"polar\":{\"angularaxis\":{\"gridcolor\":\"#EBF0F8\",\"linecolor\":\"#EBF0F8\",\"ticks\":\"\"},\"bgcolor\":\"white\",\"radialaxis\":{\"gridcolor\":\"#EBF0F8\",\"linecolor\":\"#EBF0F8\",\"ticks\":\"\"}},\"scene\":{\"xaxis\":{\"backgroundcolor\":\"white\",\"gridcolor\":\"#DFE8F3\",\"gridwidth\":2,\"linecolor\":\"#EBF0F8\",\"showbackground\":true,\"ticks\":\"\",\"zerolinecolor\":\"#EBF0F8\"},\"yaxis\":{\"backgroundcolor\":\"white\",\"gridcolor\":\"#DFE8F3\",\"gridwidth\":2,\"linecolor\":\"#EBF0F8\",\"showbackground\":true,\"ticks\":\"\",\"zerolinecolor\":\"#EBF0F8\"},\"zaxis\":{\"backgroundcolor\":\"white\",\"gridcolor\":\"#DFE8F3\",\"gridwidth\":2,\"linecolor\":\"#EBF0F8\",\"showbackground\":true,\"ticks\":\"\",\"zerolinecolor\":\"#EBF0F8\"}},\"shapedefaults\":{\"line\":{\"color\":\"#2a3f5f\"}},\"ternary\":{\"aaxis\":{\"gridcolor\":\"#DFE8F3\",\"linecolor\":\"#A2B1C6\",\"ticks\":\"\"},\"baxis\":{\"gridcolor\":\"#DFE8F3\",\"linecolor\":\"#A2B1C6\",\"ticks\":\"\"},\"bgcolor\":\"white\",\"caxis\":{\"gridcolor\":\"#DFE8F3\",\"linecolor\":\"#A2B1C6\",\"ticks\":\"\"}},\"title\":{\"x\":0.05},\"xaxis\":{\"automargin\":true,\"gridcolor\":\"#EBF0F8\",\"linecolor\":\"#EBF0F8\",\"ticks\":\"\",\"title\":{\"standoff\":15},\"zerolinecolor\":\"#EBF0F8\",\"zerolinewidth\":2},\"yaxis\":{\"automargin\":true,\"gridcolor\":\"#EBF0F8\",\"linecolor\":\"#EBF0F8\",\"ticks\":\"\",\"title\":{\"standoff\":15},\"zerolinecolor\":\"#EBF0F8\",\"zerolinewidth\":2}}},\"title\":{\"font\":{\"size\":22,\"color\":\"Black\"},\"text\":\"<b>Hierarchical Clustering\",\"x\":0.5,\"xanchor\":\"center\",\"yanchor\":\"top\"},\"hoverlabel\":{\"font\":{\"size\":16,\"family\":\"Rockwell\"},\"bgcolor\":\"white\"},\"plot_bgcolor\":\"#ECEFF1\"},                        {\"responsive\": true}                    ).then(function(){\n",
       "                            \n",
       "var gd = document.getElementById('6dcaeb22-d0d0-4ba6-b751-02d7fc9fca16');\n",
       "var x = new MutationObserver(function (mutations, observer) {{\n",
       "        var display = window.getComputedStyle(gd).display;\n",
       "        if (!display || display === 'none') {{\n",
       "            console.log([gd, 'removed!']);\n",
       "            Plotly.purge(gd);\n",
       "            observer.disconnect();\n",
       "        }}\n",
       "}});\n",
       "\n",
       "// Listen for the removal of the full notebook cells\n",
       "var notebookContainer = gd.closest('#notebook-container');\n",
       "if (notebookContainer) {{\n",
       "    x.observe(notebookContainer, {childList: true});\n",
       "}}\n",
       "\n",
       "// Listen for the clearing of the current output cell\n",
       "var outputEl = gd.closest('.output');\n",
       "if (outputEl) {{\n",
       "    x.observe(outputEl, {childList: true});\n",
       "}}\n",
       "\n",
       "                        })                };                });            </script>        </div>"
      ]
     },
     "metadata": {},
     "output_type": "display_data"
    }
   ],
   "source": [
    "topic_model.visualize_hierarchy(top_n_topics=9)"
   ]
  },
  {
   "cell_type": "markdown",
   "metadata": {},
   "source": [
    "# topic2vec"
   ]
  },
  {
   "cell_type": "code",
   "execution_count": 134,
   "metadata": {},
   "outputs": [],
   "source": [
    "from IPython.display import display\n",
    "from top2vec import Top2Vec"
   ]
  },
  {
   "cell_type": "markdown",
   "metadata": {},
   "source": [
    "### Top2vec(documents, min_count, speed, workers)\n",
    "\n",
    "documents: 文档列表\n",
    "\n",
    "min_count: 词语最少出现次数。低于min_count的词不加入模型中\n",
    "\n",
    "speed: 训练速度，参数默认\"learn\"；“fast-learn” 速度最快，训练效果最差；“learn” 速度，训练效果中等；“deep-learn” 速度最慢，训练效果最佳\n",
    "\n",
    "workers: 并行运行数，该值最大取值为电脑CPU的核数"
   ]
  },
  {
   "cell_type": "code",
   "execution_count": 164,
   "metadata": {
    "scrolled": true
   },
   "outputs": [
    {
     "name": "stderr",
     "output_type": "stream",
     "text": [
      "2023-04-26 16:34:11,289 - top2vec - INFO - Pre-processing documents for training\n",
      "2023-04-26 16:34:11,364 - top2vec - INFO - Creating joint document/word embedding\n",
      "2023-04-26 16:34:33,679 - top2vec - INFO - Creating lower dimension embedding of documents\n",
      "2023-04-26 16:34:36,913 - top2vec - INFO - Finding dense areas of documents\n",
      "2023-04-26 16:34:36,941 - top2vec - INFO - Finding topics\n"
     ]
    }
   ],
   "source": [
    "top2vec_model = Top2Vec(documents=data, \n",
    "                min_count=5,\n",
    "                speed=\"deep-learn\",  \n",
    "                workers=8)"
   ]
  },
  {
   "cell_type": "code",
   "execution_count": 165,
   "metadata": {},
   "outputs": [
    {
     "data": {
      "text/plain": [
       "7"
      ]
     },
     "execution_count": 165,
     "metadata": {},
     "output_type": "execute_result"
    }
   ],
   "source": [
    "# 话题个数\n",
    "top2vec_model.get_num_topics()"
   ]
  },
  {
   "cell_type": "code",
   "execution_count": 159,
   "metadata": {},
   "outputs": [
    {
     "data": {
      "text/plain": [
       "{'topic_sizes': array([211,  84,  58], dtype=int64),\n",
       " 'topic_ids': array([0, 1, 2], dtype=int64)}"
      ]
     },
     "execution_count": 159,
     "metadata": {},
     "output_type": "execute_result"
    }
   ],
   "source": [
    "# 各话题数量\n",
    "topic_sizes, topic_nums = top2vec_model.get_topic_sizes()\n",
    "\n",
    "{\"topic_sizes\":topic_sizes, \"topic_ids\":topic_nums}"
   ]
  },
  {
   "cell_type": "code",
   "execution_count": 160,
   "metadata": {},
   "outputs": [],
   "source": [
    "def gen_wordcloud(topic_words, word_scores, topic_id):\n",
    "    \"\"\"\n",
    "    topic_words: 主题词列表\n",
    "    word_scores: 主题特征词的权重得分(词语表征主题的能力)\n",
    "    topic_id: 主题id\n",
    "    \"\"\"\n",
    "    import pyecharts.options as opts\n",
    "    from pyecharts.charts import WordCloud\n",
    "    from IPython.display import display\n",
    "    \n",
    "    data = [(word, str(weight)) for word, weight in zip(topic_words, word_scores)]\n",
    "\n",
    "    wc = WordCloud()\n",
    "    wc.add(series_name=\"\", data_pair=data, word_size_range=[6, 88])\n",
    "    wc.set_global_opts(\n",
    "        title_opts=opts.TitleOpts(title=\"Topic_{topic_id}\".format(topic_id=topic_id), \n",
    "                                  title_textstyle_opts=opts.TextStyleOpts(font_size=23)),\n",
    "        tooltip_opts=opts.TooltipOpts(is_show=True))\n",
    "\n",
    "    display(wc.render_notebook())"
   ]
  },
  {
   "cell_type": "code",
   "execution_count": 166,
   "metadata": {
    "scrolled": true
   },
   "outputs": [
    {
     "data": {
      "text/html": [
       "\n",
       "<script>\n",
       "    require.config({\n",
       "        paths: {\n",
       "            'echarts':'https://assets.pyecharts.org/assets/v5/echarts.min', 'echarts-wordcloud':'https://assets.pyecharts.org/assets/v5/echarts-wordcloud.min'\n",
       "        }\n",
       "    });\n",
       "</script>\n",
       "\n",
       "        <div id=\"117b7440a3904b879571eea59b6ab0f4\" style=\"width:900px; height:500px;\"></div>\n",
       "\n",
       "<script>\n",
       "        require(['echarts', 'echarts-wordcloud'], function(echarts) {\n",
       "                var chart_117b7440a3904b879571eea59b6ab0f4 = echarts.init(\n",
       "                    document.getElementById('117b7440a3904b879571eea59b6ab0f4'), 'white', {renderer: 'canvas'});\n",
       "                var option_117b7440a3904b879571eea59b6ab0f4 = {\n",
       "    \"animation\": true,\n",
       "    \"animationThreshold\": 2000,\n",
       "    \"animationDuration\": 1000,\n",
       "    \"animationEasing\": \"cubicOut\",\n",
       "    \"animationDelay\": 0,\n",
       "    \"animationDurationUpdate\": 300,\n",
       "    \"animationEasingUpdate\": \"cubicOut\",\n",
       "    \"animationDelayUpdate\": 0,\n",
       "    \"aria\": {\n",
       "        \"enabled\": false\n",
       "    },\n",
       "    \"color\": [\n",
       "        \"#5470c6\",\n",
       "        \"#91cc75\",\n",
       "        \"#fac858\",\n",
       "        \"#ee6666\",\n",
       "        \"#73c0de\",\n",
       "        \"#3ba272\",\n",
       "        \"#fc8452\",\n",
       "        \"#9a60b4\",\n",
       "        \"#ea7ccc\"\n",
       "    ],\n",
       "    \"series\": [\n",
       "        {\n",
       "            \"type\": \"wordCloud\",\n",
       "            \"shape\": \"circle\",\n",
       "            \"rotationRange\": [\n",
       "                -90,\n",
       "                90\n",
       "            ],\n",
       "            \"rotationStep\": 45,\n",
       "            \"girdSize\": 20,\n",
       "            \"sizeRange\": [\n",
       "                6,\n",
       "                88\n",
       "            ],\n",
       "            \"data\": [\n",
       "                {\n",
       "                    \"name\": \"\\u8001\\u65e7\",\n",
       "                    \"value\": \"0.45464784\",\n",
       "                    \"textStyle\": {\n",
       "                        \"color\": \"rgb(158,29,91)\"\n",
       "                    }\n",
       "                },\n",
       "                {\n",
       "                    \"name\": \"\\u5916\\u5899\",\n",
       "                    \"value\": \"0.45047683\",\n",
       "                    \"textStyle\": {\n",
       "                        \"color\": \"rgb(109,117,80)\"\n",
       "                    }\n",
       "                },\n",
       "                {\n",
       "                    \"name\": \"\\u5e74\\u4e45\\u5931\\u4fee\",\n",
       "                    \"value\": \"0.4482828\",\n",
       "                    \"textStyle\": {\n",
       "                        \"color\": \"rgb(116,14,40)\"\n",
       "                    }\n",
       "                },\n",
       "                {\n",
       "                    \"name\": \"\\u5899\\u4f53\",\n",
       "                    \"value\": \"0.42201486\",\n",
       "                    \"textStyle\": {\n",
       "                        \"color\": \"rgb(141,140,74)\"\n",
       "                    }\n",
       "                },\n",
       "                {\n",
       "                    \"name\": \"\\u5f97\\u4e0d\\u5230\",\n",
       "                    \"value\": \"0.41228837\",\n",
       "                    \"textStyle\": {\n",
       "                        \"color\": \"rgb(79,115,151)\"\n",
       "                    }\n",
       "                },\n",
       "                {\n",
       "                    \"name\": \"\\u8001\\u5316\",\n",
       "                    \"value\": \"0.40466872\",\n",
       "                    \"textStyle\": {\n",
       "                        \"color\": \"rgb(117,157,80)\"\n",
       "                    }\n",
       "                },\n",
       "                {\n",
       "                    \"name\": \"\\u53f7\\u697c\",\n",
       "                    \"value\": \"0.39036378\",\n",
       "                    \"textStyle\": {\n",
       "                        \"color\": \"rgb(132,22,16)\"\n",
       "                    }\n",
       "                },\n",
       "                {\n",
       "                    \"name\": \"\\u4f4f\\u6237\",\n",
       "                    \"value\": \"0.38082522\",\n",
       "                    \"textStyle\": {\n",
       "                        \"color\": \"rgb(44,99,16)\"\n",
       "                    }\n",
       "                },\n",
       "                {\n",
       "                    \"name\": \"\\u65e9\\u5df2\",\n",
       "                    \"value\": \"0.3692259\",\n",
       "                    \"textStyle\": {\n",
       "                        \"color\": \"rgb(4,146,121)\"\n",
       "                    }\n",
       "                },\n",
       "                {\n",
       "                    \"name\": \"\\u4f55\\u65f6\\u80fd\",\n",
       "                    \"value\": \"0.3661533\",\n",
       "                    \"textStyle\": {\n",
       "                        \"color\": \"rgb(142,14,67)\"\n",
       "                    }\n",
       "                },\n",
       "                {\n",
       "                    \"name\": \"\\u7535\\u7ebf\",\n",
       "                    \"value\": \"0.36334327\",\n",
       "                    \"textStyle\": {\n",
       "                        \"color\": \"rgb(73,32,130)\"\n",
       "                    }\n",
       "                },\n",
       "                {\n",
       "                    \"name\": \"\\u73af\\u5883\",\n",
       "                    \"value\": \"0.36323267\",\n",
       "                    \"textStyle\": {\n",
       "                        \"color\": \"rgb(55,49,155)\"\n",
       "                    }\n",
       "                },\n",
       "                {\n",
       "                    \"name\": \"\\u6539\\u9020\",\n",
       "                    \"value\": \"0.36138\",\n",
       "                    \"textStyle\": {\n",
       "                        \"color\": \"rgb(160,130,95)\"\n",
       "                    }\n",
       "                },\n",
       "                {\n",
       "                    \"name\": \"\\u5e74\\u4ee3\",\n",
       "                    \"value\": \"0.36084944\",\n",
       "                    \"textStyle\": {\n",
       "                        \"color\": \"rgb(69,33,125)\"\n",
       "                    }\n",
       "                },\n",
       "                {\n",
       "                    \"name\": \"\\u817e\\u9000\",\n",
       "                    \"value\": \"0.35981137\",\n",
       "                    \"textStyle\": {\n",
       "                        \"color\": \"rgb(68,119,59)\"\n",
       "                    }\n",
       "                },\n",
       "                {\n",
       "                    \"name\": \"\\u59cb\\u7ec8\",\n",
       "                    \"value\": \"0.35375792\",\n",
       "                    \"textStyle\": {\n",
       "                        \"color\": \"rgb(44,27,125)\"\n",
       "                    }\n",
       "                },\n",
       "                {\n",
       "                    \"name\": \"\\u5355\\u5143\\u697c\",\n",
       "                    \"value\": \"0.3520251\",\n",
       "                    \"textStyle\": {\n",
       "                        \"color\": \"rgb(5,131,83)\"\n",
       "                    }\n",
       "                },\n",
       "                {\n",
       "                    \"name\": \"\\u590f\\u5929\",\n",
       "                    \"value\": \"0.34892076\",\n",
       "                    \"textStyle\": {\n",
       "                        \"color\": \"rgb(28,76,128)\"\n",
       "                    }\n",
       "                },\n",
       "                {\n",
       "                    \"name\": \"\\u706b\\u707e\",\n",
       "                    \"value\": \"0.34609365\",\n",
       "                    \"textStyle\": {\n",
       "                        \"color\": \"rgb(45,101,82)\"\n",
       "                    }\n",
       "                },\n",
       "                {\n",
       "                    \"name\": \"\\u51ac\\u5929\",\n",
       "                    \"value\": \"0.34397817\",\n",
       "                    \"textStyle\": {\n",
       "                        \"color\": \"rgb(54,117,124)\"\n",
       "                    }\n",
       "                },\n",
       "                {\n",
       "                    \"name\": \"\\u62c6\\u8fc1\",\n",
       "                    \"value\": \"0.34181872\",\n",
       "                    \"textStyle\": {\n",
       "                        \"color\": \"rgb(137,93,89)\"\n",
       "                    }\n",
       "                },\n",
       "                {\n",
       "                    \"name\": \"\\u65f6\\u5e38\",\n",
       "                    \"value\": \"0.33886394\",\n",
       "                    \"textStyle\": {\n",
       "                        \"color\": \"rgb(63,91,29)\"\n",
       "                    }\n",
       "                },\n",
       "                {\n",
       "                    \"name\": \"\\u8fdd\\u5efa\",\n",
       "                    \"value\": \"0.33819667\",\n",
       "                    \"textStyle\": {\n",
       "                        \"color\": \"rgb(154,141,19)\"\n",
       "                    }\n",
       "                },\n",
       "                {\n",
       "                    \"name\": \"\\u7a7a\\u6c14\",\n",
       "                    \"value\": \"0.33814016\",\n",
       "                    \"textStyle\": {\n",
       "                        \"color\": \"rgb(79,17,49)\"\n",
       "                    }\n",
       "                },\n",
       "                {\n",
       "                    \"name\": \"\\u79ef\\u6c34\",\n",
       "                    \"value\": \"0.33327547\",\n",
       "                    \"textStyle\": {\n",
       "                        \"color\": \"rgb(117,148,32)\"\n",
       "                    }\n",
       "                },\n",
       "                {\n",
       "                    \"name\": \"\\u66f4\\u6362\",\n",
       "                    \"value\": \"0.3323224\",\n",
       "                    \"textStyle\": {\n",
       "                        \"color\": \"rgb(69,4,82)\"\n",
       "                    }\n",
       "                },\n",
       "                {\n",
       "                    \"name\": \"\\u5e02\\u5bb9\",\n",
       "                    \"value\": \"0.33202118\",\n",
       "                    \"textStyle\": {\n",
       "                        \"color\": \"rgb(156,136,41)\"\n",
       "                    }\n",
       "                },\n",
       "                {\n",
       "                    \"name\": \"\\u697c\\u623f\",\n",
       "                    \"value\": \"0.3317559\",\n",
       "                    \"textStyle\": {\n",
       "                        \"color\": \"rgb(7,90,17)\"\n",
       "                    }\n",
       "                },\n",
       "                {\n",
       "                    \"name\": \"\\u9633\\u5149\",\n",
       "                    \"value\": \"0.33138767\",\n",
       "                    \"textStyle\": {\n",
       "                        \"color\": \"rgb(21,138,92)\"\n",
       "                    }\n",
       "                },\n",
       "                {\n",
       "                    \"name\": \"\\u5f00\\u5c55\",\n",
       "                    \"value\": \"0.3306874\",\n",
       "                    \"textStyle\": {\n",
       "                        \"color\": \"rgb(131,106,154)\"\n",
       "                    }\n",
       "                },\n",
       "                {\n",
       "                    \"name\": \"\\u9662\\u5b50\",\n",
       "                    \"value\": \"0.32955852\",\n",
       "                    \"textStyle\": {\n",
       "                        \"color\": \"rgb(62,113,95)\"\n",
       "                    }\n",
       "                },\n",
       "                {\n",
       "                    \"name\": \"\\u58f0\\u97f3\",\n",
       "                    \"value\": \"0.32898498\",\n",
       "                    \"textStyle\": {\n",
       "                        \"color\": \"rgb(29,113,127)\"\n",
       "                    }\n",
       "                },\n",
       "                {\n",
       "                    \"name\": \"\\u5c45\\u591a\",\n",
       "                    \"value\": \"0.32607937\",\n",
       "                    \"textStyle\": {\n",
       "                        \"color\": \"rgb(69,33,72)\"\n",
       "                    }\n",
       "                },\n",
       "                {\n",
       "                    \"name\": \"\\u697c\\u4e0a\",\n",
       "                    \"value\": \"0.32507512\",\n",
       "                    \"textStyle\": {\n",
       "                        \"color\": \"rgb(41,66,39)\"\n",
       "                    }\n",
       "                },\n",
       "                {\n",
       "                    \"name\": \"\\u4e00\\u697c\",\n",
       "                    \"value\": \"0.3249548\",\n",
       "                    \"textStyle\": {\n",
       "                        \"color\": \"rgb(96,63,42)\"\n",
       "                    }\n",
       "                },\n",
       "                {\n",
       "                    \"name\": \"\\u6f0f\\u6c34\",\n",
       "                    \"value\": \"0.32316208\",\n",
       "                    \"textStyle\": {\n",
       "                        \"color\": \"rgb(48,144,151)\"\n",
       "                    }\n",
       "                },\n",
       "                {\n",
       "                    \"name\": \"\\u51fa\\u79df\",\n",
       "                    \"value\": \"0.32290903\",\n",
       "                    \"textStyle\": {\n",
       "                        \"color\": \"rgb(31,11,10)\"\n",
       "                    }\n",
       "                },\n",
       "                {\n",
       "                    \"name\": \"\\u65e9\\u65e5\",\n",
       "                    \"value\": \"0.32145053\",\n",
       "                    \"textStyle\": {\n",
       "                        \"color\": \"rgb(38,101,114)\"\n",
       "                    }\n",
       "                },\n",
       "                {\n",
       "                    \"name\": \"\\u7a7a\\u8c03\",\n",
       "                    \"value\": \"0.32087952\",\n",
       "                    \"textStyle\": {\n",
       "                        \"color\": \"rgb(118,68,60)\"\n",
       "                    }\n",
       "                },\n",
       "                {\n",
       "                    \"name\": \"\\u5e73\\u623f\",\n",
       "                    \"value\": \"0.32036883\",\n",
       "                    \"textStyle\": {\n",
       "                        \"color\": \"rgb(143,73,150)\"\n",
       "                    }\n",
       "                },\n",
       "                {\n",
       "                    \"name\": \"\\u534a\\u591c\",\n",
       "                    \"value\": \"0.31923386\",\n",
       "                    \"textStyle\": {\n",
       "                        \"color\": \"rgb(62,82,16)\"\n",
       "                    }\n",
       "                },\n",
       "                {\n",
       "                    \"name\": \"\\u8fdb\\u53bb\",\n",
       "                    \"value\": \"0.31905487\",\n",
       "                    \"textStyle\": {\n",
       "                        \"color\": \"rgb(85,149,139)\"\n",
       "                    }\n",
       "                },\n",
       "                {\n",
       "                    \"name\": \"\\u540e\\u679c\",\n",
       "                    \"value\": \"0.31650627\",\n",
       "                    \"textStyle\": {\n",
       "                        \"color\": \"rgb(16,142,62)\"\n",
       "                    }\n",
       "                },\n",
       "                {\n",
       "                    \"name\": \"\\u8001\\u5e74\\u4eba\",\n",
       "                    \"value\": \"0.31444183\",\n",
       "                    \"textStyle\": {\n",
       "                        \"color\": \"rgb(59,106,82)\"\n",
       "                    }\n",
       "                },\n",
       "                {\n",
       "                    \"name\": \"\\u53f7\\u9662\",\n",
       "                    \"value\": \"0.31109208\",\n",
       "                    \"textStyle\": {\n",
       "                        \"color\": \"rgb(124,24,25)\"\n",
       "                    }\n",
       "                },\n",
       "                {\n",
       "                    \"name\": \"\\u4e0b\\u697c\",\n",
       "                    \"value\": \"0.3100489\",\n",
       "                    \"textStyle\": {\n",
       "                        \"color\": \"rgb(148,133,21)\"\n",
       "                    }\n",
       "                },\n",
       "                {\n",
       "                    \"name\": \"\\u5c4b\\u9876\",\n",
       "                    \"value\": \"0.3099438\",\n",
       "                    \"textStyle\": {\n",
       "                        \"color\": \"rgb(61,8,152)\"\n",
       "                    }\n",
       "                },\n",
       "                {\n",
       "                    \"name\": \"\\u7b52\\u5b50\\u697c\",\n",
       "                    \"value\": \"0.309023\",\n",
       "                    \"textStyle\": {\n",
       "                        \"color\": \"rgb(143,116,148)\"\n",
       "                    }\n",
       "                },\n",
       "                {\n",
       "                    \"name\": \"\\u9662\\u5185\",\n",
       "                    \"value\": \"0.30826676\",\n",
       "                    \"textStyle\": {\n",
       "                        \"color\": \"rgb(158,93,87)\"\n",
       "                    }\n",
       "                },\n",
       "                {\n",
       "                    \"name\": \"\\u6539\\u5efa\",\n",
       "                    \"value\": \"0.30817023\",\n",
       "                    \"textStyle\": {\n",
       "                        \"color\": \"rgb(87,47,157)\"\n",
       "                    }\n",
       "                }\n",
       "            ],\n",
       "            \"drawOutOfBound\": false,\n",
       "            \"textStyle\": {\n",
       "                \"emphasis\": {}\n",
       "            }\n",
       "        }\n",
       "    ],\n",
       "    \"legend\": [\n",
       "        {\n",
       "            \"data\": [],\n",
       "            \"selected\": {},\n",
       "            \"show\": true,\n",
       "            \"padding\": 5,\n",
       "            \"itemGap\": 10,\n",
       "            \"itemWidth\": 25,\n",
       "            \"itemHeight\": 14,\n",
       "            \"backgroundColor\": \"transparent\",\n",
       "            \"borderColor\": \"#ccc\",\n",
       "            \"borderWidth\": 1,\n",
       "            \"borderRadius\": 0,\n",
       "            \"pageButtonItemGap\": 5,\n",
       "            \"pageButtonPosition\": \"end\",\n",
       "            \"pageFormatter\": \"{current}/{total}\",\n",
       "            \"pageIconColor\": \"#2f4554\",\n",
       "            \"pageIconInactiveColor\": \"#aaa\",\n",
       "            \"pageIconSize\": 15,\n",
       "            \"animationDurationUpdate\": 800,\n",
       "            \"selector\": false,\n",
       "            \"selectorPosition\": \"auto\",\n",
       "            \"selectorItemGap\": 7,\n",
       "            \"selectorButtonGap\": 10\n",
       "        }\n",
       "    ],\n",
       "    \"tooltip\": {\n",
       "        \"show\": true,\n",
       "        \"trigger\": \"item\",\n",
       "        \"triggerOn\": \"mousemove|click\",\n",
       "        \"axisPointer\": {\n",
       "            \"type\": \"line\"\n",
       "        },\n",
       "        \"showContent\": true,\n",
       "        \"alwaysShowContent\": false,\n",
       "        \"showDelay\": 0,\n",
       "        \"hideDelay\": 100,\n",
       "        \"enterable\": false,\n",
       "        \"confine\": false,\n",
       "        \"appendToBody\": false,\n",
       "        \"transitionDuration\": 0.4,\n",
       "        \"textStyle\": {\n",
       "            \"fontSize\": 14\n",
       "        },\n",
       "        \"borderWidth\": 0,\n",
       "        \"padding\": 5,\n",
       "        \"order\": \"seriesAsc\"\n",
       "    },\n",
       "    \"title\": [\n",
       "        {\n",
       "            \"show\": true,\n",
       "            \"text\": \"Topic_0\",\n",
       "            \"target\": \"blank\",\n",
       "            \"subtarget\": \"blank\",\n",
       "            \"padding\": 5,\n",
       "            \"itemGap\": 10,\n",
       "            \"textAlign\": \"auto\",\n",
       "            \"textVerticalAlign\": \"auto\",\n",
       "            \"triggerEvent\": false,\n",
       "            \"textStyle\": {\n",
       "                \"fontSize\": 23\n",
       "            }\n",
       "        }\n",
       "    ]\n",
       "};\n",
       "                chart_117b7440a3904b879571eea59b6ab0f4.setOption(option_117b7440a3904b879571eea59b6ab0f4);\n",
       "        });\n",
       "    </script>\n"
      ],
      "text/plain": [
       "<pyecharts.render.display.HTML at 0x1bdc08b5af0>"
      ]
     },
     "metadata": {},
     "output_type": "display_data"
    },
    {
     "data": {
      "text/html": [
       "\n",
       "<script>\n",
       "    require.config({\n",
       "        paths: {\n",
       "            'echarts':'https://assets.pyecharts.org/assets/v5/echarts.min', 'echarts-wordcloud':'https://assets.pyecharts.org/assets/v5/echarts-wordcloud.min'\n",
       "        }\n",
       "    });\n",
       "</script>\n",
       "\n",
       "        <div id=\"c460ebd538ca42d6ab38d3db521a9fad\" style=\"width:900px; height:500px;\"></div>\n",
       "\n",
       "<script>\n",
       "        require(['echarts', 'echarts-wordcloud'], function(echarts) {\n",
       "                var chart_c460ebd538ca42d6ab38d3db521a9fad = echarts.init(\n",
       "                    document.getElementById('c460ebd538ca42d6ab38d3db521a9fad'), 'white', {renderer: 'canvas'});\n",
       "                var option_c460ebd538ca42d6ab38d3db521a9fad = {\n",
       "    \"animation\": true,\n",
       "    \"animationThreshold\": 2000,\n",
       "    \"animationDuration\": 1000,\n",
       "    \"animationEasing\": \"cubicOut\",\n",
       "    \"animationDelay\": 0,\n",
       "    \"animationDurationUpdate\": 300,\n",
       "    \"animationEasingUpdate\": \"cubicOut\",\n",
       "    \"animationDelayUpdate\": 0,\n",
       "    \"aria\": {\n",
       "        \"enabled\": false\n",
       "    },\n",
       "    \"color\": [\n",
       "        \"#5470c6\",\n",
       "        \"#91cc75\",\n",
       "        \"#fac858\",\n",
       "        \"#ee6666\",\n",
       "        \"#73c0de\",\n",
       "        \"#3ba272\",\n",
       "        \"#fc8452\",\n",
       "        \"#9a60b4\",\n",
       "        \"#ea7ccc\"\n",
       "    ],\n",
       "    \"series\": [\n",
       "        {\n",
       "            \"type\": \"wordCloud\",\n",
       "            \"shape\": \"circle\",\n",
       "            \"rotationRange\": [\n",
       "                -90,\n",
       "                90\n",
       "            ],\n",
       "            \"rotationStep\": 45,\n",
       "            \"girdSize\": 20,\n",
       "            \"sizeRange\": [\n",
       "                6,\n",
       "                88\n",
       "            ],\n",
       "            \"data\": [\n",
       "                {\n",
       "                    \"name\": \"\\u884c\\u4eba\",\n",
       "                    \"value\": \"0.62768507\",\n",
       "                    \"textStyle\": {\n",
       "                        \"color\": \"rgb(57,81,106)\"\n",
       "                    }\n",
       "                },\n",
       "                {\n",
       "                    \"name\": \"\\u673a\\u52a8\\u8f66\",\n",
       "                    \"value\": \"0.57083756\",\n",
       "                    \"textStyle\": {\n",
       "                        \"color\": \"rgb(137,37,14)\"\n",
       "                    }\n",
       "                },\n",
       "                {\n",
       "                    \"name\": \"\\u884c\\u9a76\",\n",
       "                    \"value\": \"0.5288317\",\n",
       "                    \"textStyle\": {\n",
       "                        \"color\": \"rgb(56,118,19)\"\n",
       "                    }\n",
       "                },\n",
       "                {\n",
       "                    \"name\": \"\\u673a\\u52a8\\u8f66\\u9053\",\n",
       "                    \"value\": \"0.5164447\",\n",
       "                    \"textStyle\": {\n",
       "                        \"color\": \"rgb(113,33,33)\"\n",
       "                    }\n",
       "                },\n",
       "                {\n",
       "                    \"name\": \"\\u901a\\u884c\",\n",
       "                    \"value\": \"0.51142555\",\n",
       "                    \"textStyle\": {\n",
       "                        \"color\": \"rgb(111,95,139)\"\n",
       "                    }\n",
       "                },\n",
       "                {\n",
       "                    \"name\": \"\\u8f66\\u9053\",\n",
       "                    \"value\": \"0.50074446\",\n",
       "                    \"textStyle\": {\n",
       "                        \"color\": \"rgb(0,23,91)\"\n",
       "                    }\n",
       "                },\n",
       "                {\n",
       "                    \"name\": \"\\u89c6\\u7ebf\",\n",
       "                    \"value\": \"0.49903467\",\n",
       "                    \"textStyle\": {\n",
       "                        \"color\": \"rgb(122,96,2)\"\n",
       "                    }\n",
       "                },\n",
       "                {\n",
       "                    \"name\": \"\\u8f6c\\u5f2f\",\n",
       "                    \"value\": \"0.4973613\",\n",
       "                    \"textStyle\": {\n",
       "                        \"color\": \"rgb(111,111,124)\"\n",
       "                    }\n",
       "                },\n",
       "                {\n",
       "                    \"name\": \"\\u53f8\\u673a\",\n",
       "                    \"value\": \"0.49630028\",\n",
       "                    \"textStyle\": {\n",
       "                        \"color\": \"rgb(159,140,95)\"\n",
       "                    }\n",
       "                },\n",
       "                {\n",
       "                    \"name\": \"\\u8def\\u6bb5\",\n",
       "                    \"value\": \"0.49113342\",\n",
       "                    \"textStyle\": {\n",
       "                        \"color\": \"rgb(129,76,28)\"\n",
       "                    }\n",
       "                },\n",
       "                {\n",
       "                    \"name\": \"\\u5de1\\u67e5\",\n",
       "                    \"value\": \"0.48372018\",\n",
       "                    \"textStyle\": {\n",
       "                        \"color\": \"rgb(11,89,113)\"\n",
       "                    }\n",
       "                },\n",
       "                {\n",
       "                    \"name\": \"\\u6765\\u5f80\",\n",
       "                    \"value\": \"0.481186\",\n",
       "                    \"textStyle\": {\n",
       "                        \"color\": \"rgb(23,153,42)\"\n",
       "                    }\n",
       "                },\n",
       "                {\n",
       "                    \"name\": \"\\u5371\\u9669\",\n",
       "                    \"value\": \"0.4763511\",\n",
       "                    \"textStyle\": {\n",
       "                        \"color\": \"rgb(140,113,150)\"\n",
       "                    }\n",
       "                },\n",
       "                {\n",
       "                    \"name\": \"\\u7ea2\\u7eff\\u706f\",\n",
       "                    \"value\": \"0.4726331\",\n",
       "                    \"textStyle\": {\n",
       "                        \"color\": \"rgb(121,47,127)\"\n",
       "                    }\n",
       "                },\n",
       "                {\n",
       "                    \"name\": \"\\u4ea4\\u901a\\u4e8b\\u6545\",\n",
       "                    \"value\": \"0.47239885\",\n",
       "                    \"textStyle\": {\n",
       "                        \"color\": \"rgb(77,148,132)\"\n",
       "                    }\n",
       "                },\n",
       "                {\n",
       "                    \"name\": \"\\u9ad8\\u5cf0\",\n",
       "                    \"value\": \"0.46935752\",\n",
       "                    \"textStyle\": {\n",
       "                        \"color\": \"rgb(81,97,70)\"\n",
       "                    }\n",
       "                },\n",
       "                {\n",
       "                    \"name\": \"\\u4ea4\\u53c9\\u53e3\",\n",
       "                    \"value\": \"0.46433532\",\n",
       "                    \"textStyle\": {\n",
       "                        \"color\": \"rgb(53,41,42)\"\n",
       "                    }\n",
       "                },\n",
       "                {\n",
       "                    \"name\": \"\\u975e\\u673a\\u52a8\\u8f66\",\n",
       "                    \"value\": \"0.4625356\",\n",
       "                    \"textStyle\": {\n",
       "                        \"color\": \"rgb(143,46,160)\"\n",
       "                    }\n",
       "                },\n",
       "                {\n",
       "                    \"name\": \"\\u884c\\u8f66\\u9053\",\n",
       "                    \"value\": \"0.4615983\",\n",
       "                    \"textStyle\": {\n",
       "                        \"color\": \"rgb(117,111,131)\"\n",
       "                    }\n",
       "                },\n",
       "                {\n",
       "                    \"name\": \"\\u8fdd\\u505c\",\n",
       "                    \"value\": \"0.45758685\",\n",
       "                    \"textStyle\": {\n",
       "                        \"color\": \"rgb(8,24,25)\"\n",
       "                    }\n",
       "                },\n",
       "                {\n",
       "                    \"name\": \"\\u65e9\\u665a\",\n",
       "                    \"value\": \"0.4567056\",\n",
       "                    \"textStyle\": {\n",
       "                        \"color\": \"rgb(133,93,23)\"\n",
       "                    }\n",
       "                },\n",
       "                {\n",
       "                    \"name\": \"\\u4fe1\\u53f7\\u706f\",\n",
       "                    \"value\": \"0.45590365\",\n",
       "                    \"textStyle\": {\n",
       "                        \"color\": \"rgb(134,121,8)\"\n",
       "                    }\n",
       "                },\n",
       "                {\n",
       "                    \"name\": \"\\u53f3\\u8f6c\",\n",
       "                    \"value\": \"0.44742617\",\n",
       "                    \"textStyle\": {\n",
       "                        \"color\": \"rgb(61,70,106)\"\n",
       "                    }\n",
       "                },\n",
       "                {\n",
       "                    \"name\": \"\\u7eff\\u706f\",\n",
       "                    \"value\": \"0.44647664\",\n",
       "                    \"textStyle\": {\n",
       "                        \"color\": \"rgb(46,84,27)\"\n",
       "                    }\n",
       "                },\n",
       "                {\n",
       "                    \"name\": \"\\u7531\\u897f\\u5411\\u4e1c\",\n",
       "                    \"value\": \"0.44386104\",\n",
       "                    \"textStyle\": {\n",
       "                        \"color\": \"rgb(128,80,93)\"\n",
       "                    }\n",
       "                },\n",
       "                {\n",
       "                    \"name\": \"\\u4ea4\\u7ba1\\u90e8\\u95e8\",\n",
       "                    \"value\": \"0.44366542\",\n",
       "                    \"textStyle\": {\n",
       "                        \"color\": \"rgb(145,87,142)\"\n",
       "                    }\n",
       "                },\n",
       "                {\n",
       "                    \"name\": \"\\u6591\\u9a6c\\u7ebf\",\n",
       "                    \"value\": \"0.44055694\",\n",
       "                    \"textStyle\": {\n",
       "                        \"color\": \"rgb(108,38,118)\"\n",
       "                    }\n",
       "                },\n",
       "                {\n",
       "                    \"name\": \"\\u76f4\\u884c\",\n",
       "                    \"value\": \"0.43897596\",\n",
       "                    \"textStyle\": {\n",
       "                        \"color\": \"rgb(83,13,122)\"\n",
       "                    }\n",
       "                },\n",
       "                {\n",
       "                    \"name\": \"\\u5927\\u6279\",\n",
       "                    \"value\": \"0.42361733\",\n",
       "                    \"textStyle\": {\n",
       "                        \"color\": \"rgb(17,39,30)\"\n",
       "                    }\n",
       "                },\n",
       "                {\n",
       "                    \"name\": \"\\u8def\\u4e0a\",\n",
       "                    \"value\": \"0.4231351\",\n",
       "                    \"textStyle\": {\n",
       "                        \"color\": \"rgb(48,78,93)\"\n",
       "                    }\n",
       "                },\n",
       "                {\n",
       "                    \"name\": \"\\u4eba\\u884c\\u9053\",\n",
       "                    \"value\": \"0.4211775\",\n",
       "                    \"textStyle\": {\n",
       "                        \"color\": \"rgb(35,89,16)\"\n",
       "                    }\n",
       "                },\n",
       "                {\n",
       "                    \"name\": \"\\u9760\\u8fd1\",\n",
       "                    \"value\": \"0.42034402\",\n",
       "                    \"textStyle\": {\n",
       "                        \"color\": \"rgb(10,81,102)\"\n",
       "                    }\n",
       "                },\n",
       "                {\n",
       "                    \"name\": \"\\u6389\\u5934\",\n",
       "                    \"value\": \"0.41642892\",\n",
       "                    \"textStyle\": {\n",
       "                        \"color\": \"rgb(102,24,148)\"\n",
       "                    }\n",
       "                },\n",
       "                {\n",
       "                    \"name\": \"\\u8def\\u53e3\",\n",
       "                    \"value\": \"0.41439208\",\n",
       "                    \"textStyle\": {\n",
       "                        \"color\": \"rgb(145,129,154)\"\n",
       "                    }\n",
       "                },\n",
       "                {\n",
       "                    \"name\": \"\\u81ea\\u884c\\u8f66\\u9053\",\n",
       "                    \"value\": \"0.41437516\",\n",
       "                    \"textStyle\": {\n",
       "                        \"color\": \"rgb(10,9,126)\"\n",
       "                    }\n",
       "                },\n",
       "                {\n",
       "                    \"name\": \"\\u4eba\\u884c\",\n",
       "                    \"value\": \"0.41301852\",\n",
       "                    \"textStyle\": {\n",
       "                        \"color\": \"rgb(63,93,113)\"\n",
       "                    }\n",
       "                },\n",
       "                {\n",
       "                    \"name\": \"\\u4e01\\u5b57\",\n",
       "                    \"value\": \"0.4124634\",\n",
       "                    \"textStyle\": {\n",
       "                        \"color\": \"rgb(143,103,155)\"\n",
       "                    }\n",
       "                },\n",
       "                {\n",
       "                    \"name\": \"\\u5de6\\u8f6c\",\n",
       "                    \"value\": \"0.41029942\",\n",
       "                    \"textStyle\": {\n",
       "                        \"color\": \"rgb(113,9,6)\"\n",
       "                    }\n",
       "                },\n",
       "                {\n",
       "                    \"name\": \"\\u5357\\u5411\",\n",
       "                    \"value\": \"0.40942758\",\n",
       "                    \"textStyle\": {\n",
       "                        \"color\": \"rgb(156,95,50)\"\n",
       "                    }\n",
       "                },\n",
       "                {\n",
       "                    \"name\": \"\\u6a2a\\u7a7f\\u9a6c\\u8def\",\n",
       "                    \"value\": \"0.40570885\",\n",
       "                    \"textStyle\": {\n",
       "                        \"color\": \"rgb(42,74,118)\"\n",
       "                    }\n",
       "                },\n",
       "                {\n",
       "                    \"name\": \"\\u6761\\u8def\",\n",
       "                    \"value\": \"0.40370563\",\n",
       "                    \"textStyle\": {\n",
       "                        \"color\": \"rgb(105,72,14)\"\n",
       "                    }\n",
       "                },\n",
       "                {\n",
       "                    \"name\": \"\\u6807\\u7ebf\",\n",
       "                    \"value\": \"0.40300152\",\n",
       "                    \"textStyle\": {\n",
       "                        \"color\": \"rgb(47,139,76)\"\n",
       "                    }\n",
       "                },\n",
       "                {\n",
       "                    \"name\": \"\\u62a4\\u680f\",\n",
       "                    \"value\": \"0.40271282\",\n",
       "                    \"textStyle\": {\n",
       "                        \"color\": \"rgb(136,143,59)\"\n",
       "                    }\n",
       "                },\n",
       "                {\n",
       "                    \"name\": \"\\u9006\\u884c\",\n",
       "                    \"value\": \"0.4016779\",\n",
       "                    \"textStyle\": {\n",
       "                        \"color\": \"rgb(80,41,136)\"\n",
       "                    }\n",
       "                },\n",
       "                {\n",
       "                    \"name\": \"\\u6df7\\u884c\",\n",
       "                    \"value\": \"0.39370844\",\n",
       "                    \"textStyle\": {\n",
       "                        \"color\": \"rgb(20,25,141)\"\n",
       "                    }\n",
       "                },\n",
       "                {\n",
       "                    \"name\": \"\\u4e1c\\u897f\\u5411\",\n",
       "                    \"value\": \"0.3891835\",\n",
       "                    \"textStyle\": {\n",
       "                        \"color\": \"rgb(17,33,3)\"\n",
       "                    }\n",
       "                },\n",
       "                {\n",
       "                    \"name\": \"\\u8de8\\u8d8a\",\n",
       "                    \"value\": \"0.38863313\",\n",
       "                    \"textStyle\": {\n",
       "                        \"color\": \"rgb(23,73,62)\"\n",
       "                    }\n",
       "                },\n",
       "                {\n",
       "                    \"name\": \"\\u5357\\u5317\\u5411\",\n",
       "                    \"value\": \"0.3878429\",\n",
       "                    \"textStyle\": {\n",
       "                        \"color\": \"rgb(116,21,109)\"\n",
       "                    }\n",
       "                },\n",
       "                {\n",
       "                    \"name\": \"\\u5357\\u8def\",\n",
       "                    \"value\": \"0.3870007\",\n",
       "                    \"textStyle\": {\n",
       "                        \"color\": \"rgb(103,86,147)\"\n",
       "                    }\n",
       "                },\n",
       "                {\n",
       "                    \"name\": \"\\u56f4\\u6321\",\n",
       "                    \"value\": \"0.38455412\",\n",
       "                    \"textStyle\": {\n",
       "                        \"color\": \"rgb(86,42,52)\"\n",
       "                    }\n",
       "                }\n",
       "            ],\n",
       "            \"drawOutOfBound\": false,\n",
       "            \"textStyle\": {\n",
       "                \"emphasis\": {}\n",
       "            }\n",
       "        }\n",
       "    ],\n",
       "    \"legend\": [\n",
       "        {\n",
       "            \"data\": [],\n",
       "            \"selected\": {},\n",
       "            \"show\": true,\n",
       "            \"padding\": 5,\n",
       "            \"itemGap\": 10,\n",
       "            \"itemWidth\": 25,\n",
       "            \"itemHeight\": 14,\n",
       "            \"backgroundColor\": \"transparent\",\n",
       "            \"borderColor\": \"#ccc\",\n",
       "            \"borderWidth\": 1,\n",
       "            \"borderRadius\": 0,\n",
       "            \"pageButtonItemGap\": 5,\n",
       "            \"pageButtonPosition\": \"end\",\n",
       "            \"pageFormatter\": \"{current}/{total}\",\n",
       "            \"pageIconColor\": \"#2f4554\",\n",
       "            \"pageIconInactiveColor\": \"#aaa\",\n",
       "            \"pageIconSize\": 15,\n",
       "            \"animationDurationUpdate\": 800,\n",
       "            \"selector\": false,\n",
       "            \"selectorPosition\": \"auto\",\n",
       "            \"selectorItemGap\": 7,\n",
       "            \"selectorButtonGap\": 10\n",
       "        }\n",
       "    ],\n",
       "    \"tooltip\": {\n",
       "        \"show\": true,\n",
       "        \"trigger\": \"item\",\n",
       "        \"triggerOn\": \"mousemove|click\",\n",
       "        \"axisPointer\": {\n",
       "            \"type\": \"line\"\n",
       "        },\n",
       "        \"showContent\": true,\n",
       "        \"alwaysShowContent\": false,\n",
       "        \"showDelay\": 0,\n",
       "        \"hideDelay\": 100,\n",
       "        \"enterable\": false,\n",
       "        \"confine\": false,\n",
       "        \"appendToBody\": false,\n",
       "        \"transitionDuration\": 0.4,\n",
       "        \"textStyle\": {\n",
       "            \"fontSize\": 14\n",
       "        },\n",
       "        \"borderWidth\": 0,\n",
       "        \"padding\": 5,\n",
       "        \"order\": \"seriesAsc\"\n",
       "    },\n",
       "    \"title\": [\n",
       "        {\n",
       "            \"show\": true,\n",
       "            \"text\": \"Topic_1\",\n",
       "            \"target\": \"blank\",\n",
       "            \"subtarget\": \"blank\",\n",
       "            \"padding\": 5,\n",
       "            \"itemGap\": 10,\n",
       "            \"textAlign\": \"auto\",\n",
       "            \"textVerticalAlign\": \"auto\",\n",
       "            \"triggerEvent\": false,\n",
       "            \"textStyle\": {\n",
       "                \"fontSize\": 23\n",
       "            }\n",
       "        }\n",
       "    ]\n",
       "};\n",
       "                chart_c460ebd538ca42d6ab38d3db521a9fad.setOption(option_c460ebd538ca42d6ab38d3db521a9fad);\n",
       "        });\n",
       "    </script>\n"
      ],
      "text/plain": [
       "<pyecharts.render.display.HTML at 0x1bdc08b5af0>"
      ]
     },
     "metadata": {},
     "output_type": "display_data"
    },
    {
     "data": {
      "text/html": [
       "\n",
       "<script>\n",
       "    require.config({\n",
       "        paths: {\n",
       "            'echarts':'https://assets.pyecharts.org/assets/v5/echarts.min', 'echarts-wordcloud':'https://assets.pyecharts.org/assets/v5/echarts-wordcloud.min'\n",
       "        }\n",
       "    });\n",
       "</script>\n",
       "\n",
       "        <div id=\"da69f096e77045239a02a5cdccd6945f\" style=\"width:900px; height:500px;\"></div>\n",
       "\n",
       "<script>\n",
       "        require(['echarts', 'echarts-wordcloud'], function(echarts) {\n",
       "                var chart_da69f096e77045239a02a5cdccd6945f = echarts.init(\n",
       "                    document.getElementById('da69f096e77045239a02a5cdccd6945f'), 'white', {renderer: 'canvas'});\n",
       "                var option_da69f096e77045239a02a5cdccd6945f = {\n",
       "    \"animation\": true,\n",
       "    \"animationThreshold\": 2000,\n",
       "    \"animationDuration\": 1000,\n",
       "    \"animationEasing\": \"cubicOut\",\n",
       "    \"animationDelay\": 0,\n",
       "    \"animationDurationUpdate\": 300,\n",
       "    \"animationEasingUpdate\": \"cubicOut\",\n",
       "    \"animationDelayUpdate\": 0,\n",
       "    \"aria\": {\n",
       "        \"enabled\": false\n",
       "    },\n",
       "    \"color\": [\n",
       "        \"#5470c6\",\n",
       "        \"#91cc75\",\n",
       "        \"#fac858\",\n",
       "        \"#ee6666\",\n",
       "        \"#73c0de\",\n",
       "        \"#3ba272\",\n",
       "        \"#fc8452\",\n",
       "        \"#9a60b4\",\n",
       "        \"#ea7ccc\"\n",
       "    ],\n",
       "    \"series\": [\n",
       "        {\n",
       "            \"type\": \"wordCloud\",\n",
       "            \"shape\": \"circle\",\n",
       "            \"rotationRange\": [\n",
       "                -90,\n",
       "                90\n",
       "            ],\n",
       "            \"rotationStep\": 45,\n",
       "            \"girdSize\": 20,\n",
       "            \"sizeRange\": [\n",
       "                6,\n",
       "                88\n",
       "            ],\n",
       "            \"data\": [\n",
       "                {\n",
       "                    \"name\": \"\\u9000\\u6b3e\",\n",
       "                    \"value\": \"0.7227527\",\n",
       "                    \"textStyle\": {\n",
       "                        \"color\": \"rgb(122,157,138)\"\n",
       "                    }\n",
       "                },\n",
       "                {\n",
       "                    \"name\": \"\\u9000\\u8d39\",\n",
       "                    \"value\": \"0.7112534\",\n",
       "                    \"textStyle\": {\n",
       "                        \"color\": \"rgb(138,3,1)\"\n",
       "                    }\n",
       "                },\n",
       "                {\n",
       "                    \"name\": \"\\u8bfe\\u7a0b\",\n",
       "                    \"value\": \"0.674186\",\n",
       "                    \"textStyle\": {\n",
       "                        \"color\": \"rgb(10,151,74)\"\n",
       "                    }\n",
       "                },\n",
       "                {\n",
       "                    \"name\": \"\\u627f\\u8bfa\",\n",
       "                    \"value\": \"0.6541866\",\n",
       "                    \"textStyle\": {\n",
       "                        \"color\": \"rgb(46,58,102)\"\n",
       "                    }\n",
       "                },\n",
       "                {\n",
       "                    \"name\": \"\\u8bf1\\u5bfc\",\n",
       "                    \"value\": \"0.6318091\",\n",
       "                    \"textStyle\": {\n",
       "                        \"color\": \"rgb(64,143,82)\"\n",
       "                    }\n",
       "                },\n",
       "                {\n",
       "                    \"name\": \"\\u6709\\u9650\\u516c\\u53f8\",\n",
       "                    \"value\": \"0.6260689\",\n",
       "                    \"textStyle\": {\n",
       "                        \"color\": \"rgb(18,19,124)\"\n",
       "                    }\n",
       "                },\n",
       "                {\n",
       "                    \"name\": \"\\u5b66\\u8d39\",\n",
       "                    \"value\": \"0.6254306\",\n",
       "                    \"textStyle\": {\n",
       "                        \"color\": \"rgb(72,126,84)\"\n",
       "                    }\n",
       "                },\n",
       "                {\n",
       "                    \"name\": \"\\u62a5\\u540d\",\n",
       "                    \"value\": \"0.615205\",\n",
       "                    \"textStyle\": {\n",
       "                        \"color\": \"rgb(8,143,123)\"\n",
       "                    }\n",
       "                },\n",
       "                {\n",
       "                    \"name\": \"\\u5ba2\\u670d\",\n",
       "                    \"value\": \"0.6084195\",\n",
       "                    \"textStyle\": {\n",
       "                        \"color\": \"rgb(130,75,91)\"\n",
       "                    }\n",
       "                },\n",
       "                {\n",
       "                    \"name\": \"\\u5168\\u989d\",\n",
       "                    \"value\": \"0.5983566\",\n",
       "                    \"textStyle\": {\n",
       "                        \"color\": \"rgb(77,52,134)\"\n",
       "                    }\n",
       "                },\n",
       "                {\n",
       "                    \"name\": \"\\u6d88\\u8d39\\u8005\",\n",
       "                    \"value\": \"0.5888811\",\n",
       "                    \"textStyle\": {\n",
       "                        \"color\": \"rgb(21,11,27)\"\n",
       "                    }\n",
       "                },\n",
       "                {\n",
       "                    \"name\": \"\\u8bc1\\u4e66\",\n",
       "                    \"value\": \"0.58467263\",\n",
       "                    \"textStyle\": {\n",
       "                        \"color\": \"rgb(72,158,59)\"\n",
       "                    }\n",
       "                },\n",
       "                {\n",
       "                    \"name\": \"\\u673a\\u6784\",\n",
       "                    \"value\": \"0.58064204\",\n",
       "                    \"textStyle\": {\n",
       "                        \"color\": \"rgb(91,139,77)\"\n",
       "                    }\n",
       "                },\n",
       "                {\n",
       "                    \"name\": \"\\u9000\\u8fd8\",\n",
       "                    \"value\": \"0.5779807\",\n",
       "                    \"textStyle\": {\n",
       "                        \"color\": \"rgb(27,41,36)\"\n",
       "                    }\n",
       "                },\n",
       "                {\n",
       "                    \"name\": \"\\u7f51\\u7edc\",\n",
       "                    \"value\": \"0.5708948\",\n",
       "                    \"textStyle\": {\n",
       "                        \"color\": \"rgb(12,131,149)\"\n",
       "                    }\n",
       "                },\n",
       "                {\n",
       "                    \"name\": \"\\u865a\\u5047\",\n",
       "                    \"value\": \"0.56809497\",\n",
       "                    \"textStyle\": {\n",
       "                        \"color\": \"rgb(79,77,5)\"\n",
       "                    }\n",
       "                },\n",
       "                {\n",
       "                    \"name\": \"\\u8001\\u5e08\",\n",
       "                    \"value\": \"0.5665228\",\n",
       "                    \"textStyle\": {\n",
       "                        \"color\": \"rgb(54,77,156)\"\n",
       "                    }\n",
       "                },\n",
       "                {\n",
       "                    \"name\": \"\\u8054\\u7cfb\",\n",
       "                    \"value\": \"0.56398785\",\n",
       "                    \"textStyle\": {\n",
       "                        \"color\": \"rgb(160,160,49)\"\n",
       "                    }\n",
       "                },\n",
       "                {\n",
       "                    \"name\": \"\\u8d39\\u7528\",\n",
       "                    \"value\": \"0.56338227\",\n",
       "                    \"textStyle\": {\n",
       "                        \"color\": \"rgb(33,7,38)\"\n",
       "                    }\n",
       "                },\n",
       "                {\n",
       "                    \"name\": \"\\u5171\\u8ba1\",\n",
       "                    \"value\": \"0.5624372\",\n",
       "                    \"textStyle\": {\n",
       "                        \"color\": \"rgb(127,113,108)\"\n",
       "                    }\n",
       "                },\n",
       "                {\n",
       "                    \"name\": \"\\u5de5\\u7a0b\\u5e08\",\n",
       "                    \"value\": \"0.555814\",\n",
       "                    \"textStyle\": {\n",
       "                        \"color\": \"rgb(63,95,32)\"\n",
       "                    }\n",
       "                },\n",
       "                {\n",
       "                    \"name\": \"\\u8fd4\\u8fd8\",\n",
       "                    \"value\": \"0.55414087\",\n",
       "                    \"textStyle\": {\n",
       "                        \"color\": \"rgb(145,30,26)\"\n",
       "                    }\n",
       "                },\n",
       "                {\n",
       "                    \"name\": \"\\u8003\\u8bd5\",\n",
       "                    \"value\": \"0.5534123\",\n",
       "                    \"textStyle\": {\n",
       "                        \"color\": \"rgb(21,133,30)\"\n",
       "                    }\n",
       "                },\n",
       "                {\n",
       "                    \"name\": \"\\u62a5\\u540d\\u8d39\",\n",
       "                    \"value\": \"0.55186075\",\n",
       "                    \"textStyle\": {\n",
       "                        \"color\": \"rgb(136,150,40)\"\n",
       "                    }\n",
       "                },\n",
       "                {\n",
       "                    \"name\": \"\\u5206\\u671f\",\n",
       "                    \"value\": \"0.55123925\",\n",
       "                    \"textStyle\": {\n",
       "                        \"color\": \"rgb(132,131,28)\"\n",
       "                    }\n",
       "                },\n",
       "                {\n",
       "                    \"name\": \"\\u62a5\\u8003\",\n",
       "                    \"value\": \"0.544042\",\n",
       "                    \"textStyle\": {\n",
       "                        \"color\": \"rgb(84,114,75)\"\n",
       "                    }\n",
       "                },\n",
       "                {\n",
       "                    \"name\": \"\\u62d6\\u5ef6\",\n",
       "                    \"value\": \"0.54314864\",\n",
       "                    \"textStyle\": {\n",
       "                        \"color\": \"rgb(104,39,10)\"\n",
       "                    }\n",
       "                },\n",
       "                {\n",
       "                    \"name\": \"\\u8fd4\\u6b3e\",\n",
       "                    \"value\": \"0.53343093\",\n",
       "                    \"textStyle\": {\n",
       "                        \"color\": \"rgb(68,107,97)\"\n",
       "                    }\n",
       "                },\n",
       "                {\n",
       "                    \"name\": \"\\u5305\\u8fc7\",\n",
       "                    \"value\": \"0.5315998\",\n",
       "                    \"textStyle\": {\n",
       "                        \"color\": \"rgb(85,84,93)\"\n",
       "                    }\n",
       "                },\n",
       "                {\n",
       "                    \"name\": \"\\u65e0\\u679c\",\n",
       "                    \"value\": \"0.5267744\",\n",
       "                    \"textStyle\": {\n",
       "                        \"color\": \"rgb(125,72,105)\"\n",
       "                    }\n",
       "                },\n",
       "                {\n",
       "                    \"name\": \"\\u7f51\\u6821\",\n",
       "                    \"value\": \"0.5227502\",\n",
       "                    \"textStyle\": {\n",
       "                        \"color\": \"rgb(155,68,100)\"\n",
       "                    }\n",
       "                },\n",
       "                {\n",
       "                    \"name\": \"\\u73ed\\u4e3b\\u4efb\",\n",
       "                    \"value\": \"0.5219896\",\n",
       "                    \"textStyle\": {\n",
       "                        \"color\": \"rgb(136,24,79)\"\n",
       "                    }\n",
       "                },\n",
       "                {\n",
       "                    \"name\": \"\\u6536\\u5230\",\n",
       "                    \"value\": \"0.51877284\",\n",
       "                    \"textStyle\": {\n",
       "                        \"color\": \"rgb(56,134,21)\"\n",
       "                    }\n",
       "                },\n",
       "                {\n",
       "                    \"name\": \"\\u63a8\\u8131\",\n",
       "                    \"value\": \"0.51743335\",\n",
       "                    \"textStyle\": {\n",
       "                        \"color\": \"rgb(8,152,127)\"\n",
       "                    }\n",
       "                },\n",
       "                {\n",
       "                    \"name\": \"\\u4e00\\u7ea7\",\n",
       "                    \"value\": \"0.5150496\",\n",
       "                    \"textStyle\": {\n",
       "                        \"color\": \"rgb(79,37,74)\"\n",
       "                    }\n",
       "                },\n",
       "                {\n",
       "                    \"name\": \"\\u505a\\u4e3b\",\n",
       "                    \"value\": \"0.51468045\",\n",
       "                    \"textStyle\": {\n",
       "                        \"color\": \"rgb(148,11,70)\"\n",
       "                    }\n",
       "                },\n",
       "                {\n",
       "                    \"name\": \"\\u53c2\\u52a0\\u8003\\u8bd5\",\n",
       "                    \"value\": \"0.51358646\",\n",
       "                    \"textStyle\": {\n",
       "                        \"color\": \"rgb(9,3,13)\"\n",
       "                    }\n",
       "                },\n",
       "                {\n",
       "                    \"name\": \"\\u4e0d\\u4e88\",\n",
       "                    \"value\": \"0.5120627\",\n",
       "                    \"textStyle\": {\n",
       "                        \"color\": \"rgb(37,80,63)\"\n",
       "                    }\n",
       "                },\n",
       "                {\n",
       "                    \"name\": \"\\u5fae\\u4fe1\",\n",
       "                    \"value\": \"0.51114\",\n",
       "                    \"textStyle\": {\n",
       "                        \"color\": \"rgb(126,126,104)\"\n",
       "                    }\n",
       "                },\n",
       "                {\n",
       "                    \"name\": \"\\u6211\\u4e8e\",\n",
       "                    \"value\": \"0.5011792\",\n",
       "                    \"textStyle\": {\n",
       "                        \"color\": \"rgb(86,2,35)\"\n",
       "                    }\n",
       "                },\n",
       "                {\n",
       "                    \"name\": \"\\u9000\\u56de\",\n",
       "                    \"value\": \"0.50034976\",\n",
       "                    \"textStyle\": {\n",
       "                        \"color\": \"rgb(57,5,144)\"\n",
       "                    }\n",
       "                },\n",
       "                {\n",
       "                    \"name\": \"\\u5f00\\u8bfe\",\n",
       "                    \"value\": \"0.49614352\",\n",
       "                    \"textStyle\": {\n",
       "                        \"color\": \"rgb(65,47,58)\"\n",
       "                    }\n",
       "                },\n",
       "                {\n",
       "                    \"name\": \"\\u79d1\\u6280\",\n",
       "                    \"value\": \"0.49427992\",\n",
       "                    \"textStyle\": {\n",
       "                        \"color\": \"rgb(98,160,72)\"\n",
       "                    }\n",
       "                },\n",
       "                {\n",
       "                    \"name\": \"\\u4ea4\\u4e86\",\n",
       "                    \"value\": \"0.4928219\",\n",
       "                    \"textStyle\": {\n",
       "                        \"color\": \"rgb(112,150,49)\"\n",
       "                    }\n",
       "                },\n",
       "                {\n",
       "                    \"name\": \"\\u6708\\u4efd\",\n",
       "                    \"value\": \"0.49200428\",\n",
       "                    \"textStyle\": {\n",
       "                        \"color\": \"rgb(147,1,76)\"\n",
       "                    }\n",
       "                },\n",
       "                {\n",
       "                    \"name\": \"\\u6761\\u6b3e\",\n",
       "                    \"value\": \"0.49154213\",\n",
       "                    \"textStyle\": {\n",
       "                        \"color\": \"rgb(106,57,10)\"\n",
       "                    }\n",
       "                },\n",
       "                {\n",
       "                    \"name\": \"\\u4ed8\\u6b3e\",\n",
       "                    \"value\": \"0.48989037\",\n",
       "                    \"textStyle\": {\n",
       "                        \"color\": \"rgb(121,105,107)\"\n",
       "                    }\n",
       "                },\n",
       "                {\n",
       "                    \"name\": \"\\u7f34\\u8d39\",\n",
       "                    \"value\": \"0.48940238\",\n",
       "                    \"textStyle\": {\n",
       "                        \"color\": \"rgb(33,102,112)\"\n",
       "                    }\n",
       "                },\n",
       "                {\n",
       "                    \"name\": \"\\u57f9\\u8bad\",\n",
       "                    \"value\": \"0.48684907\",\n",
       "                    \"textStyle\": {\n",
       "                        \"color\": \"rgb(94,104,114)\"\n",
       "                    }\n",
       "                },\n",
       "                {\n",
       "                    \"name\": \"\\u5408\\u540c\",\n",
       "                    \"value\": \"0.48512545\",\n",
       "                    \"textStyle\": {\n",
       "                        \"color\": \"rgb(87,152,55)\"\n",
       "                    }\n",
       "                }\n",
       "            ],\n",
       "            \"drawOutOfBound\": false,\n",
       "            \"textStyle\": {\n",
       "                \"emphasis\": {}\n",
       "            }\n",
       "        }\n",
       "    ],\n",
       "    \"legend\": [\n",
       "        {\n",
       "            \"data\": [],\n",
       "            \"selected\": {},\n",
       "            \"show\": true,\n",
       "            \"padding\": 5,\n",
       "            \"itemGap\": 10,\n",
       "            \"itemWidth\": 25,\n",
       "            \"itemHeight\": 14,\n",
       "            \"backgroundColor\": \"transparent\",\n",
       "            \"borderColor\": \"#ccc\",\n",
       "            \"borderWidth\": 1,\n",
       "            \"borderRadius\": 0,\n",
       "            \"pageButtonItemGap\": 5,\n",
       "            \"pageButtonPosition\": \"end\",\n",
       "            \"pageFormatter\": \"{current}/{total}\",\n",
       "            \"pageIconColor\": \"#2f4554\",\n",
       "            \"pageIconInactiveColor\": \"#aaa\",\n",
       "            \"pageIconSize\": 15,\n",
       "            \"animationDurationUpdate\": 800,\n",
       "            \"selector\": false,\n",
       "            \"selectorPosition\": \"auto\",\n",
       "            \"selectorItemGap\": 7,\n",
       "            \"selectorButtonGap\": 10\n",
       "        }\n",
       "    ],\n",
       "    \"tooltip\": {\n",
       "        \"show\": true,\n",
       "        \"trigger\": \"item\",\n",
       "        \"triggerOn\": \"mousemove|click\",\n",
       "        \"axisPointer\": {\n",
       "            \"type\": \"line\"\n",
       "        },\n",
       "        \"showContent\": true,\n",
       "        \"alwaysShowContent\": false,\n",
       "        \"showDelay\": 0,\n",
       "        \"hideDelay\": 100,\n",
       "        \"enterable\": false,\n",
       "        \"confine\": false,\n",
       "        \"appendToBody\": false,\n",
       "        \"transitionDuration\": 0.4,\n",
       "        \"textStyle\": {\n",
       "            \"fontSize\": 14\n",
       "        },\n",
       "        \"borderWidth\": 0,\n",
       "        \"padding\": 5,\n",
       "        \"order\": \"seriesAsc\"\n",
       "    },\n",
       "    \"title\": [\n",
       "        {\n",
       "            \"show\": true,\n",
       "            \"text\": \"Topic_2\",\n",
       "            \"target\": \"blank\",\n",
       "            \"subtarget\": \"blank\",\n",
       "            \"padding\": 5,\n",
       "            \"itemGap\": 10,\n",
       "            \"textAlign\": \"auto\",\n",
       "            \"textVerticalAlign\": \"auto\",\n",
       "            \"triggerEvent\": false,\n",
       "            \"textStyle\": {\n",
       "                \"fontSize\": 23\n",
       "            }\n",
       "        }\n",
       "    ]\n",
       "};\n",
       "                chart_da69f096e77045239a02a5cdccd6945f.setOption(option_da69f096e77045239a02a5cdccd6945f);\n",
       "        });\n",
       "    </script>\n"
      ],
      "text/plain": [
       "<pyecharts.render.display.HTML at 0x1bdc08b5af0>"
      ]
     },
     "metadata": {},
     "output_type": "display_data"
    },
    {
     "data": {
      "text/html": [
       "\n",
       "<script>\n",
       "    require.config({\n",
       "        paths: {\n",
       "            'echarts':'https://assets.pyecharts.org/assets/v5/echarts.min', 'echarts-wordcloud':'https://assets.pyecharts.org/assets/v5/echarts-wordcloud.min'\n",
       "        }\n",
       "    });\n",
       "</script>\n",
       "\n",
       "        <div id=\"3dcf6ed53e9641bba8c6865346963210\" style=\"width:900px; height:500px;\"></div>\n",
       "\n",
       "<script>\n",
       "        require(['echarts', 'echarts-wordcloud'], function(echarts) {\n",
       "                var chart_3dcf6ed53e9641bba8c6865346963210 = echarts.init(\n",
       "                    document.getElementById('3dcf6ed53e9641bba8c6865346963210'), 'white', {renderer: 'canvas'});\n",
       "                var option_3dcf6ed53e9641bba8c6865346963210 = {\n",
       "    \"animation\": true,\n",
       "    \"animationThreshold\": 2000,\n",
       "    \"animationDuration\": 1000,\n",
       "    \"animationEasing\": \"cubicOut\",\n",
       "    \"animationDelay\": 0,\n",
       "    \"animationDurationUpdate\": 300,\n",
       "    \"animationEasingUpdate\": \"cubicOut\",\n",
       "    \"animationDelayUpdate\": 0,\n",
       "    \"aria\": {\n",
       "        \"enabled\": false\n",
       "    },\n",
       "    \"color\": [\n",
       "        \"#5470c6\",\n",
       "        \"#91cc75\",\n",
       "        \"#fac858\",\n",
       "        \"#ee6666\",\n",
       "        \"#73c0de\",\n",
       "        \"#3ba272\",\n",
       "        \"#fc8452\",\n",
       "        \"#9a60b4\",\n",
       "        \"#ea7ccc\"\n",
       "    ],\n",
       "    \"series\": [\n",
       "        {\n",
       "            \"type\": \"wordCloud\",\n",
       "            \"shape\": \"circle\",\n",
       "            \"rotationRange\": [\n",
       "                -90,\n",
       "                90\n",
       "            ],\n",
       "            \"rotationStep\": 45,\n",
       "            \"girdSize\": 20,\n",
       "            \"sizeRange\": [\n",
       "                6,\n",
       "                88\n",
       "            ],\n",
       "            \"data\": [\n",
       "                {\n",
       "                    \"name\": \"\\u953b\\u70bc\",\n",
       "                    \"value\": \"0.6199526\",\n",
       "                    \"textStyle\": {\n",
       "                        \"color\": \"rgb(114,135,16)\"\n",
       "                    }\n",
       "                },\n",
       "                {\n",
       "                    \"name\": \"\\u8fd0\\u52a8\",\n",
       "                    \"value\": \"0.59269184\",\n",
       "                    \"textStyle\": {\n",
       "                        \"color\": \"rgb(112,159,88)\"\n",
       "                    }\n",
       "                },\n",
       "                {\n",
       "                    \"name\": \"\\u5065\\u8eab\",\n",
       "                    \"value\": \"0.5702321\",\n",
       "                    \"textStyle\": {\n",
       "                        \"color\": \"rgb(72,58,44)\"\n",
       "                    }\n",
       "                },\n",
       "                {\n",
       "                    \"name\": \"\\u8dd1\\u6b65\",\n",
       "                    \"value\": \"0.5369132\",\n",
       "                    \"textStyle\": {\n",
       "                        \"color\": \"rgb(98,33,124)\"\n",
       "                    }\n",
       "                },\n",
       "                {\n",
       "                    \"name\": \"\\u7a7a\\u5730\",\n",
       "                    \"value\": \"0.53078353\",\n",
       "                    \"textStyle\": {\n",
       "                        \"color\": \"rgb(12,74,1)\"\n",
       "                    }\n",
       "                },\n",
       "                {\n",
       "                    \"name\": \"\\u90ca\\u91ce\",\n",
       "                    \"value\": \"0.5022053\",\n",
       "                    \"textStyle\": {\n",
       "                        \"color\": \"rgb(3,17,85)\"\n",
       "                    }\n",
       "                },\n",
       "                {\n",
       "                    \"name\": \"\\u516c\\u56ed\",\n",
       "                    \"value\": \"0.44321498\",\n",
       "                    \"textStyle\": {\n",
       "                        \"color\": \"rgb(29,17,116)\"\n",
       "                    }\n",
       "                },\n",
       "                {\n",
       "                    \"name\": \"\\u559c\\u6b22\",\n",
       "                    \"value\": \"0.43395585\",\n",
       "                    \"textStyle\": {\n",
       "                        \"color\": \"rgb(109,42,146)\"\n",
       "                    }\n",
       "                },\n",
       "                {\n",
       "                    \"name\": \"\\u6d3b\\u52a8\",\n",
       "                    \"value\": \"0.42082843\",\n",
       "                    \"textStyle\": {\n",
       "                        \"color\": \"rgb(61,5,26)\"\n",
       "                    }\n",
       "                },\n",
       "                {\n",
       "                    \"name\": \"\\u9002\\u5408\",\n",
       "                    \"value\": \"0.41698802\",\n",
       "                    \"textStyle\": {\n",
       "                        \"color\": \"rgb(123,12,87)\"\n",
       "                    }\n",
       "                },\n",
       "                {\n",
       "                    \"name\": \"\\u4f53\\u80b2\",\n",
       "                    \"value\": \"0.4032396\",\n",
       "                    \"textStyle\": {\n",
       "                        \"color\": \"rgb(74,86,133)\"\n",
       "                    }\n",
       "                },\n",
       "                {\n",
       "                    \"name\": \"\\u4eba\\u4eec\",\n",
       "                    \"value\": \"0.40042076\",\n",
       "                    \"textStyle\": {\n",
       "                        \"color\": \"rgb(124,130,117)\"\n",
       "                    }\n",
       "                },\n",
       "                {\n",
       "                    \"name\": \"\\u573a\\u5730\",\n",
       "                    \"value\": \"0.3982287\",\n",
       "                    \"textStyle\": {\n",
       "                        \"color\": \"rgb(69,159,122)\"\n",
       "                    }\n",
       "                },\n",
       "                {\n",
       "                    \"name\": \"\\u56fe\\u4e66\\u9986\",\n",
       "                    \"value\": \"0.38629\",\n",
       "                    \"textStyle\": {\n",
       "                        \"color\": \"rgb(58,137,60)\"\n",
       "                    }\n",
       "                },\n",
       "                {\n",
       "                    \"name\": \"\\u5f00\\u653e\",\n",
       "                    \"value\": \"0.38441163\",\n",
       "                    \"textStyle\": {\n",
       "                        \"color\": \"rgb(70,84,104)\"\n",
       "                    }\n",
       "                },\n",
       "                {\n",
       "                    \"name\": \"\\u5168\\u6c11\",\n",
       "                    \"value\": \"0.3794651\",\n",
       "                    \"textStyle\": {\n",
       "                        \"color\": \"rgb(153,6,138)\"\n",
       "                    }\n",
       "                },\n",
       "                {\n",
       "                    \"name\": \"\\u573a\\u6240\",\n",
       "                    \"value\": \"0.37160054\",\n",
       "                    \"textStyle\": {\n",
       "                        \"color\": \"rgb(29,101,57)\"\n",
       "                    }\n",
       "                },\n",
       "                {\n",
       "                    \"name\": \"\\u56ed\\u5185\",\n",
       "                    \"value\": \"0.3703941\",\n",
       "                    \"textStyle\": {\n",
       "                        \"color\": \"rgb(72,98,142)\"\n",
       "                    }\n",
       "                },\n",
       "                {\n",
       "                    \"name\": \"\\u5927\\u5b66\",\n",
       "                    \"value\": \"0.36683795\",\n",
       "                    \"textStyle\": {\n",
       "                        \"color\": \"rgb(139,98,154)\"\n",
       "                    }\n",
       "                },\n",
       "                {\n",
       "                    \"name\": \"\\u8fd9\\u7247\",\n",
       "                    \"value\": \"0.35542175\",\n",
       "                    \"textStyle\": {\n",
       "                        \"color\": \"rgb(51,69,79)\"\n",
       "                    }\n",
       "                },\n",
       "                {\n",
       "                    \"name\": \"\\u56ed\\u6797\",\n",
       "                    \"value\": \"0.35479116\",\n",
       "                    \"textStyle\": {\n",
       "                        \"color\": \"rgb(120,131,31)\"\n",
       "                    }\n",
       "                },\n",
       "                {\n",
       "                    \"name\": \"\\u7b80\\u6d01\",\n",
       "                    \"value\": \"0.3516976\",\n",
       "                    \"textStyle\": {\n",
       "                        \"color\": \"rgb(72,3,72)\"\n",
       "                    }\n",
       "                },\n",
       "                {\n",
       "                    \"name\": \"\\u6e38\\u73a9\",\n",
       "                    \"value\": \"0.34491155\",\n",
       "                    \"textStyle\": {\n",
       "                        \"color\": \"rgb(23,46,76)\"\n",
       "                    }\n",
       "                },\n",
       "                {\n",
       "                    \"name\": \"\\u6539\\u540d\",\n",
       "                    \"value\": \"0.33922413\",\n",
       "                    \"textStyle\": {\n",
       "                        \"color\": \"rgb(68,79,74)\"\n",
       "                    }\n",
       "                },\n",
       "                {\n",
       "                    \"name\": \"\\u5065\\u8eab\\u623f\",\n",
       "                    \"value\": \"0.33118087\",\n",
       "                    \"textStyle\": {\n",
       "                        \"color\": \"rgb(10,85,116)\"\n",
       "                    }\n",
       "                },\n",
       "                {\n",
       "                    \"name\": \"\\u516c\\u5395\",\n",
       "                    \"value\": \"0.32863888\",\n",
       "                    \"textStyle\": {\n",
       "                        \"color\": \"rgb(159,98,97)\"\n",
       "                    }\n",
       "                },\n",
       "                {\n",
       "                    \"name\": \"\\u4e0d\\u5c0f\",\n",
       "                    \"value\": \"0.32618514\",\n",
       "                    \"textStyle\": {\n",
       "                        \"color\": \"rgb(51,34,30)\"\n",
       "                    }\n",
       "                },\n",
       "                {\n",
       "                    \"name\": \"\\u513f\\u7ae5\",\n",
       "                    \"value\": \"0.31810826\",\n",
       "                    \"textStyle\": {\n",
       "                        \"color\": \"rgb(127,45,93)\"\n",
       "                    }\n",
       "                },\n",
       "                {\n",
       "                    \"name\": \"\\u8425\\u4e1a\",\n",
       "                    \"value\": \"0.31249055\",\n",
       "                    \"textStyle\": {\n",
       "                        \"color\": \"rgb(83,27,153)\"\n",
       "                    }\n",
       "                },\n",
       "                {\n",
       "                    \"name\": \"\\u8bbe\\u65bd\",\n",
       "                    \"value\": \"0.3027958\",\n",
       "                    \"textStyle\": {\n",
       "                        \"color\": \"rgb(22,68,142)\"\n",
       "                    }\n",
       "                },\n",
       "                {\n",
       "                    \"name\": \"\\u6307\\u6570\",\n",
       "                    \"value\": \"0.30184668\",\n",
       "                    \"textStyle\": {\n",
       "                        \"color\": \"rgb(106,18,140)\"\n",
       "                    }\n",
       "                },\n",
       "                {\n",
       "                    \"name\": \"\\u5e73\\u65f6\",\n",
       "                    \"value\": \"0.2960777\",\n",
       "                    \"textStyle\": {\n",
       "                        \"color\": \"rgb(35,146,60)\"\n",
       "                    }\n",
       "                },\n",
       "                {\n",
       "                    \"name\": \"\\u6781\\u6613\",\n",
       "                    \"value\": \"0.2906203\",\n",
       "                    \"textStyle\": {\n",
       "                        \"color\": \"rgb(21,20,121)\"\n",
       "                    }\n",
       "                },\n",
       "                {\n",
       "                    \"name\": \"\\u4ee5\\u6765\",\n",
       "                    \"value\": \"0.2857869\",\n",
       "                    \"textStyle\": {\n",
       "                        \"color\": \"rgb(3,44,141)\"\n",
       "                    }\n",
       "                },\n",
       "                {\n",
       "                    \"name\": \"\\u5a31\\u4e50\",\n",
       "                    \"value\": \"0.28151244\",\n",
       "                    \"textStyle\": {\n",
       "                        \"color\": \"rgb(10,15,156)\"\n",
       "                    }\n",
       "                },\n",
       "                {\n",
       "                    \"name\": \"\\u8d70\\u8def\",\n",
       "                    \"value\": \"0.27547106\",\n",
       "                    \"textStyle\": {\n",
       "                        \"color\": \"rgb(152,87,48)\"\n",
       "                    }\n",
       "                },\n",
       "                {\n",
       "                    \"name\": \"\\u5982\\u4eca\",\n",
       "                    \"value\": \"0.27247205\",\n",
       "                    \"textStyle\": {\n",
       "                        \"color\": \"rgb(34,100,75)\"\n",
       "                    }\n",
       "                },\n",
       "                {\n",
       "                    \"name\": \"\\u7eff\\u5730\",\n",
       "                    \"value\": \"0.26791295\",\n",
       "                    \"textStyle\": {\n",
       "                        \"color\": \"rgb(41,93,93)\"\n",
       "                    }\n",
       "                },\n",
       "                {\n",
       "                    \"name\": \"\\u65c1\\u8fb9\",\n",
       "                    \"value\": \"0.26476097\",\n",
       "                    \"textStyle\": {\n",
       "                        \"color\": \"rgb(33,73,112)\"\n",
       "                    }\n",
       "                },\n",
       "                {\n",
       "                    \"name\": \"\\u6bd4\\u8f83\",\n",
       "                    \"value\": \"0.2630123\",\n",
       "                    \"textStyle\": {\n",
       "                        \"color\": \"rgb(59,78,14)\"\n",
       "                    }\n",
       "                },\n",
       "                {\n",
       "                    \"name\": \"\\u6e7f\\u5730\",\n",
       "                    \"value\": \"0.26252657\",\n",
       "                    \"textStyle\": {\n",
       "                        \"color\": \"rgb(33,16,122)\"\n",
       "                    }\n",
       "                },\n",
       "                {\n",
       "                    \"name\": \"\\u5e73\\u623f\",\n",
       "                    \"value\": \"0.26111227\",\n",
       "                    \"textStyle\": {\n",
       "                        \"color\": \"rgb(54,15,0)\"\n",
       "                    }\n",
       "                },\n",
       "                {\n",
       "                    \"name\": \"\\u4e00\\u662f\",\n",
       "                    \"value\": \"0.26108482\",\n",
       "                    \"textStyle\": {\n",
       "                        \"color\": \"rgb(146,102,24)\"\n",
       "                    }\n",
       "                },\n",
       "                {\n",
       "                    \"name\": \"\\u5546\\u4e1a\\u5316\",\n",
       "                    \"value\": \"0.25833926\",\n",
       "                    \"textStyle\": {\n",
       "                        \"color\": \"rgb(20,29,35)\"\n",
       "                    }\n",
       "                },\n",
       "                {\n",
       "                    \"name\": \"\\u53cb\\u8c0a\\u8def\",\n",
       "                    \"value\": \"0.25509456\",\n",
       "                    \"textStyle\": {\n",
       "                        \"color\": \"rgb(135,74,41)\"\n",
       "                    }\n",
       "                },\n",
       "                {\n",
       "                    \"name\": \"\\u826f\\u597d\",\n",
       "                    \"value\": \"0.25451693\",\n",
       "                    \"textStyle\": {\n",
       "                        \"color\": \"rgb(64,54,115)\"\n",
       "                    }\n",
       "                },\n",
       "                {\n",
       "                    \"name\": \"\\u5317\\u9762\",\n",
       "                    \"value\": \"0.24618678\",\n",
       "                    \"textStyle\": {\n",
       "                        \"color\": \"rgb(39,109,105)\"\n",
       "                    }\n",
       "                },\n",
       "                {\n",
       "                    \"name\": \"\\u548c\\u8c10\",\n",
       "                    \"value\": \"0.24589764\",\n",
       "                    \"textStyle\": {\n",
       "                        \"color\": \"rgb(111,73,114)\"\n",
       "                    }\n",
       "                },\n",
       "                {\n",
       "                    \"name\": \"\\u8eab\\u4f53\",\n",
       "                    \"value\": \"0.24447846\",\n",
       "                    \"textStyle\": {\n",
       "                        \"color\": \"rgb(153,6,150)\"\n",
       "                    }\n",
       "                },\n",
       "                {\n",
       "                    \"name\": \"\\u5761\\u9053\",\n",
       "                    \"value\": \"0.23960577\",\n",
       "                    \"textStyle\": {\n",
       "                        \"color\": \"rgb(53,0,60)\"\n",
       "                    }\n",
       "                }\n",
       "            ],\n",
       "            \"drawOutOfBound\": false,\n",
       "            \"textStyle\": {\n",
       "                \"emphasis\": {}\n",
       "            }\n",
       "        }\n",
       "    ],\n",
       "    \"legend\": [\n",
       "        {\n",
       "            \"data\": [],\n",
       "            \"selected\": {},\n",
       "            \"show\": true,\n",
       "            \"padding\": 5,\n",
       "            \"itemGap\": 10,\n",
       "            \"itemWidth\": 25,\n",
       "            \"itemHeight\": 14,\n",
       "            \"backgroundColor\": \"transparent\",\n",
       "            \"borderColor\": \"#ccc\",\n",
       "            \"borderWidth\": 1,\n",
       "            \"borderRadius\": 0,\n",
       "            \"pageButtonItemGap\": 5,\n",
       "            \"pageButtonPosition\": \"end\",\n",
       "            \"pageFormatter\": \"{current}/{total}\",\n",
       "            \"pageIconColor\": \"#2f4554\",\n",
       "            \"pageIconInactiveColor\": \"#aaa\",\n",
       "            \"pageIconSize\": 15,\n",
       "            \"animationDurationUpdate\": 800,\n",
       "            \"selector\": false,\n",
       "            \"selectorPosition\": \"auto\",\n",
       "            \"selectorItemGap\": 7,\n",
       "            \"selectorButtonGap\": 10\n",
       "        }\n",
       "    ],\n",
       "    \"tooltip\": {\n",
       "        \"show\": true,\n",
       "        \"trigger\": \"item\",\n",
       "        \"triggerOn\": \"mousemove|click\",\n",
       "        \"axisPointer\": {\n",
       "            \"type\": \"line\"\n",
       "        },\n",
       "        \"showContent\": true,\n",
       "        \"alwaysShowContent\": false,\n",
       "        \"showDelay\": 0,\n",
       "        \"hideDelay\": 100,\n",
       "        \"enterable\": false,\n",
       "        \"confine\": false,\n",
       "        \"appendToBody\": false,\n",
       "        \"transitionDuration\": 0.4,\n",
       "        \"textStyle\": {\n",
       "            \"fontSize\": 14\n",
       "        },\n",
       "        \"borderWidth\": 0,\n",
       "        \"padding\": 5,\n",
       "        \"order\": \"seriesAsc\"\n",
       "    },\n",
       "    \"title\": [\n",
       "        {\n",
       "            \"show\": true,\n",
       "            \"text\": \"Topic_3\",\n",
       "            \"target\": \"blank\",\n",
       "            \"subtarget\": \"blank\",\n",
       "            \"padding\": 5,\n",
       "            \"itemGap\": 10,\n",
       "            \"textAlign\": \"auto\",\n",
       "            \"textVerticalAlign\": \"auto\",\n",
       "            \"triggerEvent\": false,\n",
       "            \"textStyle\": {\n",
       "                \"fontSize\": 23\n",
       "            }\n",
       "        }\n",
       "    ]\n",
       "};\n",
       "                chart_3dcf6ed53e9641bba8c6865346963210.setOption(option_3dcf6ed53e9641bba8c6865346963210);\n",
       "        });\n",
       "    </script>\n"
      ],
      "text/plain": [
       "<pyecharts.render.display.HTML at 0x1bdc08b5af0>"
      ]
     },
     "metadata": {},
     "output_type": "display_data"
    },
    {
     "data": {
      "text/html": [
       "\n",
       "<script>\n",
       "    require.config({\n",
       "        paths: {\n",
       "            'echarts':'https://assets.pyecharts.org/assets/v5/echarts.min', 'echarts-wordcloud':'https://assets.pyecharts.org/assets/v5/echarts-wordcloud.min'\n",
       "        }\n",
       "    });\n",
       "</script>\n",
       "\n",
       "        <div id=\"a52d0f1cc7544e1c8d5febe9ba162393\" style=\"width:900px; height:500px;\"></div>\n",
       "\n",
       "<script>\n",
       "        require(['echarts', 'echarts-wordcloud'], function(echarts) {\n",
       "                var chart_a52d0f1cc7544e1c8d5febe9ba162393 = echarts.init(\n",
       "                    document.getElementById('a52d0f1cc7544e1c8d5febe9ba162393'), 'white', {renderer: 'canvas'});\n",
       "                var option_a52d0f1cc7544e1c8d5febe9ba162393 = {\n",
       "    \"animation\": true,\n",
       "    \"animationThreshold\": 2000,\n",
       "    \"animationDuration\": 1000,\n",
       "    \"animationEasing\": \"cubicOut\",\n",
       "    \"animationDelay\": 0,\n",
       "    \"animationDurationUpdate\": 300,\n",
       "    \"animationEasingUpdate\": \"cubicOut\",\n",
       "    \"animationDelayUpdate\": 0,\n",
       "    \"aria\": {\n",
       "        \"enabled\": false\n",
       "    },\n",
       "    \"color\": [\n",
       "        \"#5470c6\",\n",
       "        \"#91cc75\",\n",
       "        \"#fac858\",\n",
       "        \"#ee6666\",\n",
       "        \"#73c0de\",\n",
       "        \"#3ba272\",\n",
       "        \"#fc8452\",\n",
       "        \"#9a60b4\",\n",
       "        \"#ea7ccc\"\n",
       "    ],\n",
       "    \"series\": [\n",
       "        {\n",
       "            \"type\": \"wordCloud\",\n",
       "            \"shape\": \"circle\",\n",
       "            \"rotationRange\": [\n",
       "                -90,\n",
       "                90\n",
       "            ],\n",
       "            \"rotationStep\": 45,\n",
       "            \"girdSize\": 20,\n",
       "            \"sizeRange\": [\n",
       "                6,\n",
       "                88\n",
       "            ],\n",
       "            \"data\": [\n",
       "                {\n",
       "                    \"name\": \"\\u5c31\\u8fd1\\u5165\\u5b66\",\n",
       "                    \"value\": \"0.6231377\",\n",
       "                    \"textStyle\": {\n",
       "                        \"color\": \"rgb(48,38,92)\"\n",
       "                    }\n",
       "                },\n",
       "                {\n",
       "                    \"name\": \"\\u5c0f\\u5b66\",\n",
       "                    \"value\": \"0.58485264\",\n",
       "                    \"textStyle\": {\n",
       "                        \"color\": \"rgb(136,23,9)\"\n",
       "                    }\n",
       "                },\n",
       "                {\n",
       "                    \"name\": \"\\u5b66\\u6821\",\n",
       "                    \"value\": \"0.5846804\",\n",
       "                    \"textStyle\": {\n",
       "                        \"color\": \"rgb(113,73,20)\"\n",
       "                    }\n",
       "                },\n",
       "                {\n",
       "                    \"name\": \"\\u5b66\\u533a\",\n",
       "                    \"value\": \"0.57880795\",\n",
       "                    \"textStyle\": {\n",
       "                        \"color\": \"rgb(8,147,69)\"\n",
       "                    }\n",
       "                },\n",
       "                {\n",
       "                    \"name\": \"\\u521d\\u4e2d\",\n",
       "                    \"value\": \"0.5496179\",\n",
       "                    \"textStyle\": {\n",
       "                        \"color\": \"rgb(5,150,159)\"\n",
       "                    }\n",
       "                },\n",
       "                {\n",
       "                    \"name\": \"\\u6559\\u59d4\",\n",
       "                    \"value\": \"0.5356986\",\n",
       "                    \"textStyle\": {\n",
       "                        \"color\": \"rgb(125,80,101)\"\n",
       "                    }\n",
       "                },\n",
       "                {\n",
       "                    \"name\": \"\\u591a\\u6821\",\n",
       "                    \"value\": \"0.5334109\",\n",
       "                    \"textStyle\": {\n",
       "                        \"color\": \"rgb(69,149,124)\"\n",
       "                    }\n",
       "                },\n",
       "                {\n",
       "                    \"name\": \"\\u4e00\\u8d2f\\u5236\",\n",
       "                    \"value\": \"0.52943313\",\n",
       "                    \"textStyle\": {\n",
       "                        \"color\": \"rgb(49,33,19)\"\n",
       "                    }\n",
       "                },\n",
       "                {\n",
       "                    \"name\": \"\\u4e5d\\u5e74\",\n",
       "                    \"value\": \"0.52648103\",\n",
       "                    \"textStyle\": {\n",
       "                        \"color\": \"rgb(26,29,160)\"\n",
       "                    }\n",
       "                },\n",
       "                {\n",
       "                    \"name\": \"\\u4e00\\u8d2f\",\n",
       "                    \"value\": \"0.52\",\n",
       "                    \"textStyle\": {\n",
       "                        \"color\": \"rgb(67,119,77)\"\n",
       "                    }\n",
       "                },\n",
       "                {\n",
       "                    \"name\": \"\\u5165\\u5b66\",\n",
       "                    \"value\": \"0.5191401\",\n",
       "                    \"textStyle\": {\n",
       "                        \"color\": \"rgb(34,136,159)\"\n",
       "                    }\n",
       "                },\n",
       "                {\n",
       "                    \"name\": \"\\u6559\\u80b2\\u8d44\\u6e90\",\n",
       "                    \"value\": \"0.51622754\",\n",
       "                    \"textStyle\": {\n",
       "                        \"color\": \"rgb(71,4,51)\"\n",
       "                    }\n",
       "                },\n",
       "                {\n",
       "                    \"name\": \"\\u5bb6\\u957f\",\n",
       "                    \"value\": \"0.5159169\",\n",
       "                    \"textStyle\": {\n",
       "                        \"color\": \"rgb(145,113,93)\"\n",
       "                    }\n",
       "                },\n",
       "                {\n",
       "                    \"name\": \"\\u4f18\\u8d28\",\n",
       "                    \"value\": \"0.513175\",\n",
       "                    \"textStyle\": {\n",
       "                        \"color\": \"rgb(117,54,15)\"\n",
       "                    }\n",
       "                },\n",
       "                {\n",
       "                    \"name\": \"\\u6d3e\\u4f4d\",\n",
       "                    \"value\": \"0.5109311\",\n",
       "                    \"textStyle\": {\n",
       "                        \"color\": \"rgb(39,114,15)\"\n",
       "                    }\n",
       "                },\n",
       "                {\n",
       "                    \"name\": \"\\u4e8c\\u5b69\",\n",
       "                    \"value\": \"0.50177693\",\n",
       "                    \"textStyle\": {\n",
       "                        \"color\": \"rgb(87,61,100)\"\n",
       "                    }\n",
       "                },\n",
       "                {\n",
       "                    \"name\": \"\\u540c\\u4e00\\u4e2a\",\n",
       "                    \"value\": \"0.4973413\",\n",
       "                    \"textStyle\": {\n",
       "                        \"color\": \"rgb(89,129,62)\"\n",
       "                    }\n",
       "                },\n",
       "                {\n",
       "                    \"name\": \"\\u63a5\\u9001\",\n",
       "                    \"value\": \"0.4905224\",\n",
       "                    \"textStyle\": {\n",
       "                        \"color\": \"rgb(139,24,73)\"\n",
       "                    }\n",
       "                },\n",
       "                {\n",
       "                    \"name\": \"\\u6821\\u533a\",\n",
       "                    \"value\": \"0.4871097\",\n",
       "                    \"textStyle\": {\n",
       "                        \"color\": \"rgb(61,98,96)\"\n",
       "                    }\n",
       "                },\n",
       "                {\n",
       "                    \"name\": \"\\u5e7c\\u5347\",\n",
       "                    \"value\": \"0.48451468\",\n",
       "                    \"textStyle\": {\n",
       "                        \"color\": \"rgb(54,126,120)\"\n",
       "                    }\n",
       "                },\n",
       "                {\n",
       "                    \"name\": \"\\u5b9e\\u9a8c\",\n",
       "                    \"value\": \"0.47435406\",\n",
       "                    \"textStyle\": {\n",
       "                        \"color\": \"rgb(7,82,65)\"\n",
       "                    }\n",
       "                },\n",
       "                {\n",
       "                    \"name\": \"\\u5212\\u7247\",\n",
       "                    \"value\": \"0.4679104\",\n",
       "                    \"textStyle\": {\n",
       "                        \"color\": \"rgb(158,120,104)\"\n",
       "                    }\n",
       "                },\n",
       "                {\n",
       "                    \"name\": \"\\u5c31\\u8fd1\",\n",
       "                    \"value\": \"0.46666107\",\n",
       "                    \"textStyle\": {\n",
       "                        \"color\": \"rgb(149,80,132)\"\n",
       "                    }\n",
       "                },\n",
       "                {\n",
       "                    \"name\": \"\\u5b69\\u5b50\",\n",
       "                    \"value\": \"0.46094736\",\n",
       "                    \"textStyle\": {\n",
       "                        \"color\": \"rgb(61,112,80)\"\n",
       "                    }\n",
       "                },\n",
       "                {\n",
       "                    \"name\": \"\\u6c47\\u6587\",\n",
       "                    \"value\": \"0.4606546\",\n",
       "                    \"textStyle\": {\n",
       "                        \"color\": \"rgb(22,144,48)\"\n",
       "                    }\n",
       "                },\n",
       "                {\n",
       "                    \"name\": \"\\u5357\\u6821\\u533a\",\n",
       "                    \"value\": \"0.46035418\",\n",
       "                    \"textStyle\": {\n",
       "                        \"color\": \"rgb(78,25,132)\"\n",
       "                    }\n",
       "                },\n",
       "                {\n",
       "                    \"name\": \"\\u8001\\u5927\",\n",
       "                    \"value\": \"0.45022702\",\n",
       "                    \"textStyle\": {\n",
       "                        \"color\": \"rgb(44,1,120)\"\n",
       "                    }\n",
       "                },\n",
       "                {\n",
       "                    \"name\": \"\\u8c6a\\u67cf\",\n",
       "                    \"value\": \"0.44597855\",\n",
       "                    \"textStyle\": {\n",
       "                        \"color\": \"rgb(37,124,90)\"\n",
       "                    }\n",
       "                },\n",
       "                {\n",
       "                    \"name\": \"\\u5b66\\u4f4d\",\n",
       "                    \"value\": \"0.44256666\",\n",
       "                    \"textStyle\": {\n",
       "                        \"color\": \"rgb(142,84,150)\"\n",
       "                    }\n",
       "                },\n",
       "                {\n",
       "                    \"name\": \"\\u4f18\\u5148\",\n",
       "                    \"value\": \"0.44011676\",\n",
       "                    \"textStyle\": {\n",
       "                        \"color\": \"rgb(44,73,160)\"\n",
       "                    }\n",
       "                },\n",
       "                {\n",
       "                    \"name\": \"\\u9f13\\u52b1\",\n",
       "                    \"value\": \"0.43734148\",\n",
       "                    \"textStyle\": {\n",
       "                        \"color\": \"rgb(3,139,86)\"\n",
       "                    }\n",
       "                },\n",
       "                {\n",
       "                    \"name\": \"\\u4e2d\\u5b66\",\n",
       "                    \"value\": \"0.43572396\",\n",
       "                    \"textStyle\": {\n",
       "                        \"color\": \"rgb(92,11,3)\"\n",
       "                    }\n",
       "                },\n",
       "                {\n",
       "                    \"name\": \"\\u751f\\u6e90\",\n",
       "                    \"value\": \"0.42731065\",\n",
       "                    \"textStyle\": {\n",
       "                        \"color\": \"rgb(134,35,18)\"\n",
       "                    }\n",
       "                },\n",
       "                {\n",
       "                    \"name\": \"\\u8fdd\\u80cc\",\n",
       "                    \"value\": \"0.42726684\",\n",
       "                    \"textStyle\": {\n",
       "                        \"color\": \"rgb(80,95,96)\"\n",
       "                    }\n",
       "                },\n",
       "                {\n",
       "                    \"name\": \"\\u62db\\u751f\",\n",
       "                    \"value\": \"0.42695132\",\n",
       "                    \"textStyle\": {\n",
       "                        \"color\": \"rgb(65,132,111)\"\n",
       "                    }\n",
       "                },\n",
       "                {\n",
       "                    \"name\": \"\\u5730\\u5757\",\n",
       "                    \"value\": \"0.4234354\",\n",
       "                    \"textStyle\": {\n",
       "                        \"color\": \"rgb(116,112,156)\"\n",
       "                    }\n",
       "                },\n",
       "                {\n",
       "                    \"name\": \"\\u7247\\u533a\",\n",
       "                    \"value\": \"0.4165181\",\n",
       "                    \"textStyle\": {\n",
       "                        \"color\": \"rgb(69,130,40)\"\n",
       "                    }\n",
       "                },\n",
       "                {\n",
       "                    \"name\": \"\\u610f\\u613f\",\n",
       "                    \"value\": \"0.41542417\",\n",
       "                    \"textStyle\": {\n",
       "                        \"color\": \"rgb(75,111,160)\"\n",
       "                    }\n",
       "                },\n",
       "                {\n",
       "                    \"name\": \"\\u5bb6\\u5ead\",\n",
       "                    \"value\": \"0.41312388\",\n",
       "                    \"textStyle\": {\n",
       "                        \"color\": \"rgb(39,75,98)\"\n",
       "                    }\n",
       "                },\n",
       "                {\n",
       "                    \"name\": \"\\u5c31\\u8bfb\",\n",
       "                    \"value\": \"0.40315378\",\n",
       "                    \"textStyle\": {\n",
       "                        \"color\": \"rgb(44,25,90)\"\n",
       "                    }\n",
       "                },\n",
       "                {\n",
       "                    \"name\": \"\\u5206\\u6821\",\n",
       "                    \"value\": \"0.3978214\",\n",
       "                    \"textStyle\": {\n",
       "                        \"color\": \"rgb(116,48,2)\"\n",
       "                    }\n",
       "                },\n",
       "                {\n",
       "                    \"name\": \"\\u4e0a\\u5b66\",\n",
       "                    \"value\": \"0.39156988\",\n",
       "                    \"textStyle\": {\n",
       "                        \"color\": \"rgb(112,65,51)\"\n",
       "                    }\n",
       "                },\n",
       "                {\n",
       "                    \"name\": \"\\u5747\\u8861\",\n",
       "                    \"value\": \"0.39148176\",\n",
       "                    \"textStyle\": {\n",
       "                        \"color\": \"rgb(6,136,135)\"\n",
       "                    }\n",
       "                },\n",
       "                {\n",
       "                    \"name\": \"\\u4e0a\\u4e0b\\u5b66\",\n",
       "                    \"value\": \"0.3885303\",\n",
       "                    \"textStyle\": {\n",
       "                        \"color\": \"rgb(118,118,55)\"\n",
       "                    }\n",
       "                },\n",
       "                {\n",
       "                    \"name\": \"\\u8d2d\\u623f\",\n",
       "                    \"value\": \"0.38656065\",\n",
       "                    \"textStyle\": {\n",
       "                        \"color\": \"rgb(13,120,107)\"\n",
       "                    }\n",
       "                },\n",
       "                {\n",
       "                    \"name\": \"\\u8f6c\\u5b66\",\n",
       "                    \"value\": \"0.38249642\",\n",
       "                    \"textStyle\": {\n",
       "                        \"color\": \"rgb(75,29,128)\"\n",
       "                    }\n",
       "                },\n",
       "                {\n",
       "                    \"name\": \"\\u9769\\u65b0\",\n",
       "                    \"value\": \"0.37532917\",\n",
       "                    \"textStyle\": {\n",
       "                        \"color\": \"rgb(16,124,22)\"\n",
       "                    }\n",
       "                },\n",
       "                {\n",
       "                    \"name\": \"\\u6c38\\u5916\",\n",
       "                    \"value\": \"0.37475473\",\n",
       "                    \"textStyle\": {\n",
       "                        \"color\": \"rgb(29,37,68)\"\n",
       "                    }\n",
       "                },\n",
       "                {\n",
       "                    \"name\": \"\\u6751\\u5357\\u768b\",\n",
       "                    \"value\": \"0.37435085\",\n",
       "                    \"textStyle\": {\n",
       "                        \"color\": \"rgb(59,81,2)\"\n",
       "                    }\n",
       "                },\n",
       "                {\n",
       "                    \"name\": \"\\u4e00\\u6240\",\n",
       "                    \"value\": \"0.37205037\",\n",
       "                    \"textStyle\": {\n",
       "                        \"color\": \"rgb(158,56,20)\"\n",
       "                    }\n",
       "                }\n",
       "            ],\n",
       "            \"drawOutOfBound\": false,\n",
       "            \"textStyle\": {\n",
       "                \"emphasis\": {}\n",
       "            }\n",
       "        }\n",
       "    ],\n",
       "    \"legend\": [\n",
       "        {\n",
       "            \"data\": [],\n",
       "            \"selected\": {},\n",
       "            \"show\": true,\n",
       "            \"padding\": 5,\n",
       "            \"itemGap\": 10,\n",
       "            \"itemWidth\": 25,\n",
       "            \"itemHeight\": 14,\n",
       "            \"backgroundColor\": \"transparent\",\n",
       "            \"borderColor\": \"#ccc\",\n",
       "            \"borderWidth\": 1,\n",
       "            \"borderRadius\": 0,\n",
       "            \"pageButtonItemGap\": 5,\n",
       "            \"pageButtonPosition\": \"end\",\n",
       "            \"pageFormatter\": \"{current}/{total}\",\n",
       "            \"pageIconColor\": \"#2f4554\",\n",
       "            \"pageIconInactiveColor\": \"#aaa\",\n",
       "            \"pageIconSize\": 15,\n",
       "            \"animationDurationUpdate\": 800,\n",
       "            \"selector\": false,\n",
       "            \"selectorPosition\": \"auto\",\n",
       "            \"selectorItemGap\": 7,\n",
       "            \"selectorButtonGap\": 10\n",
       "        }\n",
       "    ],\n",
       "    \"tooltip\": {\n",
       "        \"show\": true,\n",
       "        \"trigger\": \"item\",\n",
       "        \"triggerOn\": \"mousemove|click\",\n",
       "        \"axisPointer\": {\n",
       "            \"type\": \"line\"\n",
       "        },\n",
       "        \"showContent\": true,\n",
       "        \"alwaysShowContent\": false,\n",
       "        \"showDelay\": 0,\n",
       "        \"hideDelay\": 100,\n",
       "        \"enterable\": false,\n",
       "        \"confine\": false,\n",
       "        \"appendToBody\": false,\n",
       "        \"transitionDuration\": 0.4,\n",
       "        \"textStyle\": {\n",
       "            \"fontSize\": 14\n",
       "        },\n",
       "        \"borderWidth\": 0,\n",
       "        \"padding\": 5,\n",
       "        \"order\": \"seriesAsc\"\n",
       "    },\n",
       "    \"title\": [\n",
       "        {\n",
       "            \"show\": true,\n",
       "            \"text\": \"Topic_4\",\n",
       "            \"target\": \"blank\",\n",
       "            \"subtarget\": \"blank\",\n",
       "            \"padding\": 5,\n",
       "            \"itemGap\": 10,\n",
       "            \"textAlign\": \"auto\",\n",
       "            \"textVerticalAlign\": \"auto\",\n",
       "            \"triggerEvent\": false,\n",
       "            \"textStyle\": {\n",
       "                \"fontSize\": 23\n",
       "            }\n",
       "        }\n",
       "    ]\n",
       "};\n",
       "                chart_a52d0f1cc7544e1c8d5febe9ba162393.setOption(option_a52d0f1cc7544e1c8d5febe9ba162393);\n",
       "        });\n",
       "    </script>\n"
      ],
      "text/plain": [
       "<pyecharts.render.display.HTML at 0x1bdc08b5af0>"
      ]
     },
     "metadata": {},
     "output_type": "display_data"
    },
    {
     "data": {
      "text/html": [
       "\n",
       "<script>\n",
       "    require.config({\n",
       "        paths: {\n",
       "            'echarts':'https://assets.pyecharts.org/assets/v5/echarts.min', 'echarts-wordcloud':'https://assets.pyecharts.org/assets/v5/echarts-wordcloud.min'\n",
       "        }\n",
       "    });\n",
       "</script>\n",
       "\n",
       "        <div id=\"0586dca129374f57888bb987c9b8acfb\" style=\"width:900px; height:500px;\"></div>\n",
       "\n",
       "<script>\n",
       "        require(['echarts', 'echarts-wordcloud'], function(echarts) {\n",
       "                var chart_0586dca129374f57888bb987c9b8acfb = echarts.init(\n",
       "                    document.getElementById('0586dca129374f57888bb987c9b8acfb'), 'white', {renderer: 'canvas'});\n",
       "                var option_0586dca129374f57888bb987c9b8acfb = {\n",
       "    \"animation\": true,\n",
       "    \"animationThreshold\": 2000,\n",
       "    \"animationDuration\": 1000,\n",
       "    \"animationEasing\": \"cubicOut\",\n",
       "    \"animationDelay\": 0,\n",
       "    \"animationDurationUpdate\": 300,\n",
       "    \"animationEasingUpdate\": \"cubicOut\",\n",
       "    \"animationDelayUpdate\": 0,\n",
       "    \"aria\": {\n",
       "        \"enabled\": false\n",
       "    },\n",
       "    \"color\": [\n",
       "        \"#5470c6\",\n",
       "        \"#91cc75\",\n",
       "        \"#fac858\",\n",
       "        \"#ee6666\",\n",
       "        \"#73c0de\",\n",
       "        \"#3ba272\",\n",
       "        \"#fc8452\",\n",
       "        \"#9a60b4\",\n",
       "        \"#ea7ccc\"\n",
       "    ],\n",
       "    \"series\": [\n",
       "        {\n",
       "            \"type\": \"wordCloud\",\n",
       "            \"shape\": \"circle\",\n",
       "            \"rotationRange\": [\n",
       "                -90,\n",
       "                90\n",
       "            ],\n",
       "            \"rotationStep\": 45,\n",
       "            \"girdSize\": 20,\n",
       "            \"sizeRange\": [\n",
       "                6,\n",
       "                88\n",
       "            ],\n",
       "            \"data\": [\n",
       "                {\n",
       "                    \"name\": \"\\u8f66\\u4f4d\",\n",
       "                    \"value\": \"0.584863\",\n",
       "                    \"textStyle\": {\n",
       "                        \"color\": \"rgb(145,115,5)\"\n",
       "                    }\n",
       "                },\n",
       "                {\n",
       "                    \"name\": \"\\u56fa\\u5b9a\",\n",
       "                    \"value\": \"0.54360986\",\n",
       "                    \"textStyle\": {\n",
       "                        \"color\": \"rgb(43,0,120)\"\n",
       "                    }\n",
       "                },\n",
       "                {\n",
       "                    \"name\": \"\\u505c\\u8f66\\u4f4d\",\n",
       "                    \"value\": \"0.53481\",\n",
       "                    \"textStyle\": {\n",
       "                        \"color\": \"rgb(116,131,113)\"\n",
       "                    }\n",
       "                },\n",
       "                {\n",
       "                    \"name\": \"\\u505a\\u6cd5\",\n",
       "                    \"value\": \"0.4942953\",\n",
       "                    \"textStyle\": {\n",
       "                        \"color\": \"rgb(41,76,50)\"\n",
       "                    }\n",
       "                },\n",
       "                {\n",
       "                    \"name\": \"\\u505c\\u8f66\",\n",
       "                    \"value\": \"0.48867136\",\n",
       "                    \"textStyle\": {\n",
       "                        \"color\": \"rgb(35,107,70)\"\n",
       "                    }\n",
       "                },\n",
       "                {\n",
       "                    \"name\": \"\\u505c\\u8f66\\u8d39\",\n",
       "                    \"value\": \"0.46929285\",\n",
       "                    \"textStyle\": {\n",
       "                        \"color\": \"rgb(5,138,85)\"\n",
       "                    }\n",
       "                },\n",
       "                {\n",
       "                    \"name\": \"\\u8f66\\u4e3b\",\n",
       "                    \"value\": \"0.44915527\",\n",
       "                    \"textStyle\": {\n",
       "                        \"color\": \"rgb(158,83,111)\"\n",
       "                    }\n",
       "                },\n",
       "                {\n",
       "                    \"name\": \"\\u505c\\u8f66\\u96be\",\n",
       "                    \"value\": \"0.4224459\",\n",
       "                    \"textStyle\": {\n",
       "                        \"color\": \"rgb(66,108,108)\"\n",
       "                    }\n",
       "                },\n",
       "                {\n",
       "                    \"name\": \"\\u7d27\\u5f20\",\n",
       "                    \"value\": \"0.4014685\",\n",
       "                    \"textStyle\": {\n",
       "                        \"color\": \"rgb(1,126,8)\"\n",
       "                    }\n",
       "                },\n",
       "                {\n",
       "                    \"name\": \"\\u7269\\u4e1a\\u7ba1\\u7406\",\n",
       "                    \"value\": \"0.39934114\",\n",
       "                    \"textStyle\": {\n",
       "                        \"color\": \"rgb(80,45,143)\"\n",
       "                    }\n",
       "                },\n",
       "                {\n",
       "                    \"name\": \"\\u516c\\u5171\\u8d44\\u6e90\",\n",
       "                    \"value\": \"0.39661422\",\n",
       "                    \"textStyle\": {\n",
       "                        \"color\": \"rgb(31,101,12)\"\n",
       "                    }\n",
       "                },\n",
       "                {\n",
       "                    \"name\": \"\\u8bf7\\u533a\",\n",
       "                    \"value\": \"0.37922752\",\n",
       "                    \"textStyle\": {\n",
       "                        \"color\": \"rgb(52,92,13)\"\n",
       "                    }\n",
       "                },\n",
       "                {\n",
       "                    \"name\": \"\\u65b0\\u4eba\",\n",
       "                    \"value\": \"0.3751433\",\n",
       "                    \"textStyle\": {\n",
       "                        \"color\": \"rgb(66,3,67)\"\n",
       "                    }\n",
       "                },\n",
       "                {\n",
       "                    \"name\": \"\\u505c\\u653e\",\n",
       "                    \"value\": \"0.36473513\",\n",
       "                    \"textStyle\": {\n",
       "                        \"color\": \"rgb(59,69,116)\"\n",
       "                    }\n",
       "                },\n",
       "                {\n",
       "                    \"name\": \"\\u65b0\\u80fd\\u6e90\",\n",
       "                    \"value\": \"0.36096358\",\n",
       "                    \"textStyle\": {\n",
       "                        \"color\": \"rgb(105,36,104)\"\n",
       "                    }\n",
       "                },\n",
       "                {\n",
       "                    \"name\": \"\\u83b7\\u5f97\",\n",
       "                    \"value\": \"0.35209286\",\n",
       "                    \"textStyle\": {\n",
       "                        \"color\": \"rgb(69,66,23)\"\n",
       "                    }\n",
       "                },\n",
       "                {\n",
       "                    \"name\": \"\\u505c\\u8f66\\u573a\",\n",
       "                    \"value\": \"0.34549966\",\n",
       "                    \"textStyle\": {\n",
       "                        \"color\": \"rgb(92,90,15)\"\n",
       "                    }\n",
       "                },\n",
       "                {\n",
       "                    \"name\": \"\\u79c1\\u5360\",\n",
       "                    \"value\": \"0.33131236\",\n",
       "                    \"textStyle\": {\n",
       "                        \"color\": \"rgb(69,121,54)\"\n",
       "                    }\n",
       "                },\n",
       "                {\n",
       "                    \"name\": \"\\u54cd\\u5e94\",\n",
       "                    \"value\": \"0.33128902\",\n",
       "                    \"textStyle\": {\n",
       "                        \"color\": \"rgb(4,155,74)\"\n",
       "                    }\n",
       "                },\n",
       "                {\n",
       "                    \"name\": \"\\u5173\\u5fc3\",\n",
       "                    \"value\": \"0.323645\",\n",
       "                    \"textStyle\": {\n",
       "                        \"color\": \"rgb(30,61,48)\"\n",
       "                    }\n",
       "                },\n",
       "                {\n",
       "                    \"name\": \"\\u6c47\\u9e3f\",\n",
       "                    \"value\": \"0.31862265\",\n",
       "                    \"textStyle\": {\n",
       "                        \"color\": \"rgb(17,141,121)\"\n",
       "                    }\n",
       "                },\n",
       "                {\n",
       "                    \"name\": \"\\u6536\\u8d39\",\n",
       "                    \"value\": \"0.31750086\",\n",
       "                    \"textStyle\": {\n",
       "                        \"color\": \"rgb(102,158,110)\"\n",
       "                    }\n",
       "                },\n",
       "                {\n",
       "                    \"name\": \"\\u968f\\u4fbf\",\n",
       "                    \"value\": \"0.3165147\",\n",
       "                    \"textStyle\": {\n",
       "                        \"color\": \"rgb(130,156,128)\"\n",
       "                    }\n",
       "                },\n",
       "                {\n",
       "                    \"name\": \"\\u91c7\\u53d6\",\n",
       "                    \"value\": \"0.31376117\",\n",
       "                    \"textStyle\": {\n",
       "                        \"color\": \"rgb(35,59,132)\"\n",
       "                    }\n",
       "                },\n",
       "                {\n",
       "                    \"name\": \"\\u5145\\u5206\",\n",
       "                    \"value\": \"0.30694234\",\n",
       "                    \"textStyle\": {\n",
       "                        \"color\": \"rgb(0,90,45)\"\n",
       "                    }\n",
       "                },\n",
       "                {\n",
       "                    \"name\": \"\\u8def\\u8fb9\",\n",
       "                    \"value\": \"0.30636254\",\n",
       "                    \"textStyle\": {\n",
       "                        \"color\": \"rgb(101,31,52)\"\n",
       "                    }\n",
       "                },\n",
       "                {\n",
       "                    \"name\": \"\\u8fdd\\u53cd\",\n",
       "                    \"value\": \"0.30530134\",\n",
       "                    \"textStyle\": {\n",
       "                        \"color\": \"rgb(147,141,17)\"\n",
       "                    }\n",
       "                },\n",
       "                {\n",
       "                    \"name\": \"\\u8f66\\u8f86\",\n",
       "                    \"value\": \"0.30140638\",\n",
       "                    \"textStyle\": {\n",
       "                        \"color\": \"rgb(145,125,117)\"\n",
       "                    }\n",
       "                },\n",
       "                {\n",
       "                    \"name\": \"\\u4ee3\\u6b65\\u8f66\",\n",
       "                    \"value\": \"0.30134192\",\n",
       "                    \"textStyle\": {\n",
       "                        \"color\": \"rgb(39,66,17)\"\n",
       "                    }\n",
       "                },\n",
       "                {\n",
       "                    \"name\": \"\\u505c\\u6ee1\",\n",
       "                    \"value\": \"0.29954118\",\n",
       "                    \"textStyle\": {\n",
       "                        \"color\": \"rgb(58,108,108)\"\n",
       "                    }\n",
       "                },\n",
       "                {\n",
       "                    \"name\": \"\\u6c7d\\u8f66\",\n",
       "                    \"value\": \"0.29793835\",\n",
       "                    \"textStyle\": {\n",
       "                        \"color\": \"rgb(70,34,119)\"\n",
       "                    }\n",
       "                },\n",
       "                {\n",
       "                    \"name\": \"\\u6df7\\u4e71\",\n",
       "                    \"value\": \"0.29787523\",\n",
       "                    \"textStyle\": {\n",
       "                        \"color\": \"rgb(28,0,113)\"\n",
       "                    }\n",
       "                },\n",
       "                {\n",
       "                    \"name\": \"\\u5c06\\u8fd1\",\n",
       "                    \"value\": \"0.29707626\",\n",
       "                    \"textStyle\": {\n",
       "                        \"color\": \"rgb(147,77,70)\"\n",
       "                    }\n",
       "                },\n",
       "                {\n",
       "                    \"name\": \"\\u5360\\u7528\",\n",
       "                    \"value\": \"0.29576075\",\n",
       "                    \"textStyle\": {\n",
       "                        \"color\": \"rgb(25,7,7)\"\n",
       "                    }\n",
       "                },\n",
       "                {\n",
       "                    \"name\": \"\\u539f\\u5219\",\n",
       "                    \"value\": \"0.292575\",\n",
       "                    \"textStyle\": {\n",
       "                        \"color\": \"rgb(158,138,49)\"\n",
       "                    }\n",
       "                },\n",
       "                {\n",
       "                    \"name\": \"\\u4e0d\\u8ba9\",\n",
       "                    \"value\": \"0.28857458\",\n",
       "                    \"textStyle\": {\n",
       "                        \"color\": \"rgb(104,101,92)\"\n",
       "                    }\n",
       "                },\n",
       "                {\n",
       "                    \"name\": \"\\u7a0b\\u5e8f\",\n",
       "                    \"value\": \"0.2854839\",\n",
       "                    \"textStyle\": {\n",
       "                        \"color\": \"rgb(126,119,118)\"\n",
       "                    }\n",
       "                },\n",
       "                {\n",
       "                    \"name\": \"\\u79c1\\u5bb6\\u8f66\",\n",
       "                    \"value\": \"0.28454766\",\n",
       "                    \"textStyle\": {\n",
       "                        \"color\": \"rgb(139,149,19)\"\n",
       "                    }\n",
       "                },\n",
       "                {\n",
       "                    \"name\": \"\\u8def\\u4fa7\",\n",
       "                    \"value\": \"0.2842396\",\n",
       "                    \"textStyle\": {\n",
       "                        \"color\": \"rgb(67,140,139)\"\n",
       "                    }\n",
       "                },\n",
       "                {\n",
       "                    \"name\": \"\\u9ad8\\u989d\",\n",
       "                    \"value\": \"0.2829021\",\n",
       "                    \"textStyle\": {\n",
       "                        \"color\": \"rgb(125,75,76)\"\n",
       "                    }\n",
       "                },\n",
       "                {\n",
       "                    \"name\": \"\\u501f\\u9274\",\n",
       "                    \"value\": \"0.28257802\",\n",
       "                    \"textStyle\": {\n",
       "                        \"color\": \"rgb(77,43,128)\"\n",
       "                    }\n",
       "                },\n",
       "                {\n",
       "                    \"name\": \"\\u6446\\u653e\",\n",
       "                    \"value\": \"0.27719972\",\n",
       "                    \"textStyle\": {\n",
       "                        \"color\": \"rgb(49,56,31)\"\n",
       "                    }\n",
       "                },\n",
       "                {\n",
       "                    \"name\": \"\\u8f66\\u5e93\",\n",
       "                    \"value\": \"0.27501538\",\n",
       "                    \"textStyle\": {\n",
       "                        \"color\": \"rgb(128,110,122)\"\n",
       "                    }\n",
       "                },\n",
       "                {\n",
       "                    \"name\": \"\\u697c\\u4e0b\",\n",
       "                    \"value\": \"0.27414328\",\n",
       "                    \"textStyle\": {\n",
       "                        \"color\": \"rgb(129,43,159)\"\n",
       "                    }\n",
       "                },\n",
       "                {\n",
       "                    \"name\": \"\\u4e71\\u653e\",\n",
       "                    \"value\": \"0.27404413\",\n",
       "                    \"textStyle\": {\n",
       "                        \"color\": \"rgb(39,18,139)\"\n",
       "                    }\n",
       "                },\n",
       "                {\n",
       "                    \"name\": \"\\u7269\\u4e1a\\u516c\\u53f8\",\n",
       "                    \"value\": \"0.27134034\",\n",
       "                    \"textStyle\": {\n",
       "                        \"color\": \"rgb(119,144,5)\"\n",
       "                    }\n",
       "                },\n",
       "                {\n",
       "                    \"name\": \"\\u5b66\\u9662\\u8def\",\n",
       "                    \"value\": \"0.27032506\",\n",
       "                    \"textStyle\": {\n",
       "                        \"color\": \"rgb(42,0,2)\"\n",
       "                    }\n",
       "                },\n",
       "                {\n",
       "                    \"name\": \"\\u6469\\u6258\\u8f66\",\n",
       "                    \"value\": \"0.26851553\",\n",
       "                    \"textStyle\": {\n",
       "                        \"color\": \"rgb(7,50,157)\"\n",
       "                    }\n",
       "                },\n",
       "                {\n",
       "                    \"name\": \"\\u529e\\u6cd5\",\n",
       "                    \"value\": \"0.25725836\",\n",
       "                    \"textStyle\": {\n",
       "                        \"color\": \"rgb(86,36,82)\"\n",
       "                    }\n",
       "                },\n",
       "                {\n",
       "                    \"name\": \"\\u7ecf\\u7406\",\n",
       "                    \"value\": \"0.25720802\",\n",
       "                    \"textStyle\": {\n",
       "                        \"color\": \"rgb(71,40,83)\"\n",
       "                    }\n",
       "                }\n",
       "            ],\n",
       "            \"drawOutOfBound\": false,\n",
       "            \"textStyle\": {\n",
       "                \"emphasis\": {}\n",
       "            }\n",
       "        }\n",
       "    ],\n",
       "    \"legend\": [\n",
       "        {\n",
       "            \"data\": [],\n",
       "            \"selected\": {},\n",
       "            \"show\": true,\n",
       "            \"padding\": 5,\n",
       "            \"itemGap\": 10,\n",
       "            \"itemWidth\": 25,\n",
       "            \"itemHeight\": 14,\n",
       "            \"backgroundColor\": \"transparent\",\n",
       "            \"borderColor\": \"#ccc\",\n",
       "            \"borderWidth\": 1,\n",
       "            \"borderRadius\": 0,\n",
       "            \"pageButtonItemGap\": 5,\n",
       "            \"pageButtonPosition\": \"end\",\n",
       "            \"pageFormatter\": \"{current}/{total}\",\n",
       "            \"pageIconColor\": \"#2f4554\",\n",
       "            \"pageIconInactiveColor\": \"#aaa\",\n",
       "            \"pageIconSize\": 15,\n",
       "            \"animationDurationUpdate\": 800,\n",
       "            \"selector\": false,\n",
       "            \"selectorPosition\": \"auto\",\n",
       "            \"selectorItemGap\": 7,\n",
       "            \"selectorButtonGap\": 10\n",
       "        }\n",
       "    ],\n",
       "    \"tooltip\": {\n",
       "        \"show\": true,\n",
       "        \"trigger\": \"item\",\n",
       "        \"triggerOn\": \"mousemove|click\",\n",
       "        \"axisPointer\": {\n",
       "            \"type\": \"line\"\n",
       "        },\n",
       "        \"showContent\": true,\n",
       "        \"alwaysShowContent\": false,\n",
       "        \"showDelay\": 0,\n",
       "        \"hideDelay\": 100,\n",
       "        \"enterable\": false,\n",
       "        \"confine\": false,\n",
       "        \"appendToBody\": false,\n",
       "        \"transitionDuration\": 0.4,\n",
       "        \"textStyle\": {\n",
       "            \"fontSize\": 14\n",
       "        },\n",
       "        \"borderWidth\": 0,\n",
       "        \"padding\": 5,\n",
       "        \"order\": \"seriesAsc\"\n",
       "    },\n",
       "    \"title\": [\n",
       "        {\n",
       "            \"show\": true,\n",
       "            \"text\": \"Topic_5\",\n",
       "            \"target\": \"blank\",\n",
       "            \"subtarget\": \"blank\",\n",
       "            \"padding\": 5,\n",
       "            \"itemGap\": 10,\n",
       "            \"textAlign\": \"auto\",\n",
       "            \"textVerticalAlign\": \"auto\",\n",
       "            \"triggerEvent\": false,\n",
       "            \"textStyle\": {\n",
       "                \"fontSize\": 23\n",
       "            }\n",
       "        }\n",
       "    ]\n",
       "};\n",
       "                chart_0586dca129374f57888bb987c9b8acfb.setOption(option_0586dca129374f57888bb987c9b8acfb);\n",
       "        });\n",
       "    </script>\n"
      ],
      "text/plain": [
       "<pyecharts.render.display.HTML at 0x1bdc08b5af0>"
      ]
     },
     "metadata": {},
     "output_type": "display_data"
    },
    {
     "data": {
      "text/html": [
       "\n",
       "<script>\n",
       "    require.config({\n",
       "        paths: {\n",
       "            'echarts':'https://assets.pyecharts.org/assets/v5/echarts.min', 'echarts-wordcloud':'https://assets.pyecharts.org/assets/v5/echarts-wordcloud.min'\n",
       "        }\n",
       "    });\n",
       "</script>\n",
       "\n",
       "        <div id=\"2ef99e3be7dd4aea9dc44aacd8e1d191\" style=\"width:900px; height:500px;\"></div>\n",
       "\n",
       "<script>\n",
       "        require(['echarts', 'echarts-wordcloud'], function(echarts) {\n",
       "                var chart_2ef99e3be7dd4aea9dc44aacd8e1d191 = echarts.init(\n",
       "                    document.getElementById('2ef99e3be7dd4aea9dc44aacd8e1d191'), 'white', {renderer: 'canvas'});\n",
       "                var option_2ef99e3be7dd4aea9dc44aacd8e1d191 = {\n",
       "    \"animation\": true,\n",
       "    \"animationThreshold\": 2000,\n",
       "    \"animationDuration\": 1000,\n",
       "    \"animationEasing\": \"cubicOut\",\n",
       "    \"animationDelay\": 0,\n",
       "    \"animationDurationUpdate\": 300,\n",
       "    \"animationEasingUpdate\": \"cubicOut\",\n",
       "    \"animationDelayUpdate\": 0,\n",
       "    \"aria\": {\n",
       "        \"enabled\": false\n",
       "    },\n",
       "    \"color\": [\n",
       "        \"#5470c6\",\n",
       "        \"#91cc75\",\n",
       "        \"#fac858\",\n",
       "        \"#ee6666\",\n",
       "        \"#73c0de\",\n",
       "        \"#3ba272\",\n",
       "        \"#fc8452\",\n",
       "        \"#9a60b4\",\n",
       "        \"#ea7ccc\"\n",
       "    ],\n",
       "    \"series\": [\n",
       "        {\n",
       "            \"type\": \"wordCloud\",\n",
       "            \"shape\": \"circle\",\n",
       "            \"rotationRange\": [\n",
       "                -90,\n",
       "                90\n",
       "            ],\n",
       "            \"rotationStep\": 45,\n",
       "            \"girdSize\": 20,\n",
       "            \"sizeRange\": [\n",
       "                6,\n",
       "                88\n",
       "            ],\n",
       "            \"data\": [\n",
       "                {\n",
       "                    \"name\": \"\\u672a\\u6765\",\n",
       "                    \"value\": \"0.6526748\",\n",
       "                    \"textStyle\": {\n",
       "                        \"color\": \"rgb(129,69,88)\"\n",
       "                    }\n",
       "                },\n",
       "                {\n",
       "                    \"name\": \"\\u4eac\\u5bc6\",\n",
       "                    \"value\": \"0.64247453\",\n",
       "                    \"textStyle\": {\n",
       "                        \"color\": \"rgb(137,42,160)\"\n",
       "                    }\n",
       "                },\n",
       "                {\n",
       "                    \"name\": \"\\u671b\\u4eac\",\n",
       "                    \"value\": \"0.61143696\",\n",
       "                    \"textStyle\": {\n",
       "                        \"color\": \"rgb(20,40,54)\"\n",
       "                    }\n",
       "                },\n",
       "                {\n",
       "                    \"name\": \"\\u5d14\\u5404\\u5e84\",\n",
       "                    \"value\": \"0.6068638\",\n",
       "                    \"textStyle\": {\n",
       "                        \"color\": \"rgb(22,132,1)\"\n",
       "                    }\n",
       "                },\n",
       "                {\n",
       "                    \"name\": \"\\u804c\\u4f4f\",\n",
       "                    \"value\": \"0.6016697\",\n",
       "                    \"textStyle\": {\n",
       "                        \"color\": \"rgb(152,75,20)\"\n",
       "                    }\n",
       "                },\n",
       "                {\n",
       "                    \"name\": \"\\u76fc\\u590d\",\n",
       "                    \"value\": \"0.5857595\",\n",
       "                    \"textStyle\": {\n",
       "                        \"color\": \"rgb(111,148,140)\"\n",
       "                    }\n",
       "                },\n",
       "                {\n",
       "                    \"name\": \"\\u5ba2\\u6d41\",\n",
       "                    \"value\": \"0.5767286\",\n",
       "                    \"textStyle\": {\n",
       "                        \"color\": \"rgb(102,137,29)\"\n",
       "                    }\n",
       "                },\n",
       "                {\n",
       "                    \"name\": \"\\u5357\\u768b\",\n",
       "                    \"value\": \"0.5748607\",\n",
       "                    \"textStyle\": {\n",
       "                        \"color\": \"rgb(136,96,102)\"\n",
       "                    }\n",
       "                },\n",
       "                {\n",
       "                    \"name\": \"\\u5730\\u533a\",\n",
       "                    \"value\": \"0.57153\",\n",
       "                    \"textStyle\": {\n",
       "                        \"color\": \"rgb(13,20,98)\"\n",
       "                    }\n",
       "                },\n",
       "                {\n",
       "                    \"name\": \"\\u51fa\\u5165\\u53e3\",\n",
       "                    \"value\": \"0.5550058\",\n",
       "                    \"textStyle\": {\n",
       "                        \"color\": \"rgb(11,42,78)\"\n",
       "                    }\n",
       "                },\n",
       "                {\n",
       "                    \"name\": \"\\u5e26\\u52a8\",\n",
       "                    \"value\": \"0.54838705\",\n",
       "                    \"textStyle\": {\n",
       "                        \"color\": \"rgb(97,41,8)\"\n",
       "                    }\n",
       "                },\n",
       "                {\n",
       "                    \"name\": \"\\u6545\\u5bab\",\n",
       "                    \"value\": \"0.5403436\",\n",
       "                    \"textStyle\": {\n",
       "                        \"color\": \"rgb(118,90,109)\"\n",
       "                    }\n",
       "                },\n",
       "                {\n",
       "                    \"name\": \"\\u5e73\\u8861\",\n",
       "                    \"value\": \"0.53997964\",\n",
       "                    \"textStyle\": {\n",
       "                        \"color\": \"rgb(110,5,70)\"\n",
       "                    }\n",
       "                },\n",
       "                {\n",
       "                    \"name\": \"\\u9971\\u548c\",\n",
       "                    \"value\": \"0.53671587\",\n",
       "                    \"textStyle\": {\n",
       "                        \"color\": \"rgb(136,103,77)\"\n",
       "                    }\n",
       "                },\n",
       "                {\n",
       "                    \"name\": \"\\u5438\\u5f15\",\n",
       "                    \"value\": \"0.5364356\",\n",
       "                    \"textStyle\": {\n",
       "                        \"color\": \"rgb(102,135,4)\"\n",
       "                    }\n",
       "                },\n",
       "                {\n",
       "                    \"name\": \"\\u91cc\\u6da6\\u56ed\",\n",
       "                    \"value\": \"0.5134346\",\n",
       "                    \"textStyle\": {\n",
       "                        \"color\": \"rgb(100,65,23)\"\n",
       "                    }\n",
       "                },\n",
       "                {\n",
       "                    \"name\": \"\\u5feb\\u901f\\u8def\",\n",
       "                    \"value\": \"0.5107561\",\n",
       "                    \"textStyle\": {\n",
       "                        \"color\": \"rgb(5,127,89)\"\n",
       "                    }\n",
       "                },\n",
       "                {\n",
       "                    \"name\": \"\\u7e41\\u534e\",\n",
       "                    \"value\": \"0.5075151\",\n",
       "                    \"textStyle\": {\n",
       "                        \"color\": \"rgb(95,73,46)\"\n",
       "                    }\n",
       "                },\n",
       "                {\n",
       "                    \"name\": \"\\u6210\\u4e3a\",\n",
       "                    \"value\": \"0.49037483\",\n",
       "                    \"textStyle\": {\n",
       "                        \"color\": \"rgb(87,136,104)\"\n",
       "                    }\n",
       "                },\n",
       "                {\n",
       "                    \"name\": \"\\u7535\\u5f71\",\n",
       "                    \"value\": \"0.48539963\",\n",
       "                    \"textStyle\": {\n",
       "                        \"color\": \"rgb(126,8,129)\"\n",
       "                    }\n",
       "                },\n",
       "                {\n",
       "                    \"name\": \"\\u9ad8\\u67b6\\u8def\",\n",
       "                    \"value\": \"0.47672153\",\n",
       "                    \"textStyle\": {\n",
       "                        \"color\": \"rgb(31,59,72)\"\n",
       "                    }\n",
       "                },\n",
       "                {\n",
       "                    \"name\": \"\\u5317\\u9662\",\n",
       "                    \"value\": \"0.47599524\",\n",
       "                    \"textStyle\": {\n",
       "                        \"color\": \"rgb(33,113,119)\"\n",
       "                    }\n",
       "                },\n",
       "                {\n",
       "                    \"name\": \"\\u5927\\u60a6\",\n",
       "                    \"value\": \"0.47123167\",\n",
       "                    \"textStyle\": {\n",
       "                        \"color\": \"rgb(17,63,95)\"\n",
       "                    }\n",
       "                },\n",
       "                {\n",
       "                    \"name\": \"\\u5927\\u5c71\\u5b50\",\n",
       "                    \"value\": \"0.4588824\",\n",
       "                    \"textStyle\": {\n",
       "                        \"color\": \"rgb(76,137,78)\"\n",
       "                    }\n",
       "                },\n",
       "                {\n",
       "                    \"name\": \"\\u5546\\u5708\",\n",
       "                    \"value\": \"0.45439202\",\n",
       "                    \"textStyle\": {\n",
       "                        \"color\": \"rgb(110,146,21)\"\n",
       "                    }\n",
       "                },\n",
       "                {\n",
       "                    \"name\": \"\\u9ed1\\u6865\",\n",
       "                    \"value\": \"0.4542417\",\n",
       "                    \"textStyle\": {\n",
       "                        \"color\": \"rgb(59,130,106)\"\n",
       "                    }\n",
       "                },\n",
       "                {\n",
       "                    \"name\": \"\\u660c\\u5e73\",\n",
       "                    \"value\": \"0.4403883\",\n",
       "                    \"textStyle\": {\n",
       "                        \"color\": \"rgb(42,39,116)\"\n",
       "                    }\n",
       "                },\n",
       "                {\n",
       "                    \"name\": \"\\u6838\\u5fc3\",\n",
       "                    \"value\": \"0.4389291\",\n",
       "                    \"textStyle\": {\n",
       "                        \"color\": \"rgb(18,51,60)\"\n",
       "                    }\n",
       "                },\n",
       "                {\n",
       "                    \"name\": \"\\u540e\\u4f1a\",\n",
       "                    \"value\": \"0.43681362\",\n",
       "                    \"textStyle\": {\n",
       "                        \"color\": \"rgb(126,145,43)\"\n",
       "                    }\n",
       "                },\n",
       "                {\n",
       "                    \"name\": \"\\u7ec4\\u56e2\",\n",
       "                    \"value\": \"0.43660685\",\n",
       "                    \"textStyle\": {\n",
       "                        \"color\": \"rgb(114,121,17)\"\n",
       "                    }\n",
       "                },\n",
       "                {\n",
       "                    \"name\": \"\\u8fde\\u63a5\",\n",
       "                    \"value\": \"0.4354645\",\n",
       "                    \"textStyle\": {\n",
       "                        \"color\": \"rgb(126,29,1)\"\n",
       "                    }\n",
       "                },\n",
       "                {\n",
       "                    \"name\": \"\\u4e8c\\u671f\",\n",
       "                    \"value\": \"0.4347991\",\n",
       "                    \"textStyle\": {\n",
       "                        \"color\": \"rgb(122,3,144)\"\n",
       "                    }\n",
       "                },\n",
       "                {\n",
       "                    \"name\": \"\\u51e0\\u5343\\u6237\",\n",
       "                    \"value\": \"0.43082213\",\n",
       "                    \"textStyle\": {\n",
       "                        \"color\": \"rgb(65,79,10)\"\n",
       "                    }\n",
       "                },\n",
       "                {\n",
       "                    \"name\": \"\\u8054\\u901a\",\n",
       "                    \"value\": \"0.43039718\",\n",
       "                    \"textStyle\": {\n",
       "                        \"color\": \"rgb(61,33,101)\"\n",
       "                    }\n",
       "                },\n",
       "                {\n",
       "                    \"name\": \"\\u5317\\u90e8\",\n",
       "                    \"value\": \"0.43004754\",\n",
       "                    \"textStyle\": {\n",
       "                        \"color\": \"rgb(20,18,95)\"\n",
       "                    }\n",
       "                },\n",
       "                {\n",
       "                    \"name\": \"\\u5b59\\u6cb3\",\n",
       "                    \"value\": \"0.42870885\",\n",
       "                    \"textStyle\": {\n",
       "                        \"color\": \"rgb(113,123,65)\"\n",
       "                    }\n",
       "                },\n",
       "                {\n",
       "                    \"name\": \"\\u79d1\\u5b66\\u57ce\",\n",
       "                    \"value\": \"0.42729327\",\n",
       "                    \"textStyle\": {\n",
       "                        \"color\": \"rgb(144,27,160)\"\n",
       "                    }\n",
       "                },\n",
       "                {\n",
       "                    \"name\": \"\\u671f\\u5f85\",\n",
       "                    \"value\": \"0.4269351\",\n",
       "                    \"textStyle\": {\n",
       "                        \"color\": \"rgb(29,122,114)\"\n",
       "                    }\n",
       "                },\n",
       "                {\n",
       "                    \"name\": \"\\u4e0d\\u4e45\",\n",
       "                    \"value\": \"0.4247969\",\n",
       "                    \"textStyle\": {\n",
       "                        \"color\": \"rgb(50,23,90)\"\n",
       "                    }\n",
       "                },\n",
       "                {\n",
       "                    \"name\": \"\\u4ea7\\u4e1a\",\n",
       "                    \"value\": \"0.4241252\",\n",
       "                    \"textStyle\": {\n",
       "                        \"color\": \"rgb(80,70,154)\"\n",
       "                    }\n",
       "                },\n",
       "                {\n",
       "                    \"name\": \"\\u4e2d\\u56fd\",\n",
       "                    \"value\": \"0.41883186\",\n",
       "                    \"textStyle\": {\n",
       "                        \"color\": \"rgb(48,19,25)\"\n",
       "                    }\n",
       "                },\n",
       "                {\n",
       "                    \"name\": \"\\u5f00\\u8bbe\",\n",
       "                    \"value\": \"0.416245\",\n",
       "                    \"textStyle\": {\n",
       "                        \"color\": \"rgb(38,98,156)\"\n",
       "                    }\n",
       "                },\n",
       "                {\n",
       "                    \"name\": \"\\u4fbf\\u6377\",\n",
       "                    \"value\": \"0.41263205\",\n",
       "                    \"textStyle\": {\n",
       "                        \"color\": \"rgb(65,38,65)\"\n",
       "                    }\n",
       "                },\n",
       "                {\n",
       "                    \"name\": \"\\u673a\\u573a\",\n",
       "                    \"value\": \"0.41226125\",\n",
       "                    \"textStyle\": {\n",
       "                        \"color\": \"rgb(14,145,14)\"\n",
       "                    }\n",
       "                },\n",
       "                {\n",
       "                    \"name\": \"\\u5f15\\u5165\",\n",
       "                    \"value\": \"0.4109288\",\n",
       "                    \"textStyle\": {\n",
       "                        \"color\": \"rgb(31,158,153)\"\n",
       "                    }\n",
       "                },\n",
       "                {\n",
       "                    \"name\": \"\\u4fbf\\u5229\",\n",
       "                    \"value\": \"0.41067368\",\n",
       "                    \"textStyle\": {\n",
       "                        \"color\": \"rgb(105,51,12)\"\n",
       "                    }\n",
       "                },\n",
       "                {\n",
       "                    \"name\": \"\\u4eba\\u624d\",\n",
       "                    \"value\": \"0.41010255\",\n",
       "                    \"textStyle\": {\n",
       "                        \"color\": \"rgb(25,108,18)\"\n",
       "                    }\n",
       "                },\n",
       "                {\n",
       "                    \"name\": \"\\u9010\\u6e10\",\n",
       "                    \"value\": \"0.40368825\",\n",
       "                    \"textStyle\": {\n",
       "                        \"color\": \"rgb(89,42,99)\"\n",
       "                    }\n",
       "                },\n",
       "                {\n",
       "                    \"name\": \"\\u53d1\\u5c55\",\n",
       "                    \"value\": \"0.4035316\",\n",
       "                    \"textStyle\": {\n",
       "                        \"color\": \"rgb(43,121,2)\"\n",
       "                    }\n",
       "                },\n",
       "                {\n",
       "                    \"name\": \"\\u6c38\\u4e30\",\n",
       "                    \"value\": \"0.3939712\",\n",
       "                    \"textStyle\": {\n",
       "                        \"color\": \"rgb(153,112,141)\"\n",
       "                    }\n",
       "                }\n",
       "            ],\n",
       "            \"drawOutOfBound\": false,\n",
       "            \"textStyle\": {\n",
       "                \"emphasis\": {}\n",
       "            }\n",
       "        }\n",
       "    ],\n",
       "    \"legend\": [\n",
       "        {\n",
       "            \"data\": [],\n",
       "            \"selected\": {},\n",
       "            \"show\": true,\n",
       "            \"padding\": 5,\n",
       "            \"itemGap\": 10,\n",
       "            \"itemWidth\": 25,\n",
       "            \"itemHeight\": 14,\n",
       "            \"backgroundColor\": \"transparent\",\n",
       "            \"borderColor\": \"#ccc\",\n",
       "            \"borderWidth\": 1,\n",
       "            \"borderRadius\": 0,\n",
       "            \"pageButtonItemGap\": 5,\n",
       "            \"pageButtonPosition\": \"end\",\n",
       "            \"pageFormatter\": \"{current}/{total}\",\n",
       "            \"pageIconColor\": \"#2f4554\",\n",
       "            \"pageIconInactiveColor\": \"#aaa\",\n",
       "            \"pageIconSize\": 15,\n",
       "            \"animationDurationUpdate\": 800,\n",
       "            \"selector\": false,\n",
       "            \"selectorPosition\": \"auto\",\n",
       "            \"selectorItemGap\": 7,\n",
       "            \"selectorButtonGap\": 10\n",
       "        }\n",
       "    ],\n",
       "    \"tooltip\": {\n",
       "        \"show\": true,\n",
       "        \"trigger\": \"item\",\n",
       "        \"triggerOn\": \"mousemove|click\",\n",
       "        \"axisPointer\": {\n",
       "            \"type\": \"line\"\n",
       "        },\n",
       "        \"showContent\": true,\n",
       "        \"alwaysShowContent\": false,\n",
       "        \"showDelay\": 0,\n",
       "        \"hideDelay\": 100,\n",
       "        \"enterable\": false,\n",
       "        \"confine\": false,\n",
       "        \"appendToBody\": false,\n",
       "        \"transitionDuration\": 0.4,\n",
       "        \"textStyle\": {\n",
       "            \"fontSize\": 14\n",
       "        },\n",
       "        \"borderWidth\": 0,\n",
       "        \"padding\": 5,\n",
       "        \"order\": \"seriesAsc\"\n",
       "    },\n",
       "    \"title\": [\n",
       "        {\n",
       "            \"show\": true,\n",
       "            \"text\": \"Topic_6\",\n",
       "            \"target\": \"blank\",\n",
       "            \"subtarget\": \"blank\",\n",
       "            \"padding\": 5,\n",
       "            \"itemGap\": 10,\n",
       "            \"textAlign\": \"auto\",\n",
       "            \"textVerticalAlign\": \"auto\",\n",
       "            \"triggerEvent\": false,\n",
       "            \"textStyle\": {\n",
       "                \"fontSize\": 23\n",
       "            }\n",
       "        }\n",
       "    ]\n",
       "};\n",
       "                chart_2ef99e3be7dd4aea9dc44aacd8e1d191.setOption(option_2ef99e3be7dd4aea9dc44aacd8e1d191);\n",
       "        });\n",
       "    </script>\n"
      ],
      "text/plain": [
       "<pyecharts.render.display.HTML at 0x1bdc27ecfd0>"
      ]
     },
     "metadata": {},
     "output_type": "display_data"
    }
   ],
   "source": [
    "num = top2vec_model.get_num_topics()\n",
    "topic_wordss, word_scoress, topic_ids = top2vec_model.get_topics(num)\n",
    "\n",
    "for topic_words, word_scores, topic_id in zip(topic_wordss, word_scoress, topic_ids):\n",
    "    gen_wordcloud(topic_words, word_scores, topic_id)"
   ]
  },
  {
   "cell_type": "code",
   "execution_count": null,
   "metadata": {},
   "outputs": [],
   "source": []
  }
 ],
 "metadata": {
  "kernelspec": {
   "display_name": "zxx",
   "language": "python",
   "name": "zxx"
  },
  "language_info": {
   "codemirror_mode": {
    "name": "ipython",
    "version": 3
   },
   "file_extension": ".py",
   "mimetype": "text/x-python",
   "name": "python",
   "nbconvert_exporter": "python",
   "pygments_lexer": "ipython3",
   "version": "3.8.15"
  }
 },
 "nbformat": 4,
 "nbformat_minor": 4
}
