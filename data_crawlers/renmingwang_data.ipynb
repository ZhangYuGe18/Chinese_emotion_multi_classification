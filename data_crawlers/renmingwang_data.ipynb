{
 "cells": [
  {
   "cell_type": "code",
   "execution_count": 2,
   "metadata": {},
   "outputs": [],
   "source": [
    "import os \n",
    "import re \n",
    "import requests \n",
    "import pandas as pd \n",
    "import datetime \n",
    "import json\n",
    "import time"
   ]
  },
  {
   "cell_type": "code",
   "execution_count": 3,
   "metadata": {},
   "outputs": [],
   "source": [
    "# 请求头\n",
    "headers = {\n",
    "    'Accept': 'application/json, text/plain, */*',\n",
    "    'Accept-Encoding':'gzip, deflate ',\n",
    "    'Accept-Language': 'zh-CN',\n",
    "    'Connection':'keep-alive',\n",
    "    'Content-Type':'application/json;charset=UTF-8',\n",
    "    'Cookie': '__jsluid_h=e19768a3a74d5f0175cee66f84784f4a; wdcid=1187b9ab73353a36; 4de1d0bdb25d4625be2481a1b9e1350f=WyIyMDQ3MDc5Nzk3Il0; language=zh-CN; wdlast=1681700338; wdses=378cd3c4985bdd7e',\n",
    "    'Host': 'liuyan.people.com.cn',\n",
    "    'Origin': 'http://liuyan.people.com.cn',\n",
    "    'Referer': 'http://liuyan.people.com.cn/threads/list?checkStatus=0&fid=733&formName=%E4%B8%9C%E5%9F%8E%E5%8C%BA%E5%A7%94%E4%B9%A6%E8%AE%B0%E5%AD%99%E6%96%B0%E5%86%9B&position=0&province=4&city=638&saveLocation=4&pForumNames=%E5%8C%97%E4%BA%AC%E5%B8%82&pForumNames=%E4%B8%9C%E5%9F%8E%E5%8C%BA',\n",
    "    'User-Agent': 'Mozilla/5.0 (Windows NT 10.0; Win64; x64) AppleWebKit/537.36 (KHTML, like Gecko) Chrome/112.0.0.0 Safari/537.36 Edg/112.0.1722.48'}"
   ]
  },
  {
   "cell_type": "code",
   "execution_count": 6,
   "metadata": {},
   "outputs": [],
   "source": [
    "import hashlib\n",
    "def generation_signature(a,t,e=\"/v1/threads/list/df\"):\n",
    "    \"\"\"\n",
    "    a:appCode\n",
    "    t:param\n",
    "    \"\"\"\n",
    "    c=''\n",
    "    s = hashlib.md5(a.encode()).hexdigest()[:16]\n",
    "    text = e+t+s+c\n",
    "    return hashlib.md5(text.encode()).hexdigest()"
   ]
  },
  {
   "cell_type": "markdown",
   "metadata": {},
   "source": [
    "## 获取领导的id编号"
   ]
  },
  {
   "cell_type": "code",
   "execution_count": 7,
   "metadata": {},
   "outputs": [],
   "source": [
    "t = '{\"fid\":72,\"_t\":'+ str(round(time.time()*1000)) + '}'\n",
    "appCode = \"PC42ce3bfa4980a9\"\n",
    "signature = generation_signature(appCode,t,e=\"/v1/forum/getChildForums\")\n",
    "params = {\n",
    "  \"appCode\": appCode,\n",
    "  \"token\": \"\",\n",
    "  \"signature\": signature,\n",
    "  \"param\": t\n",
    "}\n",
    "url = 'http://liuyan.people.com.cn/v1/forum/getChildForums?'\n",
    "leader_result = requests.get(url, headers=headers, params=params).json()\n",
    "leader_fids=[]\n",
    "leader_name=[]\n",
    "leader_tnumYear=[]\n",
    "for i in leader_result['data']:\n",
    "    leader_fids.append(i['fid'])\n",
    "    leader_name.append(i['name'])\n",
    "    leader_tnumYear.append(i['tnumYear'])"
   ]
  },
  {
   "cell_type": "markdown",
   "metadata": {},
   "source": [
    "## 获取文本"
   ]
  },
  {
   "cell_type": "code",
   "execution_count": 223,
   "metadata": {},
   "outputs": [],
   "source": [
    "def process_content(result):\n",
    "    tid = []\n",
    "    forumName = []\n",
    "    subject = []\n",
    "    typeName = []\n",
    "    domainName = []\n",
    "    stateInfo = []\n",
    "    createDateline = []\n",
    "    content = []\n",
    "    for i in result:\n",
    "        tid.append(i['tid'])\n",
    "        forumName.append(i['forumName'])\n",
    "        subject.append(i['subject'])\n",
    "        typeName.append(i['typeName'])\n",
    "        domainName.append(i['domainName'])\n",
    "        stateInfo.append(i['stateInfo'])\n",
    "        date_time = datetime.datetime.fromtimestamp(i['createDateline'])\n",
    "        createDateline.append(date_time.strftime(\"%Y-%m-%d %H:%M:%S\"))\n",
    "        content.append(i['content'])\n",
    "    df = pd.DataFrame({'序号':tid,'领导':forumName,'标题':subject,'类型':typeName,'领域':domainName,'状态':stateInfo,'创建日期':createDateline,'详细内容':content})\n",
    "    return df\n",
    "def continue_process(fid,appCode,lastItem,headers):\n",
    "    param = '{\\\"fid\\\":\\\"' + str(fid) +'\\\",\\\"showUnAnswer\\\":1,\\\"typeId\\\":5,\\\"lastItem\\\":\\\"'+ str(lastItem) +'\\\",\\\"position\\\":\\\"0\\\",\\\"rows\\\":10,\\\"orderType\\\":2}'\n",
    "    signature = generation_signature(appCode,param)\n",
    "    params = {\n",
    "        \"appCode\": appCode,\n",
    "        \"token\": \"\",\n",
    "        \"signature\": signature,\n",
    "        \"param\": param}\n",
    "    return requests.post(url, headers=headers,data=json.dumps(params)).json()"
   ]
  },
  {
   "cell_type": "code",
   "execution_count": 224,
   "metadata": {},
   "outputs": [
    {
     "name": "stdout",
     "output_type": "stream",
     "text": [
      "正在缓冲，等待下一次访问，目前已完成：20\n",
      "正在缓冲，等待下一次访问，目前已完成：30\n",
      "正在缓冲，等待下一次访问，目前已完成：40\n",
      "正在缓冲，等待下一次访问，目前已完成：50\n",
      "正在缓冲，等待下一次访问，目前已完成：60\n",
      "正在缓冲，等待下一次访问，目前已完成：70\n",
      "正在缓冲，等待下一次访问，目前已完成：80\n",
      "正在缓冲，等待下一次访问，目前已完成：90\n",
      "正在缓冲，等待下一次访问，目前已完成：100\n",
      "正在缓冲，等待下一次访问，目前已完成：110\n",
      "正在缓冲，等待下一次访问，目前已完成：120\n",
      "大同市委书记卢东亮已完成\n",
      "正在缓冲，等待下一次访问\n"
     ]
    }
   ],
   "source": [
    "url = 'http://liuyan.people.com.cn/v1/threads/list/df'\n",
    "for n,fid in enumerate(leader_fids):\n",
    "    data_result = pd.DataFrame(data=None,columns=['序号','领导','标题','类型','领域','状态','创建日期','详细内容'])\n",
    "    param = '{\\\"fid\\\":\\\"' + str(fid) +'\\\",\\\"showUnAnswer\\\":1,\\\"typeId\\\":5,\\\"lastItem\\\":\\\"\\\",\\\"position\\\":\\\"0\\\",\\\"rows\\\":10,\\\"orderType\\\":2}'\n",
    "    signature = generation_signature(appCode,param)\n",
    "    params = {\n",
    "        \"appCode\": appCode,\n",
    "        \"token\": \"\",\n",
    "        \"signature\": signature,\n",
    "        \"param\": param}\n",
    "    result = requests.post(url, headers=headers,data=json.dumps(params)).json()\n",
    "    df = process_content(result['resultData']['data'])\n",
    "    data_result = pd.concat([data_result,df],axis=0,ignore_index=True)\n",
    "    \"\"\"\n",
    "    通过最后一条留言的id爬取“加载更多”中的信息\n",
    "    \"\"\"\n",
    "    while len(data_result) < leader_tnumYear[n]-1:\n",
    "        result = continue_process(fid,appCode,result['resultData']['data'][-1]['tid'],headers)\n",
    "        try:\n",
    "            df = process_content(result['resultData']['data'])\n",
    "        except:\n",
    "            break\n",
    "        data_result = pd.concat([data_result,df],axis=0,ignore_index=True)\n",
    "        print('正在缓冲，等待下一次访问，目前已完成：'+ str(len(data_result)))\n",
    "        time.sleep(10)\n",
    "    data_result.to_csv(str(leader_name[n])+'.csv')\n",
    "    print(str(leader_name[n])+'已完成')\n",
    "    if n < len(leader_fids)-1:\n",
    "        print('正在缓冲，等待下一次访问')\n",
    "    time.sleep(10)\n",
    "    break"
   ]
  },
  {
   "cell_type": "code",
   "execution_count": null,
   "metadata": {},
   "outputs": [],
   "source": []
  }
 ],
 "metadata": {
  "kernelspec": {
   "display_name": "zxx",
   "language": "python",
   "name": "zxx"
  },
  "language_info": {
   "codemirror_mode": {
    "name": "ipython",
    "version": 3
   },
   "file_extension": ".py",
   "mimetype": "text/x-python",
   "name": "python",
   "nbconvert_exporter": "python",
   "pygments_lexer": "ipython3",
   "version": "3.8.15"
  }
 },
 "nbformat": 4,
 "nbformat_minor": 4
}
