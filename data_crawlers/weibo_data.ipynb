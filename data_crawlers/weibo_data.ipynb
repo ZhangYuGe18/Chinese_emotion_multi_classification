{
 "cells": [
  {
   "cell_type": "code",
   "execution_count": 45,
   "metadata": {},
   "outputs": [],
   "source": [
    "import os \n",
    "import re \n",
    "import requests \n",
    "import pandas as pd \n",
    "import datetime \n",
    "import json\n",
    "from tqdm import tqdm"
   ]
  },
  {
   "cell_type": "markdown",
   "metadata": {},
   "source": [
    "# 配置表头"
   ]
  },
  {
   "cell_type": "markdown",
   "metadata": {},
   "source": [
    "在请求网页爬取的时候，输出的text信息中会出现抱歉，无法访问等字眼，这就是禁止爬取，需要通过反爬机制去解决这个问题。\n",
    "\n",
    "headers是解决requests请求反爬的方法之一，相当于我们进去这个网页的服务器本身，假装自己本身在爬取数据。\n",
    "\n",
    "对反爬虫网页，可以设置一些headers信息，模拟成浏览器取访问网站 。"
   ]
  },
  {
   "cell_type": "code",
   "execution_count": 2,
   "metadata": {},
   "outputs": [],
   "source": [
    "# 请求头\n",
    "headers = {\n",
    "    \"User-Agent\": \"Mozilla/5.0 (Windows NT 10.0; Win64; x64) AppleWebKit/537.36 (KHTML, like Gecko) Chrome/111.0.0.0 Safari/537.36 Edg/111.0.1661.51\",\n",
    "}"
   ]
  },
  {
   "cell_type": "markdown",
   "metadata": {},
   "source": [
    "# 通过指定地名爬取数据"
   ]
  },
  {
   "cell_type": "markdown",
   "metadata": {},
   "source": [
    "## 获取地点对应的containerid"
   ]
  },
  {
   "cell_type": "code",
   "execution_count": 46,
   "metadata": {},
   "outputs": [
    {
     "name": "stdout",
     "output_type": "stream",
     "text": [
      "[东城区]对应的containerid是：100808346303016f6ab9bf392b922011a70464_-_lbs\n"
     ]
    },
    {
     "data": {
      "text/plain": [
       "'100808346303016f6ab9bf392b922011a70464_-_lbs'"
      ]
     },
     "execution_count": 46,
     "metadata": {},
     "output_type": "execute_result"
    }
   ],
   "source": [
    "def get_containerid(v_loc):\n",
    "    \"\"\"\n",
    "    :param v_loc: 地点\n",
    "    :return: containerid\n",
    "    \"\"\"\n",
    "    url = 'https://m.weibo.cn/api/container/getIndex'\n",
    "    # 请求参数\n",
    "    params = {\n",
    "        \"containerid\": \"100103type=92&q={}&t=\".format(v_loc),\n",
    "        \"page_type\": \"searchall\",\n",
    "    }\n",
    "    r = requests.get(url, headers=headers, params=params)\n",
    "    cards = r.json()[\"data\"][\"cards\"]\n",
    "    scheme = cards[0]['card_group'][0]['scheme']  # 取第一个\n",
    "    containerid = re.findall(r'containerid=(.*?)&', scheme)[0]\n",
    "    print('[{}]对应的containerid是：{}'.format(v_loc, containerid))\n",
    "    return containerid\n",
    "get_containerid('东城区')"
   ]
  },
  {
   "cell_type": "markdown",
   "metadata": {},
   "source": [
    "## 功能函数"
   ]
  },
  {
   "cell_type": "code",
   "execution_count": 28,
   "metadata": {},
   "outputs": [],
   "source": [
    "def trans_time(v_str):\n",
    "    \"\"\"转换GMT时间为标准格式\"\"\"\n",
    "    GMT_FORMAT = '%a %b %d %H:%M:%S +0800 %Y'\n",
    "    timeArray = datetime.datetime.strptime(v_str, GMT_FORMAT)\n",
    "    ret_time = timeArray.strftime(\"%Y-%m-%d %H:%M:%S\")\n",
    "    return ret_time"
   ]
  },
  {
   "cell_type": "code",
   "execution_count": 29,
   "metadata": {},
   "outputs": [],
   "source": [
    "def data_clean(text):\n",
    "    # 删除表情符号\n",
    "    text = re.sub(r'<img.*?>', '', text)\n",
    "    # 删除URL链接\n",
    "    text = re.sub(r'<a.*?>|</a>', '', text)\n",
    "    # 删除地址信息\n",
    "    text = re.sub(r'<span class=\\'url-icon\\'>.*?</span><span class=\"surl-text\">(.*?)</span>', '', text)\n",
    "    # 只保留中文信息\n",
    "    text = re.sub(r'[^\\u4e00-\\u9fa5]+', '', text)\n",
    "    return text"
   ]
  },
  {
   "cell_type": "markdown",
   "metadata": {},
   "source": [
    "## 爬取微博内容"
   ]
  },
  {
   "cell_type": "code",
   "execution_count": 47,
   "metadata": {},
   "outputs": [
    {
     "name": "stdout",
     "output_type": "stream",
     "text": [
      "[东城区]对应的containerid是：100808346303016f6ab9bf392b922011a70464_-_lbs\n"
     ]
    },
    {
     "name": "stderr",
     "output_type": "stream",
     "text": [
      "100%|████████████████████████████████████████████████████████████████████████████████████| 8/8 [00:04<00:00,  1.70it/s]\n"
     ]
    }
   ],
   "source": [
    "# 请求地址\n",
    "url = 'https://m.weibo.cn/api/container/getIndex'\n",
    "# 请求参数\n",
    "v_keyword = '东城区'\n",
    "result_text = []#文本\n",
    "result_time = []#时间\n",
    "comments_count = []#评论数量\n",
    "attitudes_count = []#点赞数量\n",
    "containerid = get_containerid(v_keyword)\n",
    "for n in tqdm(range(2,10)):\n",
    "    params = {\n",
    "        \"containerid\": containerid,\n",
    "        \"luicode\": \"10000011\",\n",
    "        \"lcardid\": \"frompoi\",\n",
    "        \"extparam\": \"frompoi\",\n",
    "        \"lfid\": \"100103type=1&q={}\".format(v_keyword),\n",
    "        \"since_id\": n}\n",
    "    r = requests.get(url, headers=headers, params=params) \n",
    "    data = r.json()[\"data\"]\n",
    "    for i in data['cards'][0]['card_group']:\n",
    "        text = i['mblog']['text']\n",
    "        if \"抱歉，此微博已被删除。查看帮助：\" in text:\n",
    "            continue\n",
    "        result_text.append(data_clean(text))\n",
    "        result_time.append(trans_time(i['mblog']['created_at']))\n",
    "        comments_count.append(i['mblog']['comments_count'])\n",
    "        attitudes_count.append(i['mblog']['attitudes_count'])"
   ]
  },
  {
   "cell_type": "code",
   "execution_count": 48,
   "metadata": {},
   "outputs": [
    {
     "data": {
      "text/html": [
       "<div>\n",
       "<style scoped>\n",
       "    .dataframe tbody tr th:only-of-type {\n",
       "        vertical-align: middle;\n",
       "    }\n",
       "\n",
       "    .dataframe tbody tr th {\n",
       "        vertical-align: top;\n",
       "    }\n",
       "\n",
       "    .dataframe thead th {\n",
       "        text-align: right;\n",
       "    }\n",
       "</style>\n",
       "<table border=\"1\" class=\"dataframe\">\n",
       "  <thead>\n",
       "    <tr style=\"text-align: right;\">\n",
       "      <th></th>\n",
       "      <th>result_text</th>\n",
       "      <th>result_time</th>\n",
       "      <th>comments_count</th>\n",
       "      <th>attitudes_count</th>\n",
       "    </tr>\n",
       "  </thead>\n",
       "  <tbody>\n",
       "    <tr>\n",
       "      <th>0</th>\n",
       "      <td>喝了一周药渣才发现提示</td>\n",
       "      <td>2023-04-20 11:29:06</td>\n",
       "      <td>4</td>\n",
       "      <td>1</td>\n",
       "    </tr>\n",
       "    <tr>\n",
       "      <th>1</th>\n",
       "      <td>驻京办变浙里办的一天感谢黑客酿造从杭州带来的青团和笋干喝过的啤酒数量来到颇具纪念意义的款</td>\n",
       "      <td>2023-04-20 16:26:21</td>\n",
       "      <td>2</td>\n",
       "      <td>1</td>\n",
       "    </tr>\n",
       "    <tr>\n",
       "      <th>2</th>\n",
       "      <td></td>\n",
       "      <td>2023-04-16 10:56:52</td>\n",
       "      <td>0</td>\n",
       "      <td>1</td>\n",
       "    </tr>\n",
       "    <tr>\n",
       "      <th>3</th>\n",
       "      <td>江南赋</td>\n",
       "      <td>2023-04-20 00:32:44</td>\n",
       "      <td>0</td>\n",
       "      <td>0</td>\n",
       "    </tr>\n",
       "    <tr>\n",
       "      <th>4</th>\n",
       "      <td>红墙蓝天紫藤花孔庙国子监</td>\n",
       "      <td>2023-04-19 18:51:55</td>\n",
       "      <td>0</td>\n",
       "      <td>3</td>\n",
       "    </tr>\n",
       "    <tr>\n",
       "      <th>...</th>\n",
       "      <td>...</td>\n",
       "      <td>...</td>\n",
       "      <td>...</td>\n",
       "      <td>...</td>\n",
       "    </tr>\n",
       "    <tr>\n",
       "      <th>122</th>\n",
       "      <td>去北京一定要看天气没蓝天的照片效果真的一般</td>\n",
       "      <td>2023-04-20 18:46:26</td>\n",
       "      <td>0</td>\n",
       "      <td>0</td>\n",
       "    </tr>\n",
       "    <tr>\n",
       "      <th>123</th>\n",
       "      <td>终于不再是黑白灰了</td>\n",
       "      <td>2023-04-19 09:15:07</td>\n",
       "      <td>1</td>\n",
       "      <td>3</td>\n",
       "    </tr>\n",
       "    <tr>\n",
       "      <th>124</th>\n",
       "      <td></td>\n",
       "      <td>2023-04-19 23:53:49</td>\n",
       "      <td>0</td>\n",
       "      <td>7</td>\n",
       "    </tr>\n",
       "    <tr>\n",
       "      <th>125</th>\n",
       "      <td>浅浅的体验了一把北京红衣服的阿姨自从知道我和她顺路之后就一直带着我走怕我找不到给我找座位甚至...</td>\n",
       "      <td>2023-04-20 19:46:40</td>\n",
       "      <td>0</td>\n",
       "      <td>0</td>\n",
       "    </tr>\n",
       "    <tr>\n",
       "      <th>126</th>\n",
       "      <td>记录一下</td>\n",
       "      <td>2023-04-18 20:04:14</td>\n",
       "      <td>26</td>\n",
       "      <td>22</td>\n",
       "    </tr>\n",
       "  </tbody>\n",
       "</table>\n",
       "<p>127 rows × 4 columns</p>\n",
       "</div>"
      ],
      "text/plain": [
       "                                           result_text          result_time  \\\n",
       "0                                          喝了一周药渣才发现提示  2023-04-20 11:29:06   \n",
       "1         驻京办变浙里办的一天感谢黑客酿造从杭州带来的青团和笋干喝过的啤酒数量来到颇具纪念意义的款  2023-04-20 16:26:21   \n",
       "2                                                       2023-04-16 10:56:52   \n",
       "3                                                  江南赋  2023-04-20 00:32:44   \n",
       "4                                         红墙蓝天紫藤花孔庙国子监  2023-04-19 18:51:55   \n",
       "..                                                 ...                  ...   \n",
       "122                              去北京一定要看天气没蓝天的照片效果真的一般  2023-04-20 18:46:26   \n",
       "123                                          终于不再是黑白灰了  2023-04-19 09:15:07   \n",
       "124                                                     2023-04-19 23:53:49   \n",
       "125  浅浅的体验了一把北京红衣服的阿姨自从知道我和她顺路之后就一直带着我走怕我找不到给我找座位甚至...  2023-04-20 19:46:40   \n",
       "126                                               记录一下  2023-04-18 20:04:14   \n",
       "\n",
       "     comments_count  attitudes_count  \n",
       "0                 4                1  \n",
       "1                 2                1  \n",
       "2                 0                1  \n",
       "3                 0                0  \n",
       "4                 0                3  \n",
       "..              ...              ...  \n",
       "122               0                0  \n",
       "123               1                3  \n",
       "124               0                7  \n",
       "125               0                0  \n",
       "126              26               22  \n",
       "\n",
       "[127 rows x 4 columns]"
      ]
     },
     "execution_count": 48,
     "metadata": {},
     "output_type": "execute_result"
    }
   ],
   "source": [
    "result={\"result_text\":result_text,\"result_time\":result_time,\"comments_count\":comments_count,\"attitudes_count\":attitudes_count}\n",
    "data=pd.DataFrame(result)\n",
    "data.to_csv(str(v_keyword)+'.csv')\n",
    "data"
   ]
  },
  {
   "cell_type": "markdown",
   "metadata": {},
   "source": [
    "# 通过地理坐标进行数据爬取"
   ]
  },
  {
   "cell_type": "code",
   "execution_count": 32,
   "metadata": {},
   "outputs": [],
   "source": [
    "def get_containerid_by_coordinate(longitude,latitude,zoom=15):\n",
    "    longitude = '{:.5f}'.format(float(longitude))\n",
    "    latitude =  '{:.5f}'.format(float(latitude))\n",
    "    return \"2306570043_{}_{}_{}\".format(str(longitude),str(latitude),str(zoom))"
   ]
  },
  {
   "cell_type": "code",
   "execution_count": 40,
   "metadata": {
    "scrolled": true
   },
   "outputs": [],
   "source": [
    "longitude = '116.45858'\n",
    "latitude = '39.88772'\n",
    "zoom = '13'\n",
    "url='https://m.weibo.cn/api/container/getIndex?'\n",
    "params = {'containerid':get_containerid_by_coordinate(longitude,latitude),'extparam':'map__',}\n",
    "r = requests.get(url, headers=headers, params=params)\n",
    "data = r.json()['data']"
   ]
  },
  {
   "cell_type": "code",
   "execution_count": 43,
   "metadata": {},
   "outputs": [],
   "source": [
    "result_text = []#文本\n",
    "result_time = []#时间\n",
    "comments_count = []#评论数量\n",
    "attitudes_count = []#点赞数量\n",
    "for i in data['cards'][1]['card_group']:\n",
    "        text = i['mblog']['text']\n",
    "        if \"抱歉，此微博已被删除。查看帮助：\" in text:\n",
    "            continue\n",
    "        result_text.append(data_clean(text))\n",
    "        result_time.append(trans_time(i['mblog']['created_at']))\n",
    "        comments_count.append(i['mblog']['comments_count'])\n",
    "        attitudes_count.append(i['mblog']['attitudes_count'])"
   ]
  },
  {
   "cell_type": "code",
   "execution_count": 44,
   "metadata": {
    "scrolled": true
   },
   "outputs": [
    {
     "data": {
      "text/html": [
       "<div>\n",
       "<style scoped>\n",
       "    .dataframe tbody tr th:only-of-type {\n",
       "        vertical-align: middle;\n",
       "    }\n",
       "\n",
       "    .dataframe tbody tr th {\n",
       "        vertical-align: top;\n",
       "    }\n",
       "\n",
       "    .dataframe thead th {\n",
       "        text-align: right;\n",
       "    }\n",
       "</style>\n",
       "<table border=\"1\" class=\"dataframe\">\n",
       "  <thead>\n",
       "    <tr style=\"text-align: right;\">\n",
       "      <th></th>\n",
       "      <th>result_text</th>\n",
       "      <th>result_time</th>\n",
       "      <th>comments_count</th>\n",
       "      <th>attitudes_count</th>\n",
       "    </tr>\n",
       "  </thead>\n",
       "  <tbody>\n",
       "    <tr>\n",
       "      <th>0</th>\n",
       "      <td>没有什么比家人在一起更快乐的啦</td>\n",
       "      <td>2023-04-19 23:13:20</td>\n",
       "      <td>0</td>\n",
       "      <td>4</td>\n",
       "    </tr>\n",
       "    <tr>\n",
       "      <th>1</th>\n",
       "      <td>我的青春回来啦</td>\n",
       "      <td>2023-04-20 14:28:06</td>\n",
       "      <td>1</td>\n",
       "      <td>1</td>\n",
       "    </tr>\n",
       "    <tr>\n",
       "      <th>2</th>\n",
       "      <td>高温预警</td>\n",
       "      <td>2023-04-19 21:09:06</td>\n",
       "      <td>0</td>\n",
       "      <td>1</td>\n",
       "    </tr>\n",
       "    <tr>\n",
       "      <th>3</th>\n",
       "      <td>世界读书日读名著真的有用么小姐见影本期想说真的有用阴阳差错在灌篮高手的内地公映首日夜场补看了...</td>\n",
       "      <td>2023-04-19 23:34:08</td>\n",
       "      <td>3</td>\n",
       "      <td>2</td>\n",
       "    </tr>\n",
       "    <tr>\n",
       "      <th>4</th>\n",
       "      <td>我的意思是那一刻我好幸福</td>\n",
       "      <td>2023-04-20 15:29:52</td>\n",
       "      <td>2</td>\n",
       "      <td>0</td>\n",
       "    </tr>\n",
       "    <tr>\n",
       "      <th>5</th>\n",
       "      <td>十号线劲松劲松二区三家合住精装修看房电话同</td>\n",
       "      <td>2023-04-18 14:39:11</td>\n",
       "      <td>0</td>\n",
       "      <td>0</td>\n",
       "    </tr>\n",
       "    <tr>\n",
       "      <th>6</th>\n",
       "      <td>国贸合生汇附近号线双井地铁站号线九龙山地铁站旁边百环家园东区超大正规次卧电话同北京朝阳区租房...</td>\n",
       "      <td>2023-04-18 14:58:17</td>\n",
       "      <td>24</td>\n",
       "      <td>25</td>\n",
       "    </tr>\n",
       "    <tr>\n",
       "      <th>7</th>\n",
       "      <td></td>\n",
       "      <td>2023-04-18 16:45:09</td>\n",
       "      <td>0</td>\n",
       "      <td>3</td>\n",
       "    </tr>\n",
       "    <tr>\n",
       "      <th>8</th>\n",
       "      <td>无力</td>\n",
       "      <td>2023-04-19 11:09:18</td>\n",
       "      <td>2</td>\n",
       "      <td>0</td>\n",
       "    </tr>\n",
       "    <tr>\n",
       "      <th>9</th>\n",
       "      <td>分享图片</td>\n",
       "      <td>2023-04-19 18:39:36</td>\n",
       "      <td>1</td>\n",
       "      <td>3</td>\n",
       "    </tr>\n",
       "  </tbody>\n",
       "</table>\n",
       "</div>"
      ],
      "text/plain": [
       "                                         result_text          result_time  \\\n",
       "0                                    没有什么比家人在一起更快乐的啦  2023-04-19 23:13:20   \n",
       "1                                            我的青春回来啦  2023-04-20 14:28:06   \n",
       "2                                               高温预警  2023-04-19 21:09:06   \n",
       "3  世界读书日读名著真的有用么小姐见影本期想说真的有用阴阳差错在灌篮高手的内地公映首日夜场补看了...  2023-04-19 23:34:08   \n",
       "4                                       我的意思是那一刻我好幸福  2023-04-20 15:29:52   \n",
       "5                              十号线劲松劲松二区三家合住精装修看房电话同  2023-04-18 14:39:11   \n",
       "6  国贸合生汇附近号线双井地铁站号线九龙山地铁站旁边百环家园东区超大正规次卧电话同北京朝阳区租房...  2023-04-18 14:58:17   \n",
       "7                                                     2023-04-18 16:45:09   \n",
       "8                                                 无力  2023-04-19 11:09:18   \n",
       "9                                               分享图片  2023-04-19 18:39:36   \n",
       "\n",
       "   comments_count  attitudes_count  \n",
       "0               0                4  \n",
       "1               1                1  \n",
       "2               0                1  \n",
       "3               3                2  \n",
       "4               2                0  \n",
       "5               0                0  \n",
       "6              24               25  \n",
       "7               0                3  \n",
       "8               2                0  \n",
       "9               1                3  "
      ]
     },
     "execution_count": 44,
     "metadata": {},
     "output_type": "execute_result"
    }
   ],
   "source": [
    "result={\"result_text\":result_text,\"result_time\":result_time,\"comments_count\":comments_count,\"attitudes_count\":attitudes_count}\n",
    "data=pd.DataFrame(result)\n",
    "data.to_csv(str(v_keyword)+'.csv')\n",
    "data"
   ]
  },
  {
   "cell_type": "code",
   "execution_count": null,
   "metadata": {},
   "outputs": [],
   "source": []
  }
 ],
 "metadata": {
  "kernelspec": {
   "display_name": "zxx",
   "language": "python",
   "name": "zxx"
  },
  "language_info": {
   "codemirror_mode": {
    "name": "ipython",
    "version": 3
   },
   "file_extension": ".py",
   "mimetype": "text/x-python",
   "name": "python",
   "nbconvert_exporter": "python",
   "pygments_lexer": "ipython3",
   "version": "3.8.15"
  }
 },
 "nbformat": 4,
 "nbformat_minor": 4
}
